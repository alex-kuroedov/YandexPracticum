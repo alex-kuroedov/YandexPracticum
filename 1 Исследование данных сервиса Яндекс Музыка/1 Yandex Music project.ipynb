{
 "cells": [
  {
   "cell_type": "markdown",
   "metadata": {},
   "source": [
    "# Исследование данных сервиса “Яндекс.Музыка”"
   ]
  },
  {
   "cell_type": "markdown",
   "metadata": {
    "id": "VUC88oWjTJw2"
   },
   "source": [
    "На данных Яндекс Музыки сравним поведение пользователей двух столиц.\n",
    "\n",
    "**Цель исследования** — проверить три гипотезы:\n",
    "1. Активность пользователей зависит от дня недели. Причём в Москве и Петербурге это проявляется по-разному.\n",
    "2. В понедельник утром в Москве преобладают одни жанры, а в Петербурге — другие. Так же и вечером пятницы преобладают разные жанры — в зависимости от города. \n",
    "3. Москва и Петербург предпочитают разные жанры музыки. В Москве чаще слушают поп-музыку, в Петербурге — русский рэп."
   ]
  },
  {
   "cell_type": "markdown",
   "metadata": {
    "id": "Ml1hmfXC_Zcs"
   },
   "source": [
    "## Обзор данных"
   ]
  },
  {
   "cell_type": "code",
   "execution_count": 1,
   "metadata": {
    "deletable": false,
    "id": "AXN7PHPN_Zcs"
   },
   "outputs": [
    {
     "data": {
      "text/html": [
       "<div>\n",
       "<style scoped>\n",
       "    .dataframe tbody tr th:only-of-type {\n",
       "        vertical-align: middle;\n",
       "    }\n",
       "\n",
       "    .dataframe tbody tr th {\n",
       "        vertical-align: top;\n",
       "    }\n",
       "\n",
       "    .dataframe thead th {\n",
       "        text-align: right;\n",
       "    }\n",
       "</style>\n",
       "<table border=\"1\" class=\"dataframe\">\n",
       "  <thead>\n",
       "    <tr style=\"text-align: right;\">\n",
       "      <th></th>\n",
       "      <th>userID</th>\n",
       "      <th>Track</th>\n",
       "      <th>artist</th>\n",
       "      <th>genre</th>\n",
       "      <th>City</th>\n",
       "      <th>time</th>\n",
       "      <th>Day</th>\n",
       "    </tr>\n",
       "  </thead>\n",
       "  <tbody>\n",
       "    <tr>\n",
       "      <th>0</th>\n",
       "      <td>FFB692EC</td>\n",
       "      <td>Kamigata To Boots</td>\n",
       "      <td>The Mass Missile</td>\n",
       "      <td>rock</td>\n",
       "      <td>Saint-Petersburg</td>\n",
       "      <td>20:28:33</td>\n",
       "      <td>Wednesday</td>\n",
       "    </tr>\n",
       "    <tr>\n",
       "      <th>1</th>\n",
       "      <td>55204538</td>\n",
       "      <td>Delayed Because of Accident</td>\n",
       "      <td>Andreas Rönnberg</td>\n",
       "      <td>rock</td>\n",
       "      <td>Moscow</td>\n",
       "      <td>14:07:09</td>\n",
       "      <td>Friday</td>\n",
       "    </tr>\n",
       "    <tr>\n",
       "      <th>2</th>\n",
       "      <td>20EC38</td>\n",
       "      <td>Funiculì funiculà</td>\n",
       "      <td>Mario Lanza</td>\n",
       "      <td>pop</td>\n",
       "      <td>Saint-Petersburg</td>\n",
       "      <td>20:58:07</td>\n",
       "      <td>Wednesday</td>\n",
       "    </tr>\n",
       "    <tr>\n",
       "      <th>3</th>\n",
       "      <td>A3DD03C9</td>\n",
       "      <td>Dragons in the Sunset</td>\n",
       "      <td>Fire + Ice</td>\n",
       "      <td>folk</td>\n",
       "      <td>Saint-Petersburg</td>\n",
       "      <td>08:37:09</td>\n",
       "      <td>Monday</td>\n",
       "    </tr>\n",
       "    <tr>\n",
       "      <th>4</th>\n",
       "      <td>E2DC1FAE</td>\n",
       "      <td>Soul People</td>\n",
       "      <td>Space Echo</td>\n",
       "      <td>dance</td>\n",
       "      <td>Moscow</td>\n",
       "      <td>08:34:34</td>\n",
       "      <td>Monday</td>\n",
       "    </tr>\n",
       "    <tr>\n",
       "      <th>5</th>\n",
       "      <td>842029A1</td>\n",
       "      <td>Преданная</td>\n",
       "      <td>IMPERVTOR</td>\n",
       "      <td>rusrap</td>\n",
       "      <td>Saint-Petersburg</td>\n",
       "      <td>13:09:41</td>\n",
       "      <td>Friday</td>\n",
       "    </tr>\n",
       "    <tr>\n",
       "      <th>6</th>\n",
       "      <td>4CB90AA5</td>\n",
       "      <td>True</td>\n",
       "      <td>Roman Messer</td>\n",
       "      <td>dance</td>\n",
       "      <td>Moscow</td>\n",
       "      <td>13:00:07</td>\n",
       "      <td>Wednesday</td>\n",
       "    </tr>\n",
       "    <tr>\n",
       "      <th>7</th>\n",
       "      <td>F03E1C1F</td>\n",
       "      <td>Feeling This Way</td>\n",
       "      <td>Polina Griffith</td>\n",
       "      <td>dance</td>\n",
       "      <td>Moscow</td>\n",
       "      <td>20:47:49</td>\n",
       "      <td>Wednesday</td>\n",
       "    </tr>\n",
       "    <tr>\n",
       "      <th>8</th>\n",
       "      <td>8FA1D3BE</td>\n",
       "      <td>И вновь продолжается бой</td>\n",
       "      <td>NaN</td>\n",
       "      <td>ruspop</td>\n",
       "      <td>Moscow</td>\n",
       "      <td>09:17:40</td>\n",
       "      <td>Friday</td>\n",
       "    </tr>\n",
       "    <tr>\n",
       "      <th>9</th>\n",
       "      <td>E772D5C0</td>\n",
       "      <td>Pessimist</td>\n",
       "      <td>NaN</td>\n",
       "      <td>dance</td>\n",
       "      <td>Saint-Petersburg</td>\n",
       "      <td>21:20:49</td>\n",
       "      <td>Wednesday</td>\n",
       "    </tr>\n",
       "  </tbody>\n",
       "</table>\n",
       "</div>"
      ],
      "text/plain": [
       "     userID                        Track            artist   genre  \\\n",
       "0  FFB692EC            Kamigata To Boots  The Mass Missile    rock   \n",
       "1  55204538  Delayed Because of Accident  Andreas Rönnberg    rock   \n",
       "2    20EC38            Funiculì funiculà       Mario Lanza     pop   \n",
       "3  A3DD03C9        Dragons in the Sunset        Fire + Ice    folk   \n",
       "4  E2DC1FAE                  Soul People        Space Echo   dance   \n",
       "5  842029A1                    Преданная         IMPERVTOR  rusrap   \n",
       "6  4CB90AA5                         True      Roman Messer   dance   \n",
       "7  F03E1C1F             Feeling This Way   Polina Griffith   dance   \n",
       "8  8FA1D3BE     И вновь продолжается бой               NaN  ruspop   \n",
       "9  E772D5C0                    Pessimist               NaN   dance   \n",
       "\n",
       "             City        time        Day  \n",
       "0  Saint-Petersburg  20:28:33  Wednesday  \n",
       "1            Moscow  14:07:09     Friday  \n",
       "2  Saint-Petersburg  20:58:07  Wednesday  \n",
       "3  Saint-Petersburg  08:37:09     Monday  \n",
       "4            Moscow  08:34:34     Monday  \n",
       "5  Saint-Petersburg  13:09:41     Friday  \n",
       "6            Moscow  13:00:07  Wednesday  \n",
       "7            Moscow  20:47:49  Wednesday  \n",
       "8            Moscow  09:17:40     Friday  \n",
       "9  Saint-Petersburg  21:20:49  Wednesday  "
      ]
     },
     "execution_count": 1,
     "metadata": {},
     "output_type": "execute_result"
    }
   ],
   "source": [
    "import pandas as pd\n",
    "df = pd.read_csv('C:/Users/aleks/practicum/datasets/yandex_music_project.csv')\n",
    "df.head(10)"
   ]
  },
  {
   "cell_type": "code",
   "execution_count": 2,
   "metadata": {
    "id": "DSf2kIb-_Zct"
   },
   "outputs": [
    {
     "name": "stdout",
     "output_type": "stream",
     "text": [
      "<class 'pandas.core.frame.DataFrame'>\n",
      "RangeIndex: 65079 entries, 0 to 65078\n",
      "Data columns (total 7 columns):\n",
      " #   Column    Non-Null Count  Dtype \n",
      "---  ------    --------------  ----- \n",
      " 0     userID  65079 non-null  object\n",
      " 1   Track     63848 non-null  object\n",
      " 2   artist    57876 non-null  object\n",
      " 3   genre     63881 non-null  object\n",
      " 4     City    65079 non-null  object\n",
      " 5   time      65079 non-null  object\n",
      " 6   Day       65079 non-null  object\n",
      "dtypes: object(7)\n",
      "memory usage: 3.5+ MB\n"
     ]
    }
   ],
   "source": [
    "df.info()"
   ]
  },
  {
   "cell_type": "markdown",
   "metadata": {
    "id": "TaQ2Iwbr_Zct"
   },
   "source": [
    "Итак, в таблице семь столбцов. Тип данных во всех столбцах — `object`.\n",
    "\n",
    "Согласно документации к данным:\n",
    "* `userID` — идентификатор пользователя;\n",
    "* `Track` — название трека;  \n",
    "* `artist` — имя исполнителя;\n",
    "* `genre` — название жанра;\n",
    "* `City` — город пользователя;\n",
    "* `time` — время начала прослушивания;\n",
    "* `Day` — день недели.\n",
    "\n",
    "Количество значений в столбцах различается. Значит, в данных есть пропущенные значения."
   ]
  },
  {
   "cell_type": "markdown",
   "metadata": {
    "id": "MCB6-dXG_Zct"
   },
   "source": [
    "**Выводы:**\n",
    "\n",
    "В каждой строке таблицы — данные о прослушанном треке. Часть колонок описывает саму композицию: название, исполнителя и жанр. Остальные данные рассказывают о пользователе: из какого он города, когда он слушал музыку. \n",
    "\n",
    "Предварительно можно утверждать, что данных достаточно для проверки гипотез. Но встречаются пропуски в данных, а в названиях колонок — расхождения с хорошим стилем. Нужно устранить проблемы в данных."
   ]
  },
  {
   "cell_type": "markdown",
   "metadata": {
    "id": "SjYF6Ub9_Zct"
   },
   "source": [
    "## Предобработка данных\n"
   ]
  },
  {
   "cell_type": "markdown",
   "metadata": {
    "id": "dIaKXr29_Zct",
    "tags": [
     "start_task"
    ]
   },
   "source": [
    "### Переименуем столбцы."
   ]
  },
  {
   "cell_type": "code",
   "execution_count": 31,
   "metadata": {
    "id": "oKOTdF_Q_Zct"
   },
   "outputs": [
    {
     "data": {
      "text/plain": [
       "Index(['user_id', 'track', 'artist', 'genre', 'city', 'time', 'day'], dtype='object')"
      ]
     },
     "execution_count": 31,
     "metadata": {},
     "output_type": "execute_result"
    }
   ],
   "source": [
    "# сначала ознакомимся\n",
    "df.columns"
   ]
  },
  {
   "cell_type": "code",
   "execution_count": 32,
   "metadata": {
    "id": "ISlFqs5y_Zct"
   },
   "outputs": [
    {
     "data": {
      "text/plain": [
       "Index(['user_id', 'track', 'artist', 'genre', 'city', 'time', 'day'], dtype='object')"
      ]
     },
     "execution_count": 32,
     "metadata": {},
     "output_type": "execute_result"
    }
   ],
   "source": [
    "# привёдем к \"змеиному регистру\"\n",
    "df = df.rename(columns={'  userID':'user_id','Track':'track','  City  ':'city','Day':'day'})\n",
    "df.columns"
   ]
  },
  {
   "cell_type": "markdown",
   "metadata": {
    "id": "5ISfbcfY_Zct",
    "tags": [
     "start_task"
    ]
   },
   "source": [
    "### Обработаем пропуски."
   ]
  },
  {
   "cell_type": "code",
   "execution_count": 5,
   "metadata": {
    "id": "RskX29qr_Zct"
   },
   "outputs": [
    {
     "data": {
      "text/plain": [
       "user_id       0\n",
       "track      1231\n",
       "artist     7203\n",
       "genre      1198\n",
       "city          0\n",
       "time          0\n",
       "day           0\n",
       "dtype: int64"
      ]
     },
     "execution_count": 5,
     "metadata": {},
     "output_type": "execute_result"
    }
   ],
   "source": [
    "df.isna().sum()"
   ]
  },
  {
   "cell_type": "markdown",
   "metadata": {
    "id": "qubhgnlO_Zct"
   },
   "source": [
    "Не все пропущенные значения влияют на исследование. Так в `track` и `artist` пропуски не важны для вашей работы. Достаточно заменить их явными обозначениями.\n",
    "\n",
    "Но пропуски в `genre` могут помешать сравнению музыкальных вкусов в Москве и Санкт-Петербурге. На практике было бы правильно установить причину пропусков и восстановить данные. Такой возможности нет в учебном проекте. Придётся:\n",
    "* заполнить и эти пропуски явными обозначениями;\n",
    "* оценить, насколько они повредят расчётам. "
   ]
  },
  {
   "cell_type": "markdown",
   "metadata": {
    "id": "fSv2laPA_Zct",
    "tags": [
     "start_task"
    ]
   },
   "source": [
    "Заменим пропущенные значения в столбцах `track`, `artist` и `genre` на строку `'unknown'`. Создадим список `columns_to_replace`, переберём его элементы циклом `for` и для каждого столбца выполним замену пропущенных значений:"
   ]
  },
  {
   "cell_type": "code",
   "execution_count": 6,
   "metadata": {
    "id": "KplB5qWs_Zct"
   },
   "outputs": [],
   "source": [
    "columns_to_replace = ['track','artist','genre']\n",
    "for col in columns_to_replace:\n",
    "    df[col] = df[col].fillna('unknown')"
   ]
  },
  {
   "cell_type": "markdown",
   "metadata": {
    "id": "Ilsm-MZo_Zct",
    "tags": [
     "start_task"
    ]
   },
   "source": [
    "Убедимся, что в таблице не осталось пропусков."
   ]
  },
  {
   "cell_type": "code",
   "execution_count": 7,
   "metadata": {
    "id": "Tq4nYRX4_Zct"
   },
   "outputs": [
    {
     "data": {
      "text/plain": [
       "user_id    0\n",
       "track      0\n",
       "artist     0\n",
       "genre      0\n",
       "city       0\n",
       "time       0\n",
       "day        0\n",
       "dtype: int64"
      ]
     },
     "execution_count": 7,
     "metadata": {},
     "output_type": "execute_result"
    }
   ],
   "source": [
    "df.isna().sum()"
   ]
  },
  {
   "cell_type": "markdown",
   "metadata": {
    "id": "BWKRtBJ3_Zct",
    "tags": [
     "start_task"
    ]
   },
   "source": [
    "### Обработаем дубликаты.\n",
    "\n",
    "Посчитаем явные дубликаты."
   ]
  },
  {
   "cell_type": "code",
   "execution_count": 8,
   "metadata": {
    "id": "36eES_S0_Zct"
   },
   "outputs": [
    {
     "data": {
      "text/plain": [
       "3826"
      ]
     },
     "execution_count": 8,
     "metadata": {},
     "output_type": "execute_result"
    }
   ],
   "source": [
    "df.duplicated().sum()"
   ]
  },
  {
   "cell_type": "markdown",
   "metadata": {
    "id": "Ot25h6XR_Zct",
    "tags": [
     "start_task"
    ]
   },
   "source": [
    "Удалим их."
   ]
  },
  {
   "cell_type": "code",
   "execution_count": 9,
   "metadata": {
    "id": "exFHq6tt_Zct"
   },
   "outputs": [
    {
     "data": {
      "text/plain": [
       "0"
      ]
     },
     "execution_count": 9,
     "metadata": {},
     "output_type": "execute_result"
    }
   ],
   "source": [
    "df = df.drop_duplicates()\n",
    "df.duplicated().sum()"
   ]
  },
  {
   "cell_type": "markdown",
   "metadata": {
    "id": "QlFBsxAr_Zct"
   },
   "source": [
    "Избавимся от неявных дубликатов в колонке `genre`. Например, название одного и того же жанра может быть записано немного по-разному.\n",
    "\n",
    "Выведем на экран список уникальных названий жанров, отсортированный в алфавитном порядке."
   ]
  },
  {
   "cell_type": "code",
   "execution_count": 10,
   "metadata": {
    "id": "JIUcqzZN_Zct"
   },
   "outputs": [
    {
     "data": {
      "text/plain": [
       "array(['acid', 'acoustic', 'action', 'adult', 'africa', 'afrikaans',\n",
       "       'alternative', 'alternativepunk', 'ambient', 'americana',\n",
       "       'animated', 'anime', 'arabesk', 'arabic', 'arena',\n",
       "       'argentinetango', 'art', 'audiobook', 'author', 'avantgarde',\n",
       "       'axé', 'baile', 'balkan', 'beats', 'bigroom', 'black', 'bluegrass',\n",
       "       'blues', 'bollywood', 'bossa', 'brazilian', 'breakbeat', 'breaks',\n",
       "       'broadway', 'cantautori', 'cantopop', 'canzone', 'caribbean',\n",
       "       'caucasian', 'celtic', 'chamber', 'chanson', 'children', 'chill',\n",
       "       'chinese', 'choral', 'christian', 'christmas', 'classical',\n",
       "       'classicmetal', 'club', 'colombian', 'comedy', 'conjazz',\n",
       "       'contemporary', 'country', 'cuban', 'dance', 'dancehall',\n",
       "       'dancepop', 'dark', 'death', 'deep', 'deutschrock', 'deutschspr',\n",
       "       'dirty', 'disco', 'dnb', 'documentary', 'downbeat', 'downtempo',\n",
       "       'drum', 'dub', 'dubstep', 'eastern', 'easy', 'electronic',\n",
       "       'electropop', 'emo', 'entehno', 'epicmetal', 'estrada', 'ethnic',\n",
       "       'eurofolk', 'european', 'experimental', 'extrememetal', 'fado',\n",
       "       'fairytail', 'film', 'fitness', 'flamenco', 'folk', 'folklore',\n",
       "       'folkmetal', 'folkrock', 'folktronica', 'forró', 'frankreich',\n",
       "       'französisch', 'french', 'funk', 'future', 'gangsta', 'garage',\n",
       "       'german', 'ghazal', 'gitarre', 'glitch', 'gospel', 'gothic',\n",
       "       'grime', 'grunge', 'gypsy', 'handsup', \"hard'n'heavy\", 'hardcore',\n",
       "       'hardstyle', 'hardtechno', 'hip', 'hip-hop', 'hiphop',\n",
       "       'historisch', 'holiday', 'hop', 'horror', 'house', 'hymn', 'idm',\n",
       "       'independent', 'indian', 'indie', 'indipop', 'industrial',\n",
       "       'inspirational', 'instrumental', 'international', 'irish', 'jam',\n",
       "       'japanese', 'jazz', 'jewish', 'jpop', 'jungle', 'k-pop',\n",
       "       'karadeniz', 'karaoke', 'kayokyoku', 'korean', 'laiko', 'latin',\n",
       "       'latino', 'leftfield', 'local', 'lounge', 'loungeelectronic',\n",
       "       'lovers', 'malaysian', 'mandopop', 'marschmusik', 'meditative',\n",
       "       'mediterranean', 'melodic', 'metal', 'metalcore', 'mexican',\n",
       "       'middle', 'minimal', 'miscellaneous', 'modern', 'mood', 'mpb',\n",
       "       'muslim', 'native', 'neoklassik', 'neue', 'new', 'newage',\n",
       "       'newwave', 'nu', 'nujazz', 'numetal', 'oceania', 'old', 'opera',\n",
       "       'orchestral', 'other', 'piano', 'podcasts', 'pop', 'popdance',\n",
       "       'popelectronic', 'popeurodance', 'poprussian', 'post',\n",
       "       'posthardcore', 'postrock', 'power', 'progmetal', 'progressive',\n",
       "       'psychedelic', 'punjabi', 'punk', 'quebecois', 'ragga', 'ram',\n",
       "       'rancheras', 'rap', 'rave', 'reggae', 'reggaeton', 'regional',\n",
       "       'relax', 'religious', 'retro', 'rhythm', 'rnb', 'rnr', 'rock',\n",
       "       'rockabilly', 'rockalternative', 'rockindie', 'rockother',\n",
       "       'romance', 'roots', 'ruspop', 'rusrap', 'rusrock', 'russian',\n",
       "       'salsa', 'samba', 'scenic', 'schlager', 'self', 'sertanejo',\n",
       "       'shanson', 'shoegazing', 'showtunes', 'singer', 'ska', 'skarock',\n",
       "       'slow', 'smooth', 'soft', 'soul', 'soulful', 'sound', 'soundtrack',\n",
       "       'southern', 'specialty', 'speech', 'spiritual', 'sport',\n",
       "       'stonerrock', 'surf', 'swing', 'synthpop', 'synthrock',\n",
       "       'sängerportrait', 'tango', 'tanzorchester', 'taraftar', 'tatar',\n",
       "       'tech', 'techno', 'teen', 'thrash', 'top', 'traditional',\n",
       "       'tradjazz', 'trance', 'tribal', 'trip', 'triphop', 'tropical',\n",
       "       'türk', 'türkçe', 'ukrrock', 'unknown', 'urban', 'uzbek',\n",
       "       'variété', 'vi', 'videogame', 'vocal', 'western', 'world',\n",
       "       'worldbeat', 'ïîï', 'электроника'], dtype=object)"
      ]
     },
     "execution_count": 10,
     "metadata": {},
     "output_type": "execute_result"
    }
   ],
   "source": [
    "df['genre'].sort_values().unique()"
   ]
  },
  {
   "cell_type": "markdown",
   "metadata": {
    "id": "qej-Qmuo_Zct",
    "tags": [
     "start_task"
    ]
   },
   "source": [
    "Видим следующие неявные дубликаты:\n",
    "* *hip*,\n",
    "* *hop*,\n",
    "* *hip-hop*.\n",
    "\n",
    "Заменим на `hiphop`."
   ]
  },
  {
   "cell_type": "code",
   "execution_count": 11,
   "metadata": {
    "id": "ErNDkmns_Zct"
   },
   "outputs": [
    {
     "data": {
      "text/html": [
       "<div>\n",
       "<style scoped>\n",
       "    .dataframe tbody tr th:only-of-type {\n",
       "        vertical-align: middle;\n",
       "    }\n",
       "\n",
       "    .dataframe tbody tr th {\n",
       "        vertical-align: top;\n",
       "    }\n",
       "\n",
       "    .dataframe thead th {\n",
       "        text-align: right;\n",
       "    }\n",
       "</style>\n",
       "<table border=\"1\" class=\"dataframe\">\n",
       "  <thead>\n",
       "    <tr style=\"text-align: right;\">\n",
       "      <th></th>\n",
       "      <th>user_id</th>\n",
       "      <th>track</th>\n",
       "      <th>artist</th>\n",
       "      <th>genre</th>\n",
       "      <th>city</th>\n",
       "      <th>time</th>\n",
       "      <th>day</th>\n",
       "    </tr>\n",
       "  </thead>\n",
       "  <tbody>\n",
       "    <tr>\n",
       "      <th>0</th>\n",
       "      <td>FFB692EC</td>\n",
       "      <td>Kamigata To Boots</td>\n",
       "      <td>The Mass Missile</td>\n",
       "      <td>rock</td>\n",
       "      <td>Saint-Petersburg</td>\n",
       "      <td>20:28:33</td>\n",
       "      <td>Wednesday</td>\n",
       "    </tr>\n",
       "    <tr>\n",
       "      <th>1</th>\n",
       "      <td>55204538</td>\n",
       "      <td>Delayed Because of Accident</td>\n",
       "      <td>Andreas Rönnberg</td>\n",
       "      <td>rock</td>\n",
       "      <td>Moscow</td>\n",
       "      <td>14:07:09</td>\n",
       "      <td>Friday</td>\n",
       "    </tr>\n",
       "    <tr>\n",
       "      <th>2</th>\n",
       "      <td>20EC38</td>\n",
       "      <td>Funiculì funiculà</td>\n",
       "      <td>Mario Lanza</td>\n",
       "      <td>pop</td>\n",
       "      <td>Saint-Petersburg</td>\n",
       "      <td>20:58:07</td>\n",
       "      <td>Wednesday</td>\n",
       "    </tr>\n",
       "    <tr>\n",
       "      <th>3</th>\n",
       "      <td>A3DD03C9</td>\n",
       "      <td>Dragons in the Sunset</td>\n",
       "      <td>Fire + Ice</td>\n",
       "      <td>folk</td>\n",
       "      <td>Saint-Petersburg</td>\n",
       "      <td>08:37:09</td>\n",
       "      <td>Monday</td>\n",
       "    </tr>\n",
       "    <tr>\n",
       "      <th>4</th>\n",
       "      <td>E2DC1FAE</td>\n",
       "      <td>Soul People</td>\n",
       "      <td>Space Echo</td>\n",
       "      <td>dance</td>\n",
       "      <td>Moscow</td>\n",
       "      <td>08:34:34</td>\n",
       "      <td>Monday</td>\n",
       "    </tr>\n",
       "    <tr>\n",
       "      <th>...</th>\n",
       "      <td>...</td>\n",
       "      <td>...</td>\n",
       "      <td>...</td>\n",
       "      <td>...</td>\n",
       "      <td>...</td>\n",
       "      <td>...</td>\n",
       "      <td>...</td>\n",
       "    </tr>\n",
       "    <tr>\n",
       "      <th>65074</th>\n",
       "      <td>729CBB09</td>\n",
       "      <td>My Name</td>\n",
       "      <td>McLean</td>\n",
       "      <td>rnb</td>\n",
       "      <td>Moscow</td>\n",
       "      <td>13:32:28</td>\n",
       "      <td>Wednesday</td>\n",
       "    </tr>\n",
       "    <tr>\n",
       "      <th>65075</th>\n",
       "      <td>D08D4A55</td>\n",
       "      <td>Maybe One Day (feat. Black Spade)</td>\n",
       "      <td>Blu &amp; Exile</td>\n",
       "      <td>hiphop</td>\n",
       "      <td>Saint-Petersburg</td>\n",
       "      <td>10:00:00</td>\n",
       "      <td>Monday</td>\n",
       "    </tr>\n",
       "    <tr>\n",
       "      <th>65076</th>\n",
       "      <td>C5E3A0D5</td>\n",
       "      <td>Jalopiina</td>\n",
       "      <td>unknown</td>\n",
       "      <td>industrial</td>\n",
       "      <td>Moscow</td>\n",
       "      <td>20:09:26</td>\n",
       "      <td>Friday</td>\n",
       "    </tr>\n",
       "    <tr>\n",
       "      <th>65077</th>\n",
       "      <td>321D0506</td>\n",
       "      <td>Freight Train</td>\n",
       "      <td>Chas McDevitt</td>\n",
       "      <td>rock</td>\n",
       "      <td>Moscow</td>\n",
       "      <td>21:43:59</td>\n",
       "      <td>Friday</td>\n",
       "    </tr>\n",
       "    <tr>\n",
       "      <th>65078</th>\n",
       "      <td>3A64EF84</td>\n",
       "      <td>Tell Me Sweet Little Lies</td>\n",
       "      <td>Monica Lopez</td>\n",
       "      <td>country</td>\n",
       "      <td>Moscow</td>\n",
       "      <td>21:59:46</td>\n",
       "      <td>Friday</td>\n",
       "    </tr>\n",
       "  </tbody>\n",
       "</table>\n",
       "<p>61253 rows × 7 columns</p>\n",
       "</div>"
      ],
      "text/plain": [
       "        user_id                              track            artist  \\\n",
       "0      FFB692EC                  Kamigata To Boots  The Mass Missile   \n",
       "1      55204538        Delayed Because of Accident  Andreas Rönnberg   \n",
       "2        20EC38                  Funiculì funiculà       Mario Lanza   \n",
       "3      A3DD03C9              Dragons in the Sunset        Fire + Ice   \n",
       "4      E2DC1FAE                        Soul People        Space Echo   \n",
       "...         ...                                ...               ...   \n",
       "65074  729CBB09                            My Name            McLean   \n",
       "65075  D08D4A55  Maybe One Day (feat. Black Spade)       Blu & Exile   \n",
       "65076  C5E3A0D5                          Jalopiina           unknown   \n",
       "65077  321D0506                      Freight Train     Chas McDevitt   \n",
       "65078  3A64EF84          Tell Me Sweet Little Lies      Monica Lopez   \n",
       "\n",
       "            genre              city      time        day  \n",
       "0            rock  Saint-Petersburg  20:28:33  Wednesday  \n",
       "1            rock            Moscow  14:07:09     Friday  \n",
       "2             pop  Saint-Petersburg  20:58:07  Wednesday  \n",
       "3            folk  Saint-Petersburg  08:37:09     Monday  \n",
       "4           dance            Moscow  08:34:34     Monday  \n",
       "...           ...               ...       ...        ...  \n",
       "65074         rnb            Moscow  13:32:28  Wednesday  \n",
       "65075      hiphop  Saint-Petersburg  10:00:00     Monday  \n",
       "65076  industrial            Moscow  20:09:26     Friday  \n",
       "65077        rock            Moscow  21:43:59     Friday  \n",
       "65078     country            Moscow  21:59:46     Friday  \n",
       "\n",
       "[61253 rows x 7 columns]"
      ]
     },
     "execution_count": 11,
     "metadata": {},
     "output_type": "execute_result"
    }
   ],
   "source": [
    "duplicates = ['hip','hop','hip-hop']\n",
    "true_name = 'hiphop'\n",
    "df['genre'] = df['genre'].replace(duplicates, true_name)\n",
    "df"
   ]
  },
  {
   "cell_type": "markdown",
   "metadata": {
    "id": "jz6a9-7HQUDd"
   },
   "source": [
    "**Выводы:**\n",
    "\n",
    "Исправлены три проблемы в данных:\n",
    "\n",
    "- нарушения в стиле заголовков,\n",
    "- пропущенные значения,\n",
    "- дубликаты — явные и неявные.\n",
    "\n",
    "Теперь можно перейти к проверке гипотез. "
   ]
  },
  {
   "cell_type": "markdown",
   "metadata": {
    "id": "WttZHXH0SqKk"
   },
   "source": [
    "## Проверка гипотез"
   ]
  },
  {
   "cell_type": "markdown",
   "metadata": {
    "deletable": false,
    "editable": false,
    "id": "Im936VVi_Zcu"
   },
   "source": [
    "### Сравнение поведения пользователей двух столиц"
   ]
  },
  {
   "cell_type": "markdown",
   "metadata": {
    "id": "nwt_MuaL_Zcu"
   },
   "source": [
    "Первая гипотеза утверждает, что пользователи по-разному слушают музыку в Москве и Санкт-Петербурге. Проверим это предположение по данным о трёх днях недели — понедельнике, среде и пятнице. Для этого:\n",
    "\n",
    "* Разделим пользователей Москвы и Санкт-Петербурга.\n",
    "* Сравним, сколько треков послушала каждая группа пользователей в понедельник, среду и пятницу.\n"
   ]
  },
  {
   "cell_type": "markdown",
   "metadata": {
    "id": "8Dw_YMmT_Zcu",
    "tags": [
     "start_task"
    ]
   },
   "source": [
    "Оценим активность пользователей в каждом городе. Сгруппируем данные по городу и посчитайте прослушивания в каждой группе.\n",
    "\n"
   ]
  },
  {
   "cell_type": "code",
   "execution_count": 12,
   "metadata": {
    "id": "0_Qs96oh_Zcu"
   },
   "outputs": [
    {
     "data": {
      "text/plain": [
       "city\n",
       "Moscow              42741\n",
       "Saint-Petersburg    18512\n",
       "Name: city, dtype: int64"
      ]
     },
     "execution_count": 12,
     "metadata": {},
     "output_type": "execute_result"
    }
   ],
   "source": [
    "df.groupby('city')['city'].count()"
   ]
  },
  {
   "cell_type": "markdown",
   "metadata": {
    "id": "dzli3w8o_Zcu",
    "tags": [
     "start_task"
    ]
   },
   "source": [
    "В Москве прослушиваний больше, чем в Петербурге. Из этого не следует, что московские пользователи чаще слушают музыку. Просто самих пользователей в Москве больше.\n",
    "\n",
    "Посчитаем прослушивания в понедельник, среду и пятницу. В данных есть информация о прослушиваниях только за эти дни.\n"
   ]
  },
  {
   "cell_type": "code",
   "execution_count": 13,
   "metadata": {
    "id": "uZMKjiJz_Zcu"
   },
   "outputs": [
    {
     "data": {
      "text/plain": [
       "day\n",
       "Friday       21840\n",
       "Monday       21354\n",
       "Wednesday    18059\n",
       "Name: day, dtype: int64"
      ]
     },
     "execution_count": 13,
     "metadata": {},
     "output_type": "execute_result"
    }
   ],
   "source": [
    "df.groupby('day')['day'].count()"
   ]
  },
  {
   "cell_type": "markdown",
   "metadata": {
    "id": "cC2tNrlL_Zcu"
   },
   "source": [
    "В среднем пользователи из двух городов менее активны по средам. Но картина может измениться, если рассмотреть каждый город в отдельности."
   ]
  },
  {
   "cell_type": "markdown",
   "metadata": {
    "id": "POzs8bGa_Zcu",
    "tags": [
     "start_task"
    ]
   },
   "source": [
    "Создадим функцию `number_tracks()`, которая посчитает и вернёт количество прослушиваний для заданного дня и города. Ей понадобятся два параметра:\n",
    "* день недели,\n",
    "* название города."
   ]
  },
  {
   "cell_type": "code",
   "execution_count": 34,
   "metadata": {
    "id": "Nz3GdQB1_Zcu"
   },
   "outputs": [],
   "source": [
    "def number_tracks(day , city):\n",
    "    track_list = df[(df['day'] == day) & (df['city'] == city)]\n",
    "    track_list_count = track_list['user_id'].count()\n",
    "    return track_list_count"
   ]
  },
  {
   "cell_type": "markdown",
   "metadata": {
    "id": "7QXffbO-_Zcu",
    "tags": [
     "start_task"
    ]
   },
   "source": [
    "Создадим c помощью конструктора `pd.DataFrame` таблицу, где\n",
    "* названия колонок — `['city', 'monday', 'wednesday', 'friday']`;\n",
    "* данные — результаты, которые получим `number_tracks`."
   ]
  },
  {
   "cell_type": "code",
   "execution_count": 21,
   "metadata": {
    "id": "APAcLpOr_Zcu"
   },
   "outputs": [
    {
     "data": {
      "text/html": [
       "<div>\n",
       "<style scoped>\n",
       "    .dataframe tbody tr th:only-of-type {\n",
       "        vertical-align: middle;\n",
       "    }\n",
       "\n",
       "    .dataframe tbody tr th {\n",
       "        vertical-align: top;\n",
       "    }\n",
       "\n",
       "    .dataframe thead th {\n",
       "        text-align: right;\n",
       "    }\n",
       "</style>\n",
       "<table border=\"1\" class=\"dataframe\">\n",
       "  <thead>\n",
       "    <tr style=\"text-align: right;\">\n",
       "      <th></th>\n",
       "      <th>city</th>\n",
       "      <th>monday</th>\n",
       "      <th>wednesday</th>\n",
       "      <th>friday</th>\n",
       "    </tr>\n",
       "  </thead>\n",
       "  <tbody>\n",
       "    <tr>\n",
       "      <th>0</th>\n",
       "      <td>Moscow</td>\n",
       "      <td>15740</td>\n",
       "      <td>11056</td>\n",
       "      <td>15945</td>\n",
       "    </tr>\n",
       "    <tr>\n",
       "      <th>1</th>\n",
       "      <td>Saint-Petersburg</td>\n",
       "      <td>5614</td>\n",
       "      <td>7003</td>\n",
       "      <td>5895</td>\n",
       "    </tr>\n",
       "  </tbody>\n",
       "</table>\n",
       "</div>"
      ],
      "text/plain": [
       "               city  monday  wednesday  friday\n",
       "0            Moscow   15740      11056   15945\n",
       "1  Saint-Petersburg    5614       7003    5895"
      ]
     },
     "execution_count": 21,
     "metadata": {},
     "output_type": "execute_result"
    }
   ],
   "source": [
    "pd.DataFrame(\n",
    "    data = [\n",
    "        ['Moscow',\n",
    "             number_tracks('Monday','Moscow'), \n",
    "             number_tracks('Wednesday','Moscow'), \n",
    "             number_tracks('Friday','Moscow')],\n",
    "        ['Saint-Petersburg',\n",
    "             number_tracks('Monday','Saint-Petersburg'),\n",
    "             number_tracks('Wednesday','Saint-Petersburg'), \n",
    "             number_tracks('Friday','Saint-Petersburg')], \n",
    "    ], \n",
    "    columns = ['city', 'monday', 'wednesday', 'friday']\n",
    ")"
   ]
  },
  {
   "cell_type": "markdown",
   "metadata": {
    "id": "-EgPIHYu_Zcu"
   },
   "source": [
    "**Выводы:**\n",
    "\n",
    "Данные показывают разницу поведения пользователей:\n",
    "\n",
    "- В Москве пик прослушиваний приходится на понедельник и пятницу, а в среду заметен спад.\n",
    "- В Петербурге, наоборот, больше слушают музыку по средам. Активность в понедельник и пятницу здесь почти в равной мере уступает среде.\n",
    "\n",
    "Значит, данные говорят в пользу первой гипотезы."
   ]
  },
  {
   "cell_type": "markdown",
   "metadata": {
    "id": "atZAxtq4_Zcu"
   },
   "source": [
    "### Музыка в начале и в конце недели."
   ]
  },
  {
   "cell_type": "markdown",
   "metadata": {
    "deletable": false,
    "editable": false,
    "id": "eXrQqXFH_Zcu"
   },
   "source": [
    "Согласно второй гипотезе, утром в понедельник в Москве преобладают одни жанры, а в Петербурге — другие. Так же и вечером пятницы преобладают разные жанры — в зависимости от города."
   ]
  },
  {
   "cell_type": "markdown",
   "metadata": {
    "id": "S8UcW6Hw_Zcu",
    "tags": [
     "start_task"
    ]
   },
   "source": [
    "Сохраним таблицы с данными в две переменные:\n",
    "* по Москве — в `moscow_general`;\n",
    "* по Санкт-Петербургу — в `spb_general`."
   ]
  },
  {
   "cell_type": "code",
   "execution_count": 22,
   "metadata": {
    "id": "qeaFfM_P_Zcu"
   },
   "outputs": [],
   "source": [
    "moscow_general = df[df['city'] == 'Moscow']\n",
    "spb_general = df[df['city'] == 'Saint-Petersburg']"
   ]
  },
  {
   "cell_type": "markdown",
   "metadata": {
    "id": "MEJV-CX2_Zcu",
    "tags": [
     "start_task"
    ]
   },
   "source": [
    "Создадим функцию `genre_weekday()` с четырьмя параметрами:\n",
    "* таблица (датафрейм) с данными,\n",
    "* день недели,\n",
    "* начальная временная метка в формате 'hh:mm', \n",
    "* последняя временная метка в формате 'hh:mm'.\n",
    "\n",
    "Функция должна вернуть информацию о топ-10 жанров тех треков, которые прослушивали в указанный день, в промежутке между двумя отметками времени."
   ]
  },
  {
   "cell_type": "code",
   "execution_count": 23,
   "metadata": {
    "id": "laJT9BYl_Zcu"
   },
   "outputs": [],
   "source": [
    "def genre_weekday(df, day, time1, time2):\n",
    "    # последовательная фильтрация\n",
    "    # оставляем в genre_df только те строки df, у которых день равен day\n",
    "    genre_df = df[df['day'] == day]\n",
    "    # оставляем в genre_df только те строки genre_df, у которых время меньше time2\n",
    "    genre_df = genre_df[genre_df['time'] < time2]\n",
    "    # оставляем в genre_df только те строки genre_df, у которых время больше time1\n",
    "    genre_df = genre_df[genre_df['time'] > time1]\n",
    "    # сгруппируем отфильтрованный датафрейм по столбцу с названиями жанров, возьмём столбец genre и посчитаем кол-во строк для каждого жанра методом count()\n",
    "    genre_df_grouped = genre_df.groupby('genre')['genre'].count()\n",
    "    # отсортируем результат по убыванию (чтобы в начале Series оказались самые популярные жанры)\n",
    "    genre_df_sorted = genre_df_grouped.sort_values(ascending=False)\n",
    "    # вернём Series с 10 самыми популярными жанрами в указанный отрезок времени заданного дня\n",
    "    \n",
    "    return genre_df_sorted[:10]"
   ]
  },
  {
   "cell_type": "markdown",
   "metadata": {
    "id": "la2s2_PF_Zcu",
    "tags": [
     "start_task"
    ]
   },
   "source": [
    "Сравним результаты функции `genre_weekday()` для Москвы и Санкт-Петербурга в понедельник утром (с 7:00 до 11:00) и в пятницу вечером (с 17:00 до 23:00):"
   ]
  },
  {
   "cell_type": "code",
   "execution_count": 24,
   "metadata": {
    "id": "yz7itPUQ_Zcu"
   },
   "outputs": [
    {
     "data": {
      "text/plain": [
       "genre\n",
       "pop            781\n",
       "dance          549\n",
       "electronic     480\n",
       "rock           474\n",
       "hiphop         286\n",
       "ruspop         186\n",
       "world          181\n",
       "rusrap         175\n",
       "alternative    164\n",
       "unknown        161\n",
       "Name: genre, dtype: int64"
      ]
     },
     "execution_count": 24,
     "metadata": {},
     "output_type": "execute_result"
    }
   ],
   "source": [
    "# вызов функции для утра понедельника в Москве (вместо df — таблица moscow_general)\n",
    "genre_weekday(moscow_general, 'Monday', '07:00', '11:00')"
   ]
  },
  {
   "cell_type": "code",
   "execution_count": 25,
   "metadata": {
    "deletable": false,
    "id": "kwUcHPdy_Zcu"
   },
   "outputs": [
    {
     "data": {
      "text/plain": [
       "genre\n",
       "pop            218\n",
       "dance          182\n",
       "rock           162\n",
       "electronic     147\n",
       "hiphop          80\n",
       "ruspop          64\n",
       "alternative     58\n",
       "rusrap          55\n",
       "jazz            44\n",
       "classical       40\n",
       "Name: genre, dtype: int64"
      ]
     },
     "execution_count": 25,
     "metadata": {},
     "output_type": "execute_result"
    }
   ],
   "source": [
    "# вызов функции для утра понедельника в Петербурге (вместо df — таблица spb_general)\n",
    "genre_weekday(spb_general, 'Monday', '07:00', '11:00')"
   ]
  },
  {
   "cell_type": "code",
   "execution_count": 26,
   "metadata": {
    "deletable": false,
    "id": "EzXVRE1o_Zcu"
   },
   "outputs": [
    {
     "data": {
      "text/plain": [
       "genre\n",
       "pop            713\n",
       "rock           517\n",
       "dance          495\n",
       "electronic     482\n",
       "hiphop         273\n",
       "world          208\n",
       "ruspop         170\n",
       "alternative    163\n",
       "classical      163\n",
       "rusrap         142\n",
       "Name: genre, dtype: int64"
      ]
     },
     "execution_count": 26,
     "metadata": {},
     "output_type": "execute_result"
    }
   ],
   "source": [
    "# вызов функции для вечера пятницы в Мск\n",
    "genre_weekday(moscow_general, 'Friday', '17:00', '23:00')"
   ]
  },
  {
   "cell_type": "code",
   "execution_count": 27,
   "metadata": {
    "deletable": false,
    "id": "JZaEKu5v_Zcu"
   },
   "outputs": [
    {
     "data": {
      "text/plain": [
       "genre\n",
       "pop            256\n",
       "electronic     216\n",
       "rock           216\n",
       "dance          210\n",
       "hiphop          97\n",
       "alternative     63\n",
       "jazz            61\n",
       "classical       60\n",
       "rusrap          59\n",
       "world           54\n",
       "Name: genre, dtype: int64"
      ]
     },
     "execution_count": 27,
     "metadata": {},
     "output_type": "execute_result"
    }
   ],
   "source": [
    "# вызов функции для вечера пятницы в Петербурге\n",
    "genre_weekday(spb_general, 'Friday', '17:00', '23:00')"
   ]
  },
  {
   "cell_type": "markdown",
   "metadata": {
    "id": "wrCe4MNX_Zcu"
   },
   "source": [
    "**Выводы:**\n",
    "\n",
    "Если сравнить топ-10 жанров в понедельник утром, можно сделать такие выводы:\n",
    "\n",
    "1. В Москве и Петербурге слушают похожую музыку. Единственное отличие — в московский рейтинг вошёл жанр “world”, а в петербургский — джаз и классика.\n",
    "\n",
    "2. В Москве пропущенных значений оказалось так много, что значение `'unknown'` заняло десятое место среди самых популярных жанров. Значит, пропущенные значения занимают существенную долю в данных и угрожают достоверности исследования.\n",
    "\n",
    "Вечер пятницы не меняет эту картину. Некоторые жанры поднимаются немного выше, другие спускаются, но в целом топ-10 остаётся тем же самым.\n",
    "\n",
    "Таким образом, вторая гипотеза подтвердилась лишь частично:\n",
    "* Пользователи слушают похожую музыку в начале недели и в конце.\n",
    "* Разница между Москвой и Петербургом не слишком выражена. В Москве чаще слушают русскую популярную музыку, в Петербурге — джаз.\n",
    "\n",
    "Однако пропуски в данных ставят под сомнение этот результат. В Москве их так много, что рейтинг топ-10 мог бы выглядеть иначе, если бы не утерянные  данные о жанрах."
   ]
  },
  {
   "cell_type": "markdown",
   "metadata": {
    "id": "JolODAqr_Zcu"
   },
   "source": [
    "### Жанровые предпочтения в Москве и Петербурге\n",
    "\n",
    "**Гипотеза:** Петербург — столица рэпа, музыку этого жанра там слушают чаще, чем в Москве.  А Москва — город контрастов, в котором, тем не менее, преобладает поп-музыка."
   ]
  },
  {
   "cell_type": "markdown",
   "metadata": {
    "id": "DlegSvaT_Zcu",
    "tags": [
     "start_task"
    ]
   },
   "source": [
    "Сгруппируем таблицу `moscow_general` по жанру и посчитаем прослушивания треков каждого жанра методом `count()`. Результат отсортируем в порядке убывания и сохраним его в таблице `moscow_genres`."
   ]
  },
  {
   "cell_type": "code",
   "execution_count": 28,
   "metadata": {
    "id": "r19lIPke_Zcu"
   },
   "outputs": [],
   "source": [
    "moscow_genres = moscow_general.groupby('genre')['genre'].count().sort_values(ascending=False)"
   ]
  },
  {
   "cell_type": "markdown",
   "metadata": {
    "deletable": false,
    "id": "WhCSooF8_Zcv"
   },
   "source": [
    "Выведем на экран первые десять строк moscow_genres:"
   ]
  },
  {
   "cell_type": "code",
   "execution_count": 29,
   "metadata": {
    "id": "cnPG2vnN_Zcv",
    "tags": [
     "start_task"
    ]
   },
   "outputs": [
    {
     "data": {
      "text/plain": [
       "genre\n",
       "pop            5892\n",
       "dance          4435\n",
       "rock           3965\n",
       "electronic     3786\n",
       "hiphop         2096\n",
       "classical      1616\n",
       "world          1432\n",
       "alternative    1379\n",
       "ruspop         1372\n",
       "rusrap         1161\n",
       "Name: genre, dtype: int64"
      ]
     },
     "execution_count": 29,
     "metadata": {},
     "output_type": "execute_result"
    }
   ],
   "source": [
    "moscow_genres.head(10)"
   ]
  },
  {
   "cell_type": "markdown",
   "metadata": {
    "deletable": false,
    "id": "gluLIpE7_Zcv"
   },
   "source": [
    "Повторим то же самое для Петербурга."
   ]
  },
  {
   "cell_type": "code",
   "execution_count": 30,
   "metadata": {
    "deletable": false,
    "id": "uaGJHjVU_Zcv"
   },
   "outputs": [
    {
     "data": {
      "text/plain": [
       "genre\n",
       "pop            2431\n",
       "dance          1932\n",
       "rock           1879\n",
       "electronic     1736\n",
       "hiphop          960\n",
       "alternative     649\n",
       "classical       646\n",
       "rusrap          564\n",
       "ruspop          538\n",
       "world           515\n",
       "Name: genre, dtype: int64"
      ]
     },
     "execution_count": 30,
     "metadata": {},
     "output_type": "execute_result"
    }
   ],
   "source": [
    "spb_genres = spb_general.groupby('genre')['genre'].count().sort_values(ascending=False)\n",
    "spb_genres.head(10)"
   ]
  },
  {
   "cell_type": "markdown",
   "metadata": {
    "id": "RY51YJYu_Zcv"
   },
   "source": [
    "**Выводы:**"
   ]
  },
  {
   "cell_type": "markdown",
   "metadata": {
    "id": "nVhnJEm__Zcv"
   },
   "source": [
    "Гипотеза частично подтвердилась:\n",
    "* Поп-музыка — самый популярный жанр в Москве, как и предполагала гипотеза. Более того, в топ-10 жанров встречается близкий жанр — русская популярная музыка.\n",
    "* Вопреки ожиданиям, рэп одинаково популярен в Москве и Петербурге. \n"
   ]
  },
  {
   "cell_type": "markdown",
   "metadata": {
    "id": "ykKQ0N65_Zcv"
   },
   "source": [
    "## Итоги исследования"
   ]
  },
  {
   "cell_type": "markdown",
   "metadata": {
    "id": "tjUwbHb3_Zcv"
   },
   "source": [
    "Мы проверили три гипотезы и установили:\n",
    "\n",
    "1. День недели по-разному влияет на активность пользователей в Москве и Петербурге. \n",
    "\n",
    "Первая гипотеза полностью подтвердилась.\n",
    "\n",
    "2. Музыкальные предпочтения не сильно меняются в течение недели — будь то Москва или Петербург. Небольшие различия заметны в начале недели, по понедельникам:\n",
    "* в Москве слушают музыку жанра “world”,\n",
    "* в Петербурге — джаз и классику.\n",
    "\n",
    "Таким образом, вторая гипотеза подтвердилась лишь отчасти. Этот результат мог оказаться иным, если бы не пропуски в данных.\n",
    "\n",
    "3. Во вкусах пользователей Москвы и Петербурга больше общего чем различий. Вопреки ожиданиям, предпочтения жанров в Петербурге напоминают московские.\n",
    "\n",
    "Третья гипотеза не подтвердилась. Если различия в предпочтениях и существуют, на основной массе пользователей они незаметны.\n"
   ]
  }
 ],
 "metadata": {
  "ExecuteTimeLog": [
   {
    "duration": 45,
    "start_time": "2022-11-10T19:05:19.940Z"
   },
   {
    "duration": 6,
    "start_time": "2022-11-10T19:05:37.246Z"
   },
   {
    "duration": 399,
    "start_time": "2022-11-10T19:05:41.635Z"
   },
   {
    "duration": 417,
    "start_time": "2022-11-10T19:06:31.532Z"
   },
   {
    "duration": 513,
    "start_time": "2022-11-10T19:06:33.963Z"
   },
   {
    "duration": 19,
    "start_time": "2022-11-10T19:06:36.773Z"
   },
   {
    "duration": 3,
    "start_time": "2022-11-10T19:07:08.074Z"
   },
   {
    "duration": 2,
    "start_time": "2022-11-10T19:07:13.096Z"
   },
   {
    "duration": 393,
    "start_time": "2022-11-10T19:07:27.864Z"
   },
   {
    "duration": 187,
    "start_time": "2022-11-10T19:07:30.313Z"
   },
   {
    "duration": 21,
    "start_time": "2022-11-10T19:07:32.777Z"
   },
   {
    "duration": 11,
    "start_time": "2022-11-10T19:07:35.519Z"
   },
   {
    "duration": 28,
    "start_time": "2022-11-10T19:08:01.055Z"
   },
   {
    "duration": 3,
    "start_time": "2022-11-10T19:27:15.119Z"
   },
   {
    "duration": 4,
    "start_time": "2022-11-10T19:28:05.298Z"
   },
   {
    "duration": 11,
    "start_time": "2022-11-10T19:31:38.518Z"
   },
   {
    "duration": 4,
    "start_time": "2022-11-10T19:32:03.836Z"
   },
   {
    "duration": 27,
    "start_time": "2022-11-10T19:33:20.567Z"
   },
   {
    "duration": 66,
    "start_time": "2022-11-10T19:43:33.029Z"
   },
   {
    "duration": 853,
    "start_time": "2022-11-10T19:45:31.810Z"
   },
   {
    "duration": 410,
    "start_time": "2022-11-10T19:45:47.188Z"
   },
   {
    "duration": 186,
    "start_time": "2022-11-10T19:45:47.600Z"
   },
   {
    "duration": 18,
    "start_time": "2022-11-10T19:45:47.788Z"
   },
   {
    "duration": 51,
    "start_time": "2022-11-10T19:45:47.809Z"
   },
   {
    "duration": 3,
    "start_time": "2022-11-10T19:45:47.862Z"
   },
   {
    "duration": 16,
    "start_time": "2022-11-10T19:45:47.867Z"
   },
   {
    "duration": 48,
    "start_time": "2022-11-10T19:45:47.885Z"
   },
   {
    "duration": 37,
    "start_time": "2022-11-10T19:45:47.934Z"
   },
   {
    "duration": 29,
    "start_time": "2022-11-10T19:45:47.973Z"
   },
   {
    "duration": 1088,
    "start_time": "2022-11-10T19:45:48.005Z"
   },
   {
    "duration": 0,
    "start_time": "2022-11-10T19:45:49.096Z"
   },
   {
    "duration": 0,
    "start_time": "2022-11-10T19:45:49.099Z"
   },
   {
    "duration": 0,
    "start_time": "2022-11-10T19:45:49.101Z"
   },
   {
    "duration": 0,
    "start_time": "2022-11-10T19:45:49.103Z"
   },
   {
    "duration": 0,
    "start_time": "2022-11-10T19:45:49.104Z"
   },
   {
    "duration": 0,
    "start_time": "2022-11-10T19:45:49.105Z"
   },
   {
    "duration": 0,
    "start_time": "2022-11-10T19:45:49.106Z"
   },
   {
    "duration": 0,
    "start_time": "2022-11-10T19:45:49.108Z"
   },
   {
    "duration": 0,
    "start_time": "2022-11-10T19:45:49.109Z"
   },
   {
    "duration": 0,
    "start_time": "2022-11-10T19:45:49.110Z"
   },
   {
    "duration": 0,
    "start_time": "2022-11-10T19:45:49.111Z"
   },
   {
    "duration": 0,
    "start_time": "2022-11-10T19:45:49.113Z"
   },
   {
    "duration": 0,
    "start_time": "2022-11-10T19:45:49.114Z"
   },
   {
    "duration": 0,
    "start_time": "2022-11-10T19:45:49.116Z"
   },
   {
    "duration": 0,
    "start_time": "2022-11-10T19:45:49.118Z"
   },
   {
    "duration": 1,
    "start_time": "2022-11-10T19:45:49.123Z"
   },
   {
    "duration": 0,
    "start_time": "2022-11-10T19:45:49.125Z"
   },
   {
    "duration": 0,
    "start_time": "2022-11-10T19:45:49.126Z"
   },
   {
    "duration": 0,
    "start_time": "2022-11-10T19:45:49.127Z"
   },
   {
    "duration": 0,
    "start_time": "2022-11-10T19:45:49.128Z"
   },
   {
    "duration": 0,
    "start_time": "2022-11-10T19:45:49.129Z"
   },
   {
    "duration": 0,
    "start_time": "2022-11-10T19:45:49.133Z"
   },
   {
    "duration": 0,
    "start_time": "2022-11-10T19:45:49.134Z"
   },
   {
    "duration": 0,
    "start_time": "2022-11-10T19:45:49.136Z"
   },
   {
    "duration": 0,
    "start_time": "2022-11-10T19:45:49.137Z"
   },
   {
    "duration": 0,
    "start_time": "2022-11-10T19:45:49.139Z"
   },
   {
    "duration": 0,
    "start_time": "2022-11-10T19:45:49.141Z"
   },
   {
    "duration": 0,
    "start_time": "2022-11-10T19:45:49.142Z"
   },
   {
    "duration": 906,
    "start_time": "2022-11-10T19:46:05.986Z"
   },
   {
    "duration": 467,
    "start_time": "2022-11-10T19:47:46.644Z"
   },
   {
    "duration": 191,
    "start_time": "2022-11-10T19:47:47.113Z"
   },
   {
    "duration": 23,
    "start_time": "2022-11-10T19:47:47.306Z"
   },
   {
    "duration": 46,
    "start_time": "2022-11-10T19:47:47.336Z"
   },
   {
    "duration": 2,
    "start_time": "2022-11-10T19:47:47.384Z"
   },
   {
    "duration": 9,
    "start_time": "2022-11-10T19:47:47.388Z"
   },
   {
    "duration": 18,
    "start_time": "2022-11-10T19:47:47.398Z"
   },
   {
    "duration": 30,
    "start_time": "2022-11-10T19:47:47.424Z"
   },
   {
    "duration": 28,
    "start_time": "2022-11-10T19:47:47.456Z"
   },
   {
    "duration": 871,
    "start_time": "2022-11-10T19:47:47.487Z"
   },
   {
    "duration": 0,
    "start_time": "2022-11-10T19:47:48.359Z"
   },
   {
    "duration": 0,
    "start_time": "2022-11-10T19:47:48.362Z"
   },
   {
    "duration": 0,
    "start_time": "2022-11-10T19:47:48.363Z"
   },
   {
    "duration": 0,
    "start_time": "2022-11-10T19:47:48.364Z"
   },
   {
    "duration": 0,
    "start_time": "2022-11-10T19:47:48.365Z"
   },
   {
    "duration": 0,
    "start_time": "2022-11-10T19:47:48.366Z"
   },
   {
    "duration": 0,
    "start_time": "2022-11-10T19:47:48.367Z"
   },
   {
    "duration": 0,
    "start_time": "2022-11-10T19:47:48.368Z"
   },
   {
    "duration": 0,
    "start_time": "2022-11-10T19:47:48.369Z"
   },
   {
    "duration": 0,
    "start_time": "2022-11-10T19:47:48.370Z"
   },
   {
    "duration": 1,
    "start_time": "2022-11-10T19:47:48.371Z"
   },
   {
    "duration": 0,
    "start_time": "2022-11-10T19:47:48.373Z"
   },
   {
    "duration": 0,
    "start_time": "2022-11-10T19:47:48.374Z"
   },
   {
    "duration": 1,
    "start_time": "2022-11-10T19:47:48.374Z"
   },
   {
    "duration": 0,
    "start_time": "2022-11-10T19:47:48.375Z"
   },
   {
    "duration": 0,
    "start_time": "2022-11-10T19:47:48.376Z"
   },
   {
    "duration": 0,
    "start_time": "2022-11-10T19:47:48.378Z"
   },
   {
    "duration": 0,
    "start_time": "2022-11-10T19:47:48.379Z"
   },
   {
    "duration": 0,
    "start_time": "2022-11-10T19:47:48.380Z"
   },
   {
    "duration": 0,
    "start_time": "2022-11-10T19:47:48.381Z"
   },
   {
    "duration": 0,
    "start_time": "2022-11-10T19:47:48.382Z"
   },
   {
    "duration": 0,
    "start_time": "2022-11-10T19:47:48.383Z"
   },
   {
    "duration": 0,
    "start_time": "2022-11-10T19:47:48.384Z"
   },
   {
    "duration": 0,
    "start_time": "2022-11-10T19:47:48.384Z"
   },
   {
    "duration": 0,
    "start_time": "2022-11-10T19:47:48.386Z"
   },
   {
    "duration": 0,
    "start_time": "2022-11-10T19:47:48.387Z"
   },
   {
    "duration": 0,
    "start_time": "2022-11-10T19:47:48.388Z"
   },
   {
    "duration": 0,
    "start_time": "2022-11-10T19:47:48.388Z"
   },
   {
    "duration": 424,
    "start_time": "2022-11-10T19:50:33.008Z"
   },
   {
    "duration": 175,
    "start_time": "2022-11-10T19:50:33.434Z"
   },
   {
    "duration": 17,
    "start_time": "2022-11-10T19:50:33.611Z"
   },
   {
    "duration": 32,
    "start_time": "2022-11-10T19:50:33.630Z"
   },
   {
    "duration": 3,
    "start_time": "2022-11-10T19:50:33.663Z"
   },
   {
    "duration": 9,
    "start_time": "2022-11-10T19:50:33.667Z"
   },
   {
    "duration": 29,
    "start_time": "2022-11-10T19:50:33.678Z"
   },
   {
    "duration": 10,
    "start_time": "2022-11-10T19:50:33.708Z"
   },
   {
    "duration": 27,
    "start_time": "2022-11-10T19:50:33.719Z"
   },
   {
    "duration": 702,
    "start_time": "2022-11-10T19:50:33.748Z"
   },
   {
    "duration": 0,
    "start_time": "2022-11-10T19:50:34.452Z"
   },
   {
    "duration": 0,
    "start_time": "2022-11-10T19:50:34.455Z"
   },
   {
    "duration": 0,
    "start_time": "2022-11-10T19:50:34.456Z"
   },
   {
    "duration": 0,
    "start_time": "2022-11-10T19:50:34.457Z"
   },
   {
    "duration": 0,
    "start_time": "2022-11-10T19:50:34.458Z"
   },
   {
    "duration": 0,
    "start_time": "2022-11-10T19:50:34.459Z"
   },
   {
    "duration": 0,
    "start_time": "2022-11-10T19:50:34.460Z"
   },
   {
    "duration": 0,
    "start_time": "2022-11-10T19:50:34.461Z"
   },
   {
    "duration": 0,
    "start_time": "2022-11-10T19:50:34.462Z"
   },
   {
    "duration": 0,
    "start_time": "2022-11-10T19:50:34.463Z"
   },
   {
    "duration": 0,
    "start_time": "2022-11-10T19:50:34.464Z"
   },
   {
    "duration": 0,
    "start_time": "2022-11-10T19:50:34.466Z"
   },
   {
    "duration": 0,
    "start_time": "2022-11-10T19:50:34.466Z"
   },
   {
    "duration": 0,
    "start_time": "2022-11-10T19:50:34.467Z"
   },
   {
    "duration": 0,
    "start_time": "2022-11-10T19:50:34.468Z"
   },
   {
    "duration": 0,
    "start_time": "2022-11-10T19:50:34.469Z"
   },
   {
    "duration": 0,
    "start_time": "2022-11-10T19:50:34.471Z"
   },
   {
    "duration": 1,
    "start_time": "2022-11-10T19:50:34.471Z"
   },
   {
    "duration": 0,
    "start_time": "2022-11-10T19:50:34.473Z"
   },
   {
    "duration": 0,
    "start_time": "2022-11-10T19:50:34.474Z"
   },
   {
    "duration": 0,
    "start_time": "2022-11-10T19:50:34.475Z"
   },
   {
    "duration": 0,
    "start_time": "2022-11-10T19:50:34.475Z"
   },
   {
    "duration": 0,
    "start_time": "2022-11-10T19:50:34.476Z"
   },
   {
    "duration": 0,
    "start_time": "2022-11-10T19:50:34.477Z"
   },
   {
    "duration": 0,
    "start_time": "2022-11-10T19:50:34.478Z"
   },
   {
    "duration": 0,
    "start_time": "2022-11-10T19:50:34.480Z"
   },
   {
    "duration": 0,
    "start_time": "2022-11-10T19:50:34.480Z"
   },
   {
    "duration": 0,
    "start_time": "2022-11-10T19:50:34.482Z"
   },
   {
    "duration": 784,
    "start_time": "2022-11-10T19:50:42.825Z"
   },
   {
    "duration": 710,
    "start_time": "2022-11-10T19:53:28.494Z"
   },
   {
    "duration": 743,
    "start_time": "2022-11-10T19:56:09.200Z"
   },
   {
    "duration": 55,
    "start_time": "2022-11-10T19:56:33.136Z"
   },
   {
    "duration": 385,
    "start_time": "2022-11-10T19:56:44.360Z"
   },
   {
    "duration": 169,
    "start_time": "2022-11-10T19:56:50.283Z"
   },
   {
    "duration": 13,
    "start_time": "2022-11-10T19:56:59.119Z"
   },
   {
    "duration": 13,
    "start_time": "2022-11-10T19:57:02.427Z"
   },
   {
    "duration": 693,
    "start_time": "2022-11-10T19:57:06.342Z"
   },
   {
    "duration": 19,
    "start_time": "2022-11-10T20:02:39.299Z"
   },
   {
    "duration": 23,
    "start_time": "2022-11-10T20:03:02.678Z"
   },
   {
    "duration": 9,
    "start_time": "2022-11-10T20:03:21.641Z"
   },
   {
    "duration": 76,
    "start_time": "2022-11-10T20:03:52.804Z"
   },
   {
    "duration": 79,
    "start_time": "2022-11-10T20:04:12.888Z"
   },
   {
    "duration": 85,
    "start_time": "2022-11-10T20:04:44.384Z"
   },
   {
    "duration": 60,
    "start_time": "2022-11-10T20:05:31.240Z"
   },
   {
    "duration": 78,
    "start_time": "2022-11-10T20:05:51.789Z"
   },
   {
    "duration": 70,
    "start_time": "2022-11-10T20:05:55.411Z"
   },
   {
    "duration": 5,
    "start_time": "2022-11-12T17:07:30.729Z"
   },
   {
    "duration": 35,
    "start_time": "2022-11-12T17:07:56.312Z"
   },
   {
    "duration": 45,
    "start_time": "2022-11-12T17:09:13.049Z"
   },
   {
    "duration": 12,
    "start_time": "2022-11-12T17:17:29.627Z"
   },
   {
    "duration": 19,
    "start_time": "2022-11-12T17:18:44.261Z"
   },
   {
    "duration": 42,
    "start_time": "2022-11-12T17:19:59.166Z"
   },
   {
    "duration": 4,
    "start_time": "2022-11-12T17:24:45.959Z"
   },
   {
    "duration": 4684,
    "start_time": "2022-11-12T17:24:50.797Z"
   },
   {
    "duration": 39,
    "start_time": "2022-11-12T17:25:26.554Z"
   },
   {
    "duration": 49,
    "start_time": "2022-11-12T17:28:38.942Z"
   },
   {
    "duration": 384,
    "start_time": "2022-11-12T17:29:00.464Z"
   },
   {
    "duration": 172,
    "start_time": "2022-11-12T17:29:00.850Z"
   },
   {
    "duration": 20,
    "start_time": "2022-11-12T17:29:01.024Z"
   },
   {
    "duration": 49,
    "start_time": "2022-11-12T17:29:01.046Z"
   },
   {
    "duration": 25,
    "start_time": "2022-11-12T17:29:01.096Z"
   },
   {
    "duration": 48,
    "start_time": "2022-11-12T17:29:01.123Z"
   },
   {
    "duration": 28,
    "start_time": "2022-11-12T17:29:01.173Z"
   },
   {
    "duration": 14,
    "start_time": "2022-11-12T17:29:01.203Z"
   },
   {
    "duration": 40,
    "start_time": "2022-11-12T17:29:01.219Z"
   },
   {
    "duration": 35,
    "start_time": "2022-11-12T17:29:01.261Z"
   },
   {
    "duration": 52,
    "start_time": "2022-11-12T17:29:01.298Z"
   },
   {
    "duration": 87,
    "start_time": "2022-11-12T17:29:01.352Z"
   },
   {
    "duration": 76,
    "start_time": "2022-11-12T17:29:01.441Z"
   },
   {
    "duration": 68,
    "start_time": "2022-11-12T17:29:01.518Z"
   },
   {
    "duration": 52,
    "start_time": "2022-11-12T17:29:01.588Z"
   },
   {
    "duration": 50,
    "start_time": "2022-11-12T17:29:01.642Z"
   },
   {
    "duration": 50,
    "start_time": "2022-11-12T17:29:01.693Z"
   },
   {
    "duration": 37,
    "start_time": "2022-11-12T17:29:01.745Z"
   },
   {
    "duration": 2,
    "start_time": "2022-11-12T17:29:01.784Z"
   },
   {
    "duration": 103,
    "start_time": "2022-11-12T17:29:01.788Z"
   },
   {
    "duration": 78,
    "start_time": "2022-11-12T17:29:01.892Z"
   },
   {
    "duration": 57,
    "start_time": "2022-11-12T17:29:01.971Z"
   },
   {
    "duration": 41,
    "start_time": "2022-11-12T17:29:02.030Z"
   },
   {
    "duration": 48,
    "start_time": "2022-11-12T17:29:02.074Z"
   },
   {
    "duration": 37,
    "start_time": "2022-11-12T17:29:02.124Z"
   },
   {
    "duration": 35,
    "start_time": "2022-11-12T17:29:02.163Z"
   },
   {
    "duration": 44,
    "start_time": "2022-11-12T17:29:02.200Z"
   },
   {
    "duration": 15,
    "start_time": "2022-11-12T17:29:02.247Z"
   },
   {
    "duration": 5,
    "start_time": "2022-11-12T17:29:02.264Z"
   },
   {
    "duration": 54,
    "start_time": "2022-11-12T17:29:02.271Z"
   },
   {
    "duration": 0,
    "start_time": "2022-11-12T17:29:02.328Z"
   },
   {
    "duration": 0,
    "start_time": "2022-11-12T17:29:02.329Z"
   },
   {
    "duration": 0,
    "start_time": "2022-11-12T17:29:02.331Z"
   },
   {
    "duration": 0,
    "start_time": "2022-11-12T17:29:02.332Z"
   },
   {
    "duration": 0,
    "start_time": "2022-11-12T17:29:02.334Z"
   },
   {
    "duration": 0,
    "start_time": "2022-11-12T17:29:02.335Z"
   },
   {
    "duration": 0,
    "start_time": "2022-11-12T17:29:02.337Z"
   },
   {
    "duration": 0,
    "start_time": "2022-11-12T17:29:02.339Z"
   },
   {
    "duration": 11,
    "start_time": "2022-11-12T17:30:10.752Z"
   },
   {
    "duration": 66,
    "start_time": "2022-11-12T17:42:24.060Z"
   },
   {
    "duration": 10,
    "start_time": "2022-11-12T17:42:50.251Z"
   },
   {
    "duration": 10,
    "start_time": "2022-11-12T17:43:15.121Z"
   },
   {
    "duration": 11,
    "start_time": "2022-11-12T17:44:12.172Z"
   },
   {
    "duration": 12,
    "start_time": "2022-11-12T17:45:08.765Z"
   },
   {
    "duration": 7,
    "start_time": "2022-11-12T18:00:59.240Z"
   },
   {
    "duration": 3,
    "start_time": "2022-11-12T18:01:11.512Z"
   },
   {
    "duration": 15,
    "start_time": "2022-11-12T18:01:14.583Z"
   },
   {
    "duration": 16,
    "start_time": "2022-11-12T18:01:18.190Z"
   },
   {
    "duration": 12,
    "start_time": "2022-11-12T18:01:19.493Z"
   },
   {
    "duration": 13,
    "start_time": "2022-11-12T18:01:20.175Z"
   },
   {
    "duration": 15,
    "start_time": "2022-11-12T18:01:20.808Z"
   },
   {
    "duration": 13,
    "start_time": "2022-11-12T18:01:21.524Z"
   },
   {
    "duration": 4,
    "start_time": "2022-11-12T18:03:44.014Z"
   },
   {
    "duration": 16,
    "start_time": "2022-11-12T18:03:47.775Z"
   },
   {
    "duration": 15,
    "start_time": "2022-11-12T18:03:49.218Z"
   },
   {
    "duration": 16,
    "start_time": "2022-11-12T18:03:50.328Z"
   },
   {
    "duration": 16,
    "start_time": "2022-11-12T18:03:50.791Z"
   },
   {
    "duration": 15,
    "start_time": "2022-11-12T18:03:51.195Z"
   },
   {
    "duration": 13,
    "start_time": "2022-11-12T18:03:51.719Z"
   },
   {
    "duration": 9,
    "start_time": "2022-11-12T18:06:26.726Z"
   },
   {
    "duration": 8,
    "start_time": "2022-11-12T18:06:43.516Z"
   },
   {
    "duration": 10,
    "start_time": "2022-11-12T18:07:25.338Z"
   },
   {
    "duration": 72,
    "start_time": "2022-11-12T18:14:45.516Z"
   },
   {
    "duration": 11,
    "start_time": "2022-11-12T18:22:36.656Z"
   },
   {
    "duration": 712,
    "start_time": "2022-11-12T18:22:58.693Z"
   },
   {
    "duration": 11,
    "start_time": "2022-11-12T18:23:06.443Z"
   },
   {
    "duration": 5,
    "start_time": "2022-11-12T18:49:31.855Z"
   },
   {
    "duration": 24,
    "start_time": "2022-11-12T18:50:52.720Z"
   },
   {
    "duration": 5,
    "start_time": "2022-11-12T18:51:32.827Z"
   },
   {
    "duration": 21,
    "start_time": "2022-11-12T18:51:35.732Z"
   },
   {
    "duration": 19,
    "start_time": "2022-11-12T18:51:36.856Z"
   },
   {
    "duration": 5,
    "start_time": "2022-11-12T18:53:10.200Z"
   },
   {
    "duration": 23,
    "start_time": "2022-11-12T18:53:12.460Z"
   },
   {
    "duration": 6,
    "start_time": "2022-11-12T18:53:51.625Z"
   },
   {
    "duration": 27,
    "start_time": "2022-11-12T18:53:54.151Z"
   },
   {
    "duration": 5,
    "start_time": "2022-11-12T18:54:31.099Z"
   },
   {
    "duration": 19,
    "start_time": "2022-11-12T18:54:33.458Z"
   },
   {
    "duration": 4,
    "start_time": "2022-11-12T18:54:52.102Z"
   },
   {
    "duration": 18,
    "start_time": "2022-11-12T18:54:54.076Z"
   },
   {
    "duration": 13,
    "start_time": "2022-11-12T18:54:58.007Z"
   },
   {
    "duration": 20,
    "start_time": "2022-11-12T18:55:48.167Z"
   },
   {
    "duration": 15,
    "start_time": "2022-11-12T18:55:48.994Z"
   },
   {
    "duration": 26,
    "start_time": "2022-11-12T18:56:12.003Z"
   },
   {
    "duration": 17,
    "start_time": "2022-11-12T18:56:14.067Z"
   },
   {
    "duration": 8,
    "start_time": "2022-11-12T19:01:34.407Z"
   },
   {
    "duration": 4,
    "start_time": "2022-11-12T19:01:51.387Z"
   },
   {
    "duration": 6,
    "start_time": "2022-11-12T19:02:39.027Z"
   },
   {
    "duration": 5,
    "start_time": "2022-11-12T19:02:41.231Z"
   }
  ],
  "celltoolbar": "Необработанный формат ячейки",
  "colab": {
   "collapsed_sections": [
    "E0vqbgi9ay0H",
    "VUC88oWjTJw2"
   ],
   "name": "automatization_template_upd4.ipynb",
   "provenance": []
  },
  "kernelspec": {
   "display_name": "Python 3 (ipykernel)",
   "language": "python",
   "name": "python3"
  },
  "language_info": {
   "codemirror_mode": {
    "name": "ipython",
    "version": 3
   },
   "file_extension": ".py",
   "mimetype": "text/x-python",
   "name": "python",
   "nbconvert_exporter": "python",
   "pygments_lexer": "ipython3",
   "version": "3.9.16"
  },
  "toc": {
   "base_numbering": 1,
   "nav_menu": {
    "height": "215px",
    "width": "403px"
   },
   "number_sections": true,
   "sideBar": true,
   "skip_h1_title": true,
   "title_cell": "Table of Contents",
   "title_sidebar": "Contents",
   "toc_cell": false,
   "toc_position": {
    "height": "calc(100% - 180px)",
    "left": "10px",
    "top": "150px",
    "width": "285.825px"
   },
   "toc_section_display": true,
   "toc_window_display": false
  },
  "varInspector": {
   "cols": {
    "lenName": 16,
    "lenType": 16,
    "lenVar": 40
   },
   "kernels_config": {
    "python": {
     "delete_cmd_postfix": "",
     "delete_cmd_prefix": "del ",
     "library": "var_list.py",
     "varRefreshCmd": "print(var_dic_list())"
    },
    "r": {
     "delete_cmd_postfix": ") ",
     "delete_cmd_prefix": "rm(",
     "library": "var_list.r",
     "varRefreshCmd": "cat(var_dic_list()) "
    }
   },
   "types_to_exclude": [
    "module",
    "function",
    "builtin_function_or_method",
    "instance",
    "_Feature"
   ],
   "window_display": false
  }
 },
 "nbformat": 4,
 "nbformat_minor": 1
}
