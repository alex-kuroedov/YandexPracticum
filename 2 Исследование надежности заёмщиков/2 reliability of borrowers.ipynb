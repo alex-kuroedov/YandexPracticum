{
 "cells": [
  {
   "cell_type": "markdown",
   "id": "69bbb2ba",
   "metadata": {
    "deletable": false,
    "editable": false,
    "id": "c81daeeb"
   },
   "source": [
    "# Исследование надежности заемщиков\n"
   ]
  },
  {
   "cell_type": "markdown",
   "id": "560f3ead",
   "metadata": {
    "id": "744d7639"
   },
   "source": [
    "**Цель исследования:** На основе статистики о платёжеспособности клиентов исследовать, влияет ли семейное положение и количество детей клиента на факт возврата кредита в срок.\n",
    "\n",
    "## Изучим общую информацию о данных."
   ]
  },
  {
   "cell_type": "code",
   "execution_count": 1,
   "id": "5abfb15e",
   "metadata": {
    "id": "7bcf75c9"
   },
   "outputs": [],
   "source": [
    "import pandas as pd\n",
    "\n",
    "data = pd.read_csv('')"
   ]
  },
  {
   "cell_type": "code",
   "execution_count": 2,
   "id": "2dbec945",
   "metadata": {
    "id": "2a7cab99",
    "outputId": "1a8f3ef2-d323-4ec2-ddf7-89670b5944c4"
   },
   "outputs": [
    {
     "data": {
      "text/html": [
       "<div>\n",
       "<style scoped>\n",
       "    .dataframe tbody tr th:only-of-type {\n",
       "        vertical-align: middle;\n",
       "    }\n",
       "\n",
       "    .dataframe tbody tr th {\n",
       "        vertical-align: top;\n",
       "    }\n",
       "\n",
       "    .dataframe thead th {\n",
       "        text-align: right;\n",
       "    }\n",
       "</style>\n",
       "<table border=\"1\" class=\"dataframe\">\n",
       "  <thead>\n",
       "    <tr style=\"text-align: right;\">\n",
       "      <th></th>\n",
       "      <th>children</th>\n",
       "      <th>days_employed</th>\n",
       "      <th>dob_years</th>\n",
       "      <th>education</th>\n",
       "      <th>education_id</th>\n",
       "      <th>family_status</th>\n",
       "      <th>family_status_id</th>\n",
       "      <th>gender</th>\n",
       "      <th>income_type</th>\n",
       "      <th>debt</th>\n",
       "      <th>total_income</th>\n",
       "      <th>purpose</th>\n",
       "    </tr>\n",
       "  </thead>\n",
       "  <tbody>\n",
       "    <tr>\n",
       "      <th>0</th>\n",
       "      <td>1</td>\n",
       "      <td>-8437.673028</td>\n",
       "      <td>42</td>\n",
       "      <td>высшее</td>\n",
       "      <td>0</td>\n",
       "      <td>женат / замужем</td>\n",
       "      <td>0</td>\n",
       "      <td>F</td>\n",
       "      <td>сотрудник</td>\n",
       "      <td>0</td>\n",
       "      <td>253875.639453</td>\n",
       "      <td>покупка жилья</td>\n",
       "    </tr>\n",
       "    <tr>\n",
       "      <th>1</th>\n",
       "      <td>1</td>\n",
       "      <td>-4024.803754</td>\n",
       "      <td>36</td>\n",
       "      <td>среднее</td>\n",
       "      <td>1</td>\n",
       "      <td>женат / замужем</td>\n",
       "      <td>0</td>\n",
       "      <td>F</td>\n",
       "      <td>сотрудник</td>\n",
       "      <td>0</td>\n",
       "      <td>112080.014102</td>\n",
       "      <td>приобретение автомобиля</td>\n",
       "    </tr>\n",
       "    <tr>\n",
       "      <th>2</th>\n",
       "      <td>0</td>\n",
       "      <td>-5623.422610</td>\n",
       "      <td>33</td>\n",
       "      <td>Среднее</td>\n",
       "      <td>1</td>\n",
       "      <td>женат / замужем</td>\n",
       "      <td>0</td>\n",
       "      <td>M</td>\n",
       "      <td>сотрудник</td>\n",
       "      <td>0</td>\n",
       "      <td>145885.952297</td>\n",
       "      <td>покупка жилья</td>\n",
       "    </tr>\n",
       "    <tr>\n",
       "      <th>3</th>\n",
       "      <td>3</td>\n",
       "      <td>-4124.747207</td>\n",
       "      <td>32</td>\n",
       "      <td>среднее</td>\n",
       "      <td>1</td>\n",
       "      <td>женат / замужем</td>\n",
       "      <td>0</td>\n",
       "      <td>M</td>\n",
       "      <td>сотрудник</td>\n",
       "      <td>0</td>\n",
       "      <td>267628.550329</td>\n",
       "      <td>дополнительное образование</td>\n",
       "    </tr>\n",
       "    <tr>\n",
       "      <th>4</th>\n",
       "      <td>0</td>\n",
       "      <td>340266.072047</td>\n",
       "      <td>53</td>\n",
       "      <td>среднее</td>\n",
       "      <td>1</td>\n",
       "      <td>гражданский брак</td>\n",
       "      <td>1</td>\n",
       "      <td>F</td>\n",
       "      <td>пенсионер</td>\n",
       "      <td>0</td>\n",
       "      <td>158616.077870</td>\n",
       "      <td>сыграть свадьбу</td>\n",
       "    </tr>\n",
       "    <tr>\n",
       "      <th>5</th>\n",
       "      <td>0</td>\n",
       "      <td>-926.185831</td>\n",
       "      <td>27</td>\n",
       "      <td>высшее</td>\n",
       "      <td>0</td>\n",
       "      <td>гражданский брак</td>\n",
       "      <td>1</td>\n",
       "      <td>M</td>\n",
       "      <td>компаньон</td>\n",
       "      <td>0</td>\n",
       "      <td>255763.565419</td>\n",
       "      <td>покупка жилья</td>\n",
       "    </tr>\n",
       "    <tr>\n",
       "      <th>6</th>\n",
       "      <td>0</td>\n",
       "      <td>-2879.202052</td>\n",
       "      <td>43</td>\n",
       "      <td>высшее</td>\n",
       "      <td>0</td>\n",
       "      <td>женат / замужем</td>\n",
       "      <td>0</td>\n",
       "      <td>F</td>\n",
       "      <td>компаньон</td>\n",
       "      <td>0</td>\n",
       "      <td>240525.971920</td>\n",
       "      <td>операции с жильем</td>\n",
       "    </tr>\n",
       "    <tr>\n",
       "      <th>7</th>\n",
       "      <td>0</td>\n",
       "      <td>-152.779569</td>\n",
       "      <td>50</td>\n",
       "      <td>СРЕДНЕЕ</td>\n",
       "      <td>1</td>\n",
       "      <td>женат / замужем</td>\n",
       "      <td>0</td>\n",
       "      <td>M</td>\n",
       "      <td>сотрудник</td>\n",
       "      <td>0</td>\n",
       "      <td>135823.934197</td>\n",
       "      <td>образование</td>\n",
       "    </tr>\n",
       "    <tr>\n",
       "      <th>8</th>\n",
       "      <td>2</td>\n",
       "      <td>-6929.865299</td>\n",
       "      <td>35</td>\n",
       "      <td>ВЫСШЕЕ</td>\n",
       "      <td>0</td>\n",
       "      <td>гражданский брак</td>\n",
       "      <td>1</td>\n",
       "      <td>F</td>\n",
       "      <td>сотрудник</td>\n",
       "      <td>0</td>\n",
       "      <td>95856.832424</td>\n",
       "      <td>на проведение свадьбы</td>\n",
       "    </tr>\n",
       "    <tr>\n",
       "      <th>9</th>\n",
       "      <td>0</td>\n",
       "      <td>-2188.756445</td>\n",
       "      <td>41</td>\n",
       "      <td>среднее</td>\n",
       "      <td>1</td>\n",
       "      <td>женат / замужем</td>\n",
       "      <td>0</td>\n",
       "      <td>M</td>\n",
       "      <td>сотрудник</td>\n",
       "      <td>0</td>\n",
       "      <td>144425.938277</td>\n",
       "      <td>покупка жилья для семьи</td>\n",
       "    </tr>\n",
       "    <tr>\n",
       "      <th>10</th>\n",
       "      <td>2</td>\n",
       "      <td>-4171.483647</td>\n",
       "      <td>36</td>\n",
       "      <td>высшее</td>\n",
       "      <td>0</td>\n",
       "      <td>женат / замужем</td>\n",
       "      <td>0</td>\n",
       "      <td>M</td>\n",
       "      <td>компаньон</td>\n",
       "      <td>0</td>\n",
       "      <td>113943.491460</td>\n",
       "      <td>покупка недвижимости</td>\n",
       "    </tr>\n",
       "    <tr>\n",
       "      <th>11</th>\n",
       "      <td>0</td>\n",
       "      <td>-792.701887</td>\n",
       "      <td>40</td>\n",
       "      <td>среднее</td>\n",
       "      <td>1</td>\n",
       "      <td>женат / замужем</td>\n",
       "      <td>0</td>\n",
       "      <td>F</td>\n",
       "      <td>сотрудник</td>\n",
       "      <td>0</td>\n",
       "      <td>77069.234271</td>\n",
       "      <td>покупка коммерческой недвижимости</td>\n",
       "    </tr>\n",
       "    <tr>\n",
       "      <th>12</th>\n",
       "      <td>0</td>\n",
       "      <td>NaN</td>\n",
       "      <td>65</td>\n",
       "      <td>среднее</td>\n",
       "      <td>1</td>\n",
       "      <td>гражданский брак</td>\n",
       "      <td>1</td>\n",
       "      <td>M</td>\n",
       "      <td>пенсионер</td>\n",
       "      <td>0</td>\n",
       "      <td>NaN</td>\n",
       "      <td>сыграть свадьбу</td>\n",
       "    </tr>\n",
       "    <tr>\n",
       "      <th>13</th>\n",
       "      <td>0</td>\n",
       "      <td>-1846.641941</td>\n",
       "      <td>54</td>\n",
       "      <td>неоконченное высшее</td>\n",
       "      <td>2</td>\n",
       "      <td>женат / замужем</td>\n",
       "      <td>0</td>\n",
       "      <td>F</td>\n",
       "      <td>сотрудник</td>\n",
       "      <td>0</td>\n",
       "      <td>130458.228857</td>\n",
       "      <td>приобретение автомобиля</td>\n",
       "    </tr>\n",
       "    <tr>\n",
       "      <th>14</th>\n",
       "      <td>0</td>\n",
       "      <td>-1844.956182</td>\n",
       "      <td>56</td>\n",
       "      <td>высшее</td>\n",
       "      <td>0</td>\n",
       "      <td>гражданский брак</td>\n",
       "      <td>1</td>\n",
       "      <td>F</td>\n",
       "      <td>компаньон</td>\n",
       "      <td>1</td>\n",
       "      <td>165127.911772</td>\n",
       "      <td>покупка жилой недвижимости</td>\n",
       "    </tr>\n",
       "    <tr>\n",
       "      <th>15</th>\n",
       "      <td>1</td>\n",
       "      <td>-972.364419</td>\n",
       "      <td>26</td>\n",
       "      <td>среднее</td>\n",
       "      <td>1</td>\n",
       "      <td>женат / замужем</td>\n",
       "      <td>0</td>\n",
       "      <td>F</td>\n",
       "      <td>сотрудник</td>\n",
       "      <td>0</td>\n",
       "      <td>116820.904450</td>\n",
       "      <td>строительство собственной недвижимости</td>\n",
       "    </tr>\n",
       "    <tr>\n",
       "      <th>16</th>\n",
       "      <td>0</td>\n",
       "      <td>-1719.934226</td>\n",
       "      <td>35</td>\n",
       "      <td>среднее</td>\n",
       "      <td>1</td>\n",
       "      <td>женат / замужем</td>\n",
       "      <td>0</td>\n",
       "      <td>F</td>\n",
       "      <td>сотрудник</td>\n",
       "      <td>0</td>\n",
       "      <td>289202.704229</td>\n",
       "      <td>недвижимость</td>\n",
       "    </tr>\n",
       "    <tr>\n",
       "      <th>17</th>\n",
       "      <td>0</td>\n",
       "      <td>-2369.999720</td>\n",
       "      <td>33</td>\n",
       "      <td>высшее</td>\n",
       "      <td>0</td>\n",
       "      <td>гражданский брак</td>\n",
       "      <td>1</td>\n",
       "      <td>M</td>\n",
       "      <td>сотрудник</td>\n",
       "      <td>0</td>\n",
       "      <td>90410.586745</td>\n",
       "      <td>строительство недвижимости</td>\n",
       "    </tr>\n",
       "    <tr>\n",
       "      <th>18</th>\n",
       "      <td>0</td>\n",
       "      <td>400281.136913</td>\n",
       "      <td>53</td>\n",
       "      <td>среднее</td>\n",
       "      <td>1</td>\n",
       "      <td>вдовец / вдова</td>\n",
       "      <td>2</td>\n",
       "      <td>F</td>\n",
       "      <td>пенсионер</td>\n",
       "      <td>0</td>\n",
       "      <td>56823.777243</td>\n",
       "      <td>на покупку подержанного автомобиля</td>\n",
       "    </tr>\n",
       "    <tr>\n",
       "      <th>19</th>\n",
       "      <td>0</td>\n",
       "      <td>-10038.818549</td>\n",
       "      <td>48</td>\n",
       "      <td>СРЕДНЕЕ</td>\n",
       "      <td>1</td>\n",
       "      <td>в разводе</td>\n",
       "      <td>3</td>\n",
       "      <td>F</td>\n",
       "      <td>сотрудник</td>\n",
       "      <td>0</td>\n",
       "      <td>242831.107982</td>\n",
       "      <td>на покупку своего автомобиля</td>\n",
       "    </tr>\n",
       "  </tbody>\n",
       "</table>\n",
       "</div>"
      ],
      "text/plain": [
       "    children  days_employed  dob_years            education  education_id  \\\n",
       "0          1   -8437.673028         42               высшее             0   \n",
       "1          1   -4024.803754         36              среднее             1   \n",
       "2          0   -5623.422610         33              Среднее             1   \n",
       "3          3   -4124.747207         32              среднее             1   \n",
       "4          0  340266.072047         53              среднее             1   \n",
       "5          0    -926.185831         27               высшее             0   \n",
       "6          0   -2879.202052         43               высшее             0   \n",
       "7          0    -152.779569         50              СРЕДНЕЕ             1   \n",
       "8          2   -6929.865299         35               ВЫСШЕЕ             0   \n",
       "9          0   -2188.756445         41              среднее             1   \n",
       "10         2   -4171.483647         36               высшее             0   \n",
       "11         0    -792.701887         40              среднее             1   \n",
       "12         0            NaN         65              среднее             1   \n",
       "13         0   -1846.641941         54  неоконченное высшее             2   \n",
       "14         0   -1844.956182         56               высшее             0   \n",
       "15         1    -972.364419         26              среднее             1   \n",
       "16         0   -1719.934226         35              среднее             1   \n",
       "17         0   -2369.999720         33               высшее             0   \n",
       "18         0  400281.136913         53              среднее             1   \n",
       "19         0  -10038.818549         48              СРЕДНЕЕ             1   \n",
       "\n",
       "       family_status  family_status_id gender income_type  debt  \\\n",
       "0    женат / замужем                 0      F   сотрудник     0   \n",
       "1    женат / замужем                 0      F   сотрудник     0   \n",
       "2    женат / замужем                 0      M   сотрудник     0   \n",
       "3    женат / замужем                 0      M   сотрудник     0   \n",
       "4   гражданский брак                 1      F   пенсионер     0   \n",
       "5   гражданский брак                 1      M   компаньон     0   \n",
       "6    женат / замужем                 0      F   компаньон     0   \n",
       "7    женат / замужем                 0      M   сотрудник     0   \n",
       "8   гражданский брак                 1      F   сотрудник     0   \n",
       "9    женат / замужем                 0      M   сотрудник     0   \n",
       "10   женат / замужем                 0      M   компаньон     0   \n",
       "11   женат / замужем                 0      F   сотрудник     0   \n",
       "12  гражданский брак                 1      M   пенсионер     0   \n",
       "13   женат / замужем                 0      F   сотрудник     0   \n",
       "14  гражданский брак                 1      F   компаньон     1   \n",
       "15   женат / замужем                 0      F   сотрудник     0   \n",
       "16   женат / замужем                 0      F   сотрудник     0   \n",
       "17  гражданский брак                 1      M   сотрудник     0   \n",
       "18    вдовец / вдова                 2      F   пенсионер     0   \n",
       "19         в разводе                 3      F   сотрудник     0   \n",
       "\n",
       "     total_income                                 purpose  \n",
       "0   253875.639453                           покупка жилья  \n",
       "1   112080.014102                 приобретение автомобиля  \n",
       "2   145885.952297                           покупка жилья  \n",
       "3   267628.550329              дополнительное образование  \n",
       "4   158616.077870                         сыграть свадьбу  \n",
       "5   255763.565419                           покупка жилья  \n",
       "6   240525.971920                       операции с жильем  \n",
       "7   135823.934197                             образование  \n",
       "8    95856.832424                   на проведение свадьбы  \n",
       "9   144425.938277                 покупка жилья для семьи  \n",
       "10  113943.491460                    покупка недвижимости  \n",
       "11   77069.234271       покупка коммерческой недвижимости  \n",
       "12            NaN                         сыграть свадьбу  \n",
       "13  130458.228857                 приобретение автомобиля  \n",
       "14  165127.911772              покупка жилой недвижимости  \n",
       "15  116820.904450  строительство собственной недвижимости  \n",
       "16  289202.704229                            недвижимость  \n",
       "17   90410.586745              строительство недвижимости  \n",
       "18   56823.777243      на покупку подержанного автомобиля  \n",
       "19  242831.107982            на покупку своего автомобиля  "
      ]
     },
     "execution_count": 2,
     "metadata": {},
     "output_type": "execute_result"
    }
   ],
   "source": [
    "# изучим первые 20 строк\n",
    "data.head(20)"
   ]
  },
  {
   "cell_type": "code",
   "execution_count": 3,
   "id": "509007ac",
   "metadata": {
    "id": "2b757bca",
    "outputId": "15376089-8dad-46c9-b520-c05248d43158"
   },
   "outputs": [
    {
     "name": "stdout",
     "output_type": "stream",
     "text": [
      "<class 'pandas.core.frame.DataFrame'>\n",
      "RangeIndex: 21525 entries, 0 to 21524\n",
      "Data columns (total 12 columns):\n",
      " #   Column            Non-Null Count  Dtype  \n",
      "---  ------            --------------  -----  \n",
      " 0   children          21525 non-null  int64  \n",
      " 1   days_employed     19351 non-null  float64\n",
      " 2   dob_years         21525 non-null  int64  \n",
      " 3   education         21525 non-null  object \n",
      " 4   education_id      21525 non-null  int64  \n",
      " 5   family_status     21525 non-null  object \n",
      " 6   family_status_id  21525 non-null  int64  \n",
      " 7   gender            21525 non-null  object \n",
      " 8   income_type       21525 non-null  object \n",
      " 9   debt              21525 non-null  int64  \n",
      " 10  total_income      19351 non-null  float64\n",
      " 11  purpose           21525 non-null  object \n",
      "dtypes: float64(2), int64(5), object(5)\n",
      "memory usage: 2.0+ MB\n"
     ]
    }
   ],
   "source": [
    "# выведем общую информацию\n",
    "data.info()"
   ]
  },
  {
   "cell_type": "markdown",
   "id": "e12ae8df",
   "metadata": {
    "id": "333ec665"
   },
   "source": [
    "## Предобработка данных."
   ]
  },
  {
   "cell_type": "markdown",
   "id": "dad6f188",
   "metadata": {
    "id": "02d92d53"
   },
   "source": [
    "### Удаление пропусков."
   ]
  },
  {
   "cell_type": "markdown",
   "id": "a824fb86",
   "metadata": {
    "id": "cd84967c"
   },
   "source": [
    "Посчитаем пропуски в столбцах."
   ]
  },
  {
   "cell_type": "code",
   "execution_count": 4,
   "id": "9ef6dfd0",
   "metadata": {
    "id": "7f9b2309",
    "outputId": "81f4d817-781c-465c-ed15-91ce4446810d"
   },
   "outputs": [
    {
     "data": {
      "text/plain": [
       "children               0\n",
       "days_employed       2174\n",
       "dob_years              0\n",
       "education              0\n",
       "education_id           0\n",
       "family_status          0\n",
       "family_status_id       0\n",
       "gender                 0\n",
       "income_type            0\n",
       "debt                   0\n",
       "total_income        2174\n",
       "purpose                0\n",
       "dtype: int64"
      ]
     },
     "execution_count": 4,
     "metadata": {},
     "output_type": "execute_result"
    }
   ],
   "source": [
    "data.isna().sum()"
   ]
  },
  {
   "cell_type": "markdown",
   "id": "8694ff02",
   "metadata": {
    "id": "db86e27b"
   },
   "source": [
    "Столбец с пропущенными значениями — `total_income` — хранит данные о доходах. На сумму дохода сильнее всего влияет тип занятости, поэтому заполнить пропуски в этом столбце нужно медианным значением по каждому типу из столбца `income_type`. Например, у человека с типом занятости `сотрудник` пропуск в столбце `total_income` должен быть заполнен медианным доходом среди всех записей с тем же типом."
   ]
  },
  {
   "cell_type": "code",
   "execution_count": 5,
   "id": "1b2fea51",
   "metadata": {
    "id": "42006a93"
   },
   "outputs": [],
   "source": [
    "for t in data['income_type'].unique():\n",
    "    data.loc[(data['income_type'] == t) & (data['total_income'].isna()), 'total_income'] = \\\n",
    "    data.loc[(data['income_type'] == t), 'total_income'].median()"
   ]
  },
  {
   "cell_type": "markdown",
   "id": "a1fd2af0",
   "metadata": {
    "id": "89da5ece"
   },
   "source": [
    "### Обработка аномальных значений"
   ]
  },
  {
   "cell_type": "markdown",
   "id": "a8bb707f",
   "metadata": {
    "id": "57964554"
   },
   "source": [
    "Исправим отрицательное количество дней трудового стажа в столбце `days_employed` с помощью метода `abs()`."
   ]
  },
  {
   "cell_type": "code",
   "execution_count": 6,
   "id": "ea8d4dfc",
   "metadata": {
    "id": "f6f055bf"
   },
   "outputs": [],
   "source": [
    "data['days_employed'] = data['days_employed'].abs()"
   ]
  },
  {
   "cell_type": "markdown",
   "id": "cf34d547",
   "metadata": {
    "id": "6107dd2f"
   },
   "source": [
    "Для каждого типа занятости выведем медианное значение трудового стажа `days_employed` в днях."
   ]
  },
  {
   "cell_type": "code",
   "execution_count": 7,
   "id": "10590ea1",
   "metadata": {
    "id": "85a5faf6",
    "outputId": "801ef80e-522b-4668-f34e-565af7432bcf"
   },
   "outputs": [
    {
     "data": {
      "text/plain": [
       "income_type\n",
       "безработный        366414.0\n",
       "в декрете            3297.0\n",
       "госслужащий          2689.0\n",
       "компаньон            1547.0\n",
       "пенсионер          365213.0\n",
       "предприниматель       521.0\n",
       "сотрудник            1574.0\n",
       "студент               579.0\n",
       "Name: days_employed, dtype: float64"
      ]
     },
     "execution_count": 7,
     "metadata": {},
     "output_type": "execute_result"
    }
   ],
   "source": [
    "round(data.groupby('income_type')['days_employed'].agg('median'))"
   ]
  },
  {
   "cell_type": "markdown",
   "id": "5869c85e",
   "metadata": {
    "id": "38d1a030"
   },
   "source": [
    "У двух типов (безработные и пенсионеры) получатся аномально большие значения. Исправить такие значения сложно, Оставим как есть. Тем более данный столбец не потребуется для исследования."
   ]
  },
  {
   "cell_type": "markdown",
   "id": "26575bda",
   "metadata": {
    "id": "d8a9f147"
   },
   "source": [
    "Выведем перечень уникальных значений столбца `children`."
   ]
  },
  {
   "cell_type": "code",
   "execution_count": 8,
   "id": "98e5f748",
   "metadata": {
    "id": "ef5056eb",
    "outputId": "6975b15c-7f95-4697-d16d-a0c79b657b03"
   },
   "outputs": [
    {
     "data": {
      "text/plain": [
       "array([ 1,  0,  3,  2, -1,  4, 20,  5], dtype=int64)"
      ]
     },
     "execution_count": 8,
     "metadata": {},
     "output_type": "execute_result"
    }
   ],
   "source": [
    "data['children'].unique()"
   ]
  },
  {
   "cell_type": "markdown",
   "id": "9d65e5fa",
   "metadata": {
    "id": "40b9ebf2"
   },
   "source": [
    "В столбце `children` есть два аномальных значения. Удалим строки, в которых встречаются такие аномальные значения из датафрейма `data`."
   ]
  },
  {
   "cell_type": "code",
   "execution_count": 9,
   "id": "ed8ac222",
   "metadata": {
    "deletable": false,
    "id": "3ff9801d"
   },
   "outputs": [
    {
     "data": {
      "text/plain": [
       "array([1, 0, 3, 2, 4, 5], dtype=int64)"
      ]
     },
     "execution_count": 9,
     "metadata": {},
     "output_type": "execute_result"
    }
   ],
   "source": [
    "data = data[(data['children'] != -1) & (data['children'] != 20)]\n",
    "# проверим\n",
    "data['children'].unique()"
   ]
  },
  {
   "cell_type": "markdown",
   "id": "7cd05a3f",
   "metadata": {
    "id": "f4ea573f"
   },
   "source": [
    "Заполним пропуски в столбце `days_employed` медианными значениями по каждого типа занятости `income_type`."
   ]
  },
  {
   "cell_type": "code",
   "execution_count": 10,
   "id": "fbc52530",
   "metadata": {
    "id": "af6b1a7e"
   },
   "outputs": [
    {
     "data": {
      "text/plain": [
       "children            0\n",
       "days_employed       0\n",
       "dob_years           0\n",
       "education           0\n",
       "education_id        0\n",
       "family_status       0\n",
       "family_status_id    0\n",
       "gender              0\n",
       "income_type         0\n",
       "debt                0\n",
       "total_income        0\n",
       "purpose             0\n",
       "dtype: int64"
      ]
     },
     "execution_count": 10,
     "metadata": {},
     "output_type": "execute_result"
    }
   ],
   "source": [
    "for t in data['income_type'].unique():\n",
    "    data.loc[(data['income_type'] == t) & (data['days_employed'].isna()), 'days_employed'] = \\\n",
    "    data.loc[(data['income_type'] == t), 'days_employed'].median()\n",
    "    \n",
    "# проверим\n",
    "data.isna().sum()"
   ]
  },
  {
   "cell_type": "markdown",
   "id": "99691b39",
   "metadata": {
    "id": "ddc81e43"
   },
   "source": [
    "### Изменение типов данных."
   ]
  },
  {
   "cell_type": "code",
   "execution_count": 11,
   "id": "cde11cbc",
   "metadata": {
    "id": "920b65ad"
   },
   "outputs": [],
   "source": [
    "# заменим вещественный тип данных в столбце `total_income` на целочисленный\n",
    "data['total_income'] = data['total_income'].astype(int)"
   ]
  },
  {
   "cell_type": "markdown",
   "id": "814e59b1",
   "metadata": {
    "id": "80c420ba"
   },
   "source": [
    "### Обработка дубликатов"
   ]
  },
  {
   "cell_type": "markdown",
   "id": "abafcb68",
   "metadata": {},
   "source": [
    "Обработаем неявные дубликаты в столбце `education`. В этом столбце есть одни и те же значения, но записанные по-разному: с использованием заглавных и строчных букв. Приведем к нижнему регистру."
   ]
  },
  {
   "cell_type": "code",
   "execution_count": 12,
   "id": "d1c60fa7",
   "metadata": {},
   "outputs": [],
   "source": [
    "data['education'] = data['education'].str.lower()"
   ]
  },
  {
   "cell_type": "markdown",
   "id": "335d1af8",
   "metadata": {
    "id": "dc587695"
   },
   "source": [
    "Посчитаем явные дубликаты, и очистим при необходимости."
   ]
  },
  {
   "cell_type": "code",
   "execution_count": 13,
   "id": "8b9f747d",
   "metadata": {
    "id": "3ee445e4",
    "outputId": "9684deba-1934-42d1-99e1-cda61740f822"
   },
   "outputs": [
    {
     "data": {
      "text/plain": [
       "71"
      ]
     },
     "execution_count": 13,
     "metadata": {},
     "output_type": "execute_result"
    }
   ],
   "source": [
    "data.duplicated().sum()"
   ]
  },
  {
   "cell_type": "code",
   "execution_count": 14,
   "id": "58f79693",
   "metadata": {
    "id": "8575fe05"
   },
   "outputs": [],
   "source": [
    "data = data.drop_duplicates()"
   ]
  },
  {
   "cell_type": "markdown",
   "id": "a7369faf",
   "metadata": {
    "id": "9904cf55"
   },
   "source": [
    "### Категоризация данных."
   ]
  },
  {
   "cell_type": "markdown",
   "id": "e3bec96c",
   "metadata": {
    "id": "72fcc8a2"
   },
   "source": [
    "Создадим в датафрейме `data` столбец `total_income_category` с категориями:\n",
    "\n",
    "- 0–30000 — `'E'`;\n",
    "- 30001–50000 — `'D'`;\n",
    "- 50001–200000 — `'C'`;\n",
    "- 200001–1000000 — `'B'`;\n",
    "- 1000001 и выше — `'A'`.\n"
   ]
  },
  {
   "cell_type": "code",
   "execution_count": 15,
   "id": "8d9451ad",
   "metadata": {
    "id": "e1771346"
   },
   "outputs": [],
   "source": [
    "def categorize_income(income):\n",
    "    try:\n",
    "        if 0 <= income <= 30000:\n",
    "            return 'E'\n",
    "        elif 30001 <= income <= 50000:\n",
    "            return 'D'\n",
    "        elif 50001 <= income <= 200000:\n",
    "            return 'C'\n",
    "        elif 200001 <= income <= 1000000:\n",
    "            return 'B'\n",
    "        elif income >= 1000001:\n",
    "            return 'A'\n",
    "    except:\n",
    "        pass"
   ]
  },
  {
   "cell_type": "code",
   "execution_count": 16,
   "id": "a33ded83",
   "metadata": {
    "id": "d5f3586d"
   },
   "outputs": [],
   "source": [
    "data['total_income_category'] = data['total_income'].apply(categorize_income)"
   ]
  },
  {
   "cell_type": "markdown",
   "id": "99b0bcbd",
   "metadata": {
    "id": "dde49b5c"
   },
   "source": [
    "Выведем на экран перечень уникальных целей взятия кредита из столбца `purpose`."
   ]
  },
  {
   "cell_type": "code",
   "execution_count": 17,
   "id": "4edbfd49",
   "metadata": {
    "id": "f67ce9b3",
    "outputId": "673c12d9-7d7e-4ae0-9812-c622c89dd244"
   },
   "outputs": [
    {
     "data": {
      "text/plain": [
       "array(['покупка жилья', 'приобретение автомобиля',\n",
       "       'дополнительное образование', 'сыграть свадьбу',\n",
       "       'операции с жильем', 'образование', 'на проведение свадьбы',\n",
       "       'покупка жилья для семьи', 'покупка недвижимости',\n",
       "       'покупка коммерческой недвижимости', 'покупка жилой недвижимости',\n",
       "       'строительство собственной недвижимости', 'недвижимость',\n",
       "       'строительство недвижимости', 'на покупку подержанного автомобиля',\n",
       "       'на покупку своего автомобиля',\n",
       "       'операции с коммерческой недвижимостью',\n",
       "       'строительство жилой недвижимости', 'жилье',\n",
       "       'операции со своей недвижимостью', 'автомобили',\n",
       "       'заняться образованием', 'сделка с подержанным автомобилем',\n",
       "       'получение образования', 'автомобиль', 'свадьба',\n",
       "       'получение дополнительного образования', 'покупка своего жилья',\n",
       "       'операции с недвижимостью', 'получение высшего образования',\n",
       "       'свой автомобиль', 'сделка с автомобилем',\n",
       "       'профильное образование', 'высшее образование',\n",
       "       'покупка жилья для сдачи', 'на покупку автомобиля', 'ремонт жилью',\n",
       "       'заняться высшим образованием'], dtype=object)"
      ]
     },
     "execution_count": 17,
     "metadata": {},
     "output_type": "execute_result"
    }
   ],
   "source": [
    "data['purpose'].unique()"
   ]
  },
  {
   "cell_type": "markdown",
   "id": "7a6ba88d",
   "metadata": {
    "id": "85d0aef0"
   },
   "source": [
    "Создадим функцию, которая на основании данных из столбца `purpose` сформирует новый столбец `purpose_category`, в который войдут следующие категории:\n",
    "\n",
    "- `'операции с автомобилем'`,\n",
    "- `'операции с недвижимостью'`,\n",
    "- `'проведение свадьбы'`,\n",
    "- `'получение образования'`.\n"
   ]
  },
  {
   "cell_type": "code",
   "execution_count": 18,
   "id": "c0fbc0bf",
   "metadata": {
    "id": "e149fab4"
   },
   "outputs": [],
   "source": [
    "# по сути, формируем категории по маске\n",
    "def categorize_purpose(row):\n",
    "    try:\n",
    "        if 'автом' in row:\n",
    "            return 'операции с автомобилем'\n",
    "        elif 'жил' in row or 'недвиж' in row:\n",
    "            return 'операции с недвижимостью'\n",
    "        elif 'свад' in row:\n",
    "            return 'проведение свадьбы'\n",
    "        elif 'образов' in row:\n",
    "            return 'получение образования'\n",
    "    except:\n",
    "        return 'нет категории'"
   ]
  },
  {
   "cell_type": "code",
   "execution_count": 19,
   "id": "73ffcd37",
   "metadata": {
    "id": "bf36e69b"
   },
   "outputs": [],
   "source": [
    "data['purpose_category'] = data['purpose'].apply(categorize_purpose)"
   ]
  },
  {
   "cell_type": "markdown",
   "id": "2440c43a",
   "metadata": {
    "id": "09b242bf"
   },
   "source": [
    "### Исследуем данные."
   ]
  },
  {
   "cell_type": "markdown",
   "id": "30794500",
   "metadata": {
    "id": "c5d66278"
   },
   "source": [
    "#### Есть ли зависимость между количеством детей и возвратом кредита в срок?"
   ]
  },
  {
   "cell_type": "code",
   "execution_count": 20,
   "id": "abb18069",
   "metadata": {
    "id": "2cacfc4a"
   },
   "outputs": [
    {
     "data": {
      "text/html": [
       "<div>\n",
       "<style scoped>\n",
       "    .dataframe tbody tr th:only-of-type {\n",
       "        vertical-align: middle;\n",
       "    }\n",
       "\n",
       "    .dataframe tbody tr th {\n",
       "        vertical-align: top;\n",
       "    }\n",
       "\n",
       "    .dataframe thead th {\n",
       "        text-align: right;\n",
       "    }\n",
       "</style>\n",
       "<table border=\"1\" class=\"dataframe\">\n",
       "  <thead>\n",
       "    <tr style=\"text-align: right;\">\n",
       "      <th></th>\n",
       "      <th>Кредиты</th>\n",
       "      <th>Просрочено</th>\n",
       "      <th>Доля просроченных</th>\n",
       "    </tr>\n",
       "    <tr>\n",
       "      <th>Кол-во детей</th>\n",
       "      <th></th>\n",
       "      <th></th>\n",
       "      <th></th>\n",
       "    </tr>\n",
       "  </thead>\n",
       "  <tbody>\n",
       "    <tr>\n",
       "      <th>0</th>\n",
       "      <td>14091</td>\n",
       "      <td>1063</td>\n",
       "      <td>0.075438</td>\n",
       "    </tr>\n",
       "    <tr>\n",
       "      <th>1</th>\n",
       "      <td>4808</td>\n",
       "      <td>444</td>\n",
       "      <td>0.092346</td>\n",
       "    </tr>\n",
       "    <tr>\n",
       "      <th>2</th>\n",
       "      <td>2052</td>\n",
       "      <td>194</td>\n",
       "      <td>0.094542</td>\n",
       "    </tr>\n",
       "    <tr>\n",
       "      <th>3</th>\n",
       "      <td>330</td>\n",
       "      <td>27</td>\n",
       "      <td>0.081818</td>\n",
       "    </tr>\n",
       "    <tr>\n",
       "      <th>4</th>\n",
       "      <td>41</td>\n",
       "      <td>4</td>\n",
       "      <td>0.097561</td>\n",
       "    </tr>\n",
       "    <tr>\n",
       "      <th>5</th>\n",
       "      <td>9</td>\n",
       "      <td>0</td>\n",
       "      <td>0.000000</td>\n",
       "    </tr>\n",
       "  </tbody>\n",
       "</table>\n",
       "</div>"
      ],
      "text/plain": [
       "              Кредиты  Просрочено  Доля просроченных\n",
       "Кол-во детей                                        \n",
       "0               14091        1063           0.075438\n",
       "1                4808         444           0.092346\n",
       "2                2052         194           0.094542\n",
       "3                 330          27           0.081818\n",
       "4                  41           4           0.097561\n",
       "5                   9           0           0.000000"
      ]
     },
     "execution_count": 20,
     "metadata": {},
     "output_type": "execute_result"
    }
   ],
   "source": [
    "#создаём сводную таблицу для наглядного предоставления/рассчета требуемых данных\n",
    "#.droplevel(level=1, axis=1), удаляем лишнее в названии столбцов\n",
    "#в таблице сразу переименуем столбцы для более удобного восприятия.\n",
    "debt = data.pivot_table(index=['children'], values='debt', aggfunc=['count', 'sum', 'mean']).droplevel(level=1, axis=1)\\\n",
    ".rename(columns={'count':'Кредиты','sum':'Просрочено','mean':'Доля просроченных'}).rename_axis('Кол-во детей') \n",
    "\n",
    "#выводим целевую таблицу\n",
    "debt\n"
   ]
  },
  {
   "cell_type": "markdown",
   "id": "6bf42fb7",
   "metadata": {
    "id": "3a6b99ec"
   },
   "source": [
    "**Вывод:** По полученной таблице можно сделать вывод, самые надёжные заёмщики - бездетные и с тремя детьми. А большинство просрочек, в свою очередь, у заёмщиков с 1 и 2 детьми.\n",
    "По заёмщикам с 4 и 5 детьми сложно сделать вывод, так как по ним маленькая выборка."
   ]
  },
  {
   "cell_type": "code",
   "execution_count": 21,
   "id": "59c19c91",
   "metadata": {},
   "outputs": [],
   "source": [
    "#смотрим следующие поставленные вопросы и делаем вывод - они типовые. Значит удобнее написать функцию.\n",
    "#обратим внимание на структуру data - данные из следующих поставленных вопросов уже категоризированы\n",
    "#анализ следует проводить именно по категориям\n",
    "\n",
    "def debt_percent(category):\n",
    "    debt = data.pivot_table(index=category, values='debt', aggfunc=['count', 'sum', 'mean']).droplevel(level=1, axis=1)\\\n",
    "    .rename(columns={'count':'Кредиты','sum':'Просрочено','mean':'Доля просроченных'})\n",
    "    return debt"
   ]
  },
  {
   "cell_type": "markdown",
   "id": "b903eb6e",
   "metadata": {
    "id": "97be82ca"
   },
   "source": [
    "#### Есть ли зависимость между семейным положением и возвратом кредита в срок?"
   ]
  },
  {
   "cell_type": "code",
   "execution_count": 22,
   "id": "5a9eea2a",
   "metadata": {
    "id": "dc3f7ee8"
   },
   "outputs": [
    {
     "data": {
      "text/html": [
       "<div>\n",
       "<style scoped>\n",
       "    .dataframe tbody tr th:only-of-type {\n",
       "        vertical-align: middle;\n",
       "    }\n",
       "\n",
       "    .dataframe tbody tr th {\n",
       "        vertical-align: top;\n",
       "    }\n",
       "\n",
       "    .dataframe thead th {\n",
       "        text-align: right;\n",
       "    }\n",
       "</style>\n",
       "<table border=\"1\" class=\"dataframe\">\n",
       "  <thead>\n",
       "    <tr style=\"text-align: right;\">\n",
       "      <th></th>\n",
       "      <th>Кредиты</th>\n",
       "      <th>Просрочено</th>\n",
       "      <th>Доля просроченных</th>\n",
       "    </tr>\n",
       "    <tr>\n",
       "      <th>Семейное положение</th>\n",
       "      <th></th>\n",
       "      <th></th>\n",
       "      <th></th>\n",
       "    </tr>\n",
       "  </thead>\n",
       "  <tbody>\n",
       "    <tr>\n",
       "      <th>Не женат / не замужем</th>\n",
       "      <td>2796</td>\n",
       "      <td>273</td>\n",
       "      <td>0.097639</td>\n",
       "    </tr>\n",
       "    <tr>\n",
       "      <th>в разводе</th>\n",
       "      <td>1189</td>\n",
       "      <td>84</td>\n",
       "      <td>0.070648</td>\n",
       "    </tr>\n",
       "    <tr>\n",
       "      <th>вдовец / вдова</th>\n",
       "      <td>951</td>\n",
       "      <td>63</td>\n",
       "      <td>0.066246</td>\n",
       "    </tr>\n",
       "    <tr>\n",
       "      <th>гражданский брак</th>\n",
       "      <td>4134</td>\n",
       "      <td>385</td>\n",
       "      <td>0.093130</td>\n",
       "    </tr>\n",
       "    <tr>\n",
       "      <th>женат / замужем</th>\n",
       "      <td>12261</td>\n",
       "      <td>927</td>\n",
       "      <td>0.075606</td>\n",
       "    </tr>\n",
       "  </tbody>\n",
       "</table>\n",
       "</div>"
      ],
      "text/plain": [
       "                       Кредиты  Просрочено  Доля просроченных\n",
       "Семейное положение                                           \n",
       "Не женат / не замужем     2796         273           0.097639\n",
       "в разводе                 1189          84           0.070648\n",
       "вдовец / вдова             951          63           0.066246\n",
       "гражданский брак          4134         385           0.093130\n",
       "женат / замужем          12261         927           0.075606"
      ]
     },
     "execution_count": 22,
     "metadata": {},
     "output_type": "execute_result"
    }
   ],
   "source": [
    "debt_percent('family_status').rename_axis('Семейное положение') \n",
    "#вызываем функцию, в качестве аргумента передаём название столбца, по которому проводим анализ\n",
    "#переименуем столбец для удобства"
   ]
  },
  {
   "cell_type": "markdown",
   "id": "d3b6f55a",
   "metadata": {
    "id": "1cef7837"
   },
   "source": [
    "**Вывод:** Заёмщики, состоявщие/состоящие в законных отношениях, являются самыми надёжными."
   ]
  },
  {
   "cell_type": "markdown",
   "id": "c9d0c25c",
   "metadata": {
    "id": "1e8b2fca"
   },
   "source": [
    "#### Есть ли зависимость между уровнем дохода и возвратом кредита в срок?"
   ]
  },
  {
   "cell_type": "code",
   "execution_count": 23,
   "id": "c01565e0",
   "metadata": {
    "id": "cd7e3720"
   },
   "outputs": [
    {
     "data": {
      "text/html": [
       "<div>\n",
       "<style scoped>\n",
       "    .dataframe tbody tr th:only-of-type {\n",
       "        vertical-align: middle;\n",
       "    }\n",
       "\n",
       "    .dataframe tbody tr th {\n",
       "        vertical-align: top;\n",
       "    }\n",
       "\n",
       "    .dataframe thead th {\n",
       "        text-align: right;\n",
       "    }\n",
       "</style>\n",
       "<table border=\"1\" class=\"dataframe\">\n",
       "  <thead>\n",
       "    <tr style=\"text-align: right;\">\n",
       "      <th></th>\n",
       "      <th>Доход</th>\n",
       "      <th>Кредиты</th>\n",
       "      <th>Просрочено</th>\n",
       "      <th>Доля просроченных</th>\n",
       "    </tr>\n",
       "    <tr>\n",
       "      <th>Категория заёмщика</th>\n",
       "      <th></th>\n",
       "      <th></th>\n",
       "      <th></th>\n",
       "      <th></th>\n",
       "    </tr>\n",
       "  </thead>\n",
       "  <tbody>\n",
       "    <tr>\n",
       "      <th>A</th>\n",
       "      <td>свыше 1000000</td>\n",
       "      <td>25</td>\n",
       "      <td>2</td>\n",
       "      <td>0.080000</td>\n",
       "    </tr>\n",
       "    <tr>\n",
       "      <th>B</th>\n",
       "      <td>200001–1000000</td>\n",
       "      <td>5014</td>\n",
       "      <td>354</td>\n",
       "      <td>0.070602</td>\n",
       "    </tr>\n",
       "    <tr>\n",
       "      <th>C</th>\n",
       "      <td>50001–200000</td>\n",
       "      <td>15921</td>\n",
       "      <td>1353</td>\n",
       "      <td>0.084982</td>\n",
       "    </tr>\n",
       "    <tr>\n",
       "      <th>D</th>\n",
       "      <td>30001–50000</td>\n",
       "      <td>349</td>\n",
       "      <td>21</td>\n",
       "      <td>0.060172</td>\n",
       "    </tr>\n",
       "    <tr>\n",
       "      <th>E</th>\n",
       "      <td>0–30000</td>\n",
       "      <td>22</td>\n",
       "      <td>2</td>\n",
       "      <td>0.090909</td>\n",
       "    </tr>\n",
       "  </tbody>\n",
       "</table>\n",
       "</div>"
      ],
      "text/plain": [
       "                             Доход  Кредиты  Просрочено  Доля просроченных\n",
       "Категория заёмщика                                                        \n",
       "A                    свыше 1000000       25           2           0.080000\n",
       "B                   200001–1000000     5014         354           0.070602\n",
       "C                     50001–200000    15921        1353           0.084982\n",
       "D                      30001–50000      349          21           0.060172\n",
       "E                          0–30000       22           2           0.090909"
      ]
     },
     "execution_count": 23,
     "metadata": {},
     "output_type": "execute_result"
    }
   ],
   "source": [
    "temp = debt_percent('total_income_category').rename_axis('Категория заёмщика')\n",
    "#чтобы нашему заказчику было проще, добавим столбец с указанием дохода\n",
    "temp.insert(0,'Доход',['свыше 1000000','200001–1000000','50001–200000','30001–50000','0–30000'])\n",
    "temp"
   ]
  },
  {
   "cell_type": "markdown",
   "id": "7c082e84",
   "metadata": {
    "id": "e8593def"
   },
   "source": [
    "**Вывод:** Самые надежные заёмщики - категории D, самые ненадежные - C. По категориям E и A выводы неоднозначны, т.к. слишком мало случаев."
   ]
  },
  {
   "cell_type": "markdown",
   "id": "a1dc095f",
   "metadata": {
    "id": "99ecbd1f"
   },
   "source": [
    "#### Как разные цели кредита влияют на его возврат в срок?"
   ]
  },
  {
   "cell_type": "code",
   "execution_count": 24,
   "id": "7f57f93e",
   "metadata": {
    "deletable": false,
    "id": "2b687290"
   },
   "outputs": [
    {
     "data": {
      "text/html": [
       "<div>\n",
       "<style scoped>\n",
       "    .dataframe tbody tr th:only-of-type {\n",
       "        vertical-align: middle;\n",
       "    }\n",
       "\n",
       "    .dataframe tbody tr th {\n",
       "        vertical-align: top;\n",
       "    }\n",
       "\n",
       "    .dataframe thead th {\n",
       "        text-align: right;\n",
       "    }\n",
       "</style>\n",
       "<table border=\"1\" class=\"dataframe\">\n",
       "  <thead>\n",
       "    <tr style=\"text-align: right;\">\n",
       "      <th></th>\n",
       "      <th>Кредиты</th>\n",
       "      <th>Просрочено</th>\n",
       "      <th>Доля просроченных</th>\n",
       "    </tr>\n",
       "    <tr>\n",
       "      <th>Цель кредитования</th>\n",
       "      <th></th>\n",
       "      <th></th>\n",
       "      <th></th>\n",
       "    </tr>\n",
       "  </thead>\n",
       "  <tbody>\n",
       "    <tr>\n",
       "      <th>операции с недвижимостью</th>\n",
       "      <td>10751</td>\n",
       "      <td>780</td>\n",
       "      <td>0.072551</td>\n",
       "    </tr>\n",
       "    <tr>\n",
       "      <th>проведение свадьбы</th>\n",
       "      <td>2313</td>\n",
       "      <td>183</td>\n",
       "      <td>0.079118</td>\n",
       "    </tr>\n",
       "    <tr>\n",
       "      <th>получение образования</th>\n",
       "      <td>3988</td>\n",
       "      <td>369</td>\n",
       "      <td>0.092528</td>\n",
       "    </tr>\n",
       "    <tr>\n",
       "      <th>операции с автомобилем</th>\n",
       "      <td>4279</td>\n",
       "      <td>400</td>\n",
       "      <td>0.093480</td>\n",
       "    </tr>\n",
       "  </tbody>\n",
       "</table>\n",
       "</div>"
      ],
      "text/plain": [
       "                          Кредиты  Просрочено  Доля просроченных\n",
       "Цель кредитования                                               \n",
       "операции с недвижимостью    10751         780           0.072551\n",
       "проведение свадьбы           2313         183           0.079118\n",
       "получение образования        3988         369           0.092528\n",
       "операции с автомобилем       4279         400           0.093480"
      ]
     },
     "execution_count": 24,
     "metadata": {},
     "output_type": "execute_result"
    }
   ],
   "source": [
    "debt_percent('purpose_category').rename_axis('Цель кредитования').sort_values('Доля просроченных')"
   ]
  },
  {
   "cell_type": "markdown",
   "id": "522a5322",
   "metadata": {
    "id": "b4bb2ce6"
   },
   "source": [
    "**Вывод:** Здесь же самые ответственные заёмщики те, кто берёт кредит на недвижимость. Кроме того, таких операций больше всего.\n",
    "Те, кто берёт кредит на свадьбу, оказались на втором месте, что косвенно подтверждает гипотезу 2.6.2\n",
    "А вот получение образования и автокредиты оказались на последнем месте."
   ]
  },
  {
   "cell_type": "markdown",
   "id": "ce97f829",
   "metadata": {
    "id": "09c3ac4c"
   },
   "source": [
    "#### Возможные причины появления пропусков в исходных данных."
   ]
  },
  {
   "cell_type": "markdown",
   "id": "ccb4db6d",
   "metadata": {
    "id": "9da2ceda"
   },
   "source": [
    "В исходном датафрейме были пропуски в следующих столбцах\n",
    "\n",
    "days_employed     19351 non-null  float64<br>total_income      19351 non-null  float64\n",
    "\n",
    "вероятнее всего заёмщики, у которых не указаны эти данные либо безработные, либо отказались их указывать при внесении в базу."
   ]
  },
  {
   "cell_type": "markdown",
   "id": "55112825",
   "metadata": {
    "id": "6db5255a"
   },
   "source": [
    "### Общий вывод."
   ]
  },
  {
   "cell_type": "markdown",
   "id": "5c09e810",
   "metadata": {
    "id": "bad65432"
   },
   "source": [
    "Было проведено исследование надежности заёмщиков.\n",
    "В ходе предварительной обработки данных выяснено, что столбец о рабочих днях содержит много отрицательных значений, \n",
    "вероятно стоит исправить алгоритм внесения этих значений.\n",
    "\n",
    "<b>Также в ходе предобработки были категоризированы данные по доходу потенциального заёмщика (всего выделено 5 категорий):</b>\n",
    "- 0–30000 — `'E'`;\n",
    "- 30001–50000 — `'D'`;\n",
    "- 50001–200000 — `'C'`;\n",
    "- 200001–1000000 — `'B'`;\n",
    "- 1000001 и выше — `'A'`.\n",
    "\n",
    "<b>Выяснены основные цели, на которые берут кредиты:</b>\n",
    "- 'операции с автомобилем',\n",
    "- 'операции с недвижимостью',\n",
    "- 'проведение свадьбы',\n",
    "- 'получение образования'.\n",
    "\n",
    "Эти данные в будущем возможно использовать для упрощения/автоматизации заполнения анкеты заёмщика.\n",
    "\n",
    "<b>По результатам исследования самыми надежными оказались заёмщики, которые:</b>\n",
    "- не имеют детей, или имеют 3х детей\n",
    "- состоят/состояли в официально зарегистрированных семейных отношениях\n",
    "- имеют доход 30000-50000\n",
    "- берут кредит на свадьбу, либо на операции с недвижимостью\n",
    "\n",
    "<b>Самыми ненадежными оказались те, кто:</b>\n",
    "- имеет 1-2 детей\n",
    "- никогда не состояли в официально зарегистрированных семейных отношениях\n",
    "- имеют доход 50000-200000\n",
    "- берут кредит на автомобиль или образование\n",
    "\n",
    "<b>При этом, самые часто встречающиеся категории заёмщиков:</b>\n",
    "- бездетные\n",
    "- женаты/замужем\n",
    "- имеют доход 50000-200000\n",
    "\n",
    "<b>Также, самая частая цель кредита - операции с недвижимостью.</b>"
   ]
  }
 ],
 "metadata": {
  "ExecuteTimeLog": [
   {
    "duration": 44,
    "start_time": "2022-12-01T07:39:16.797Z"
   },
   {
    "duration": 544,
    "start_time": "2022-12-01T07:39:25.990Z"
   },
   {
    "duration": 22,
    "start_time": "2022-12-01T07:39:29.120Z"
   },
   {
    "duration": 19,
    "start_time": "2022-12-01T07:39:30.965Z"
   },
   {
    "duration": 11,
    "start_time": "2022-12-01T07:39:33.226Z"
   },
   {
    "duration": 39,
    "start_time": "2022-12-01T07:39:34.477Z"
   },
   {
    "duration": 4,
    "start_time": "2022-12-01T07:39:34.989Z"
   },
   {
    "duration": 7,
    "start_time": "2022-12-01T07:39:35.250Z"
   },
   {
    "duration": 11,
    "start_time": "2022-12-01T07:39:35.673Z"
   },
   {
    "duration": 6,
    "start_time": "2022-12-01T07:39:35.973Z"
   },
   {
    "duration": 6,
    "start_time": "2022-12-01T07:39:36.275Z"
   },
   {
    "duration": 34,
    "start_time": "2022-12-01T07:39:36.750Z"
   },
   {
    "duration": 10,
    "start_time": "2022-12-01T07:39:37.055Z"
   },
   {
    "duration": 4,
    "start_time": "2022-12-01T07:39:37.516Z"
   },
   {
    "duration": 11,
    "start_time": "2022-12-01T07:39:38.006Z"
   },
   {
    "duration": 19,
    "start_time": "2022-12-01T07:39:38.302Z"
   },
   {
    "duration": 17,
    "start_time": "2022-12-01T07:39:38.458Z"
   },
   {
    "duration": 4,
    "start_time": "2022-12-01T07:39:38.971Z"
   },
   {
    "duration": 9,
    "start_time": "2022-12-01T07:39:39.134Z"
   },
   {
    "duration": 7,
    "start_time": "2022-12-01T07:39:39.741Z"
   },
   {
    "duration": 4,
    "start_time": "2022-12-01T07:39:40.338Z"
   },
   {
    "duration": 16,
    "start_time": "2022-12-01T07:39:41.277Z"
   },
   {
    "duration": 30,
    "start_time": "2022-12-01T07:39:45.669Z"
   },
   {
    "duration": 5,
    "start_time": "2022-12-01T08:03:39.842Z"
   },
   {
    "duration": 4,
    "start_time": "2022-12-01T08:04:23.260Z"
   },
   {
    "duration": 4,
    "start_time": "2022-12-01T08:05:12.171Z"
   },
   {
    "duration": 5,
    "start_time": "2022-12-01T08:16:10.329Z"
   },
   {
    "duration": 6,
    "start_time": "2022-12-01T08:16:26.855Z"
   },
   {
    "duration": 7,
    "start_time": "2022-12-01T08:20:41.271Z"
   },
   {
    "duration": 5,
    "start_time": "2022-12-01T08:21:00.525Z"
   },
   {
    "duration": 4,
    "start_time": "2022-12-01T08:21:04.300Z"
   },
   {
    "duration": 6,
    "start_time": "2022-12-01T08:21:07.031Z"
   },
   {
    "duration": 6,
    "start_time": "2022-12-01T08:21:32.525Z"
   },
   {
    "duration": 30,
    "start_time": "2022-12-01T09:56:23.758Z"
   },
   {
    "duration": 7,
    "start_time": "2022-12-01T09:57:28.050Z"
   },
   {
    "duration": 7,
    "start_time": "2022-12-01T10:08:27.499Z"
   },
   {
    "duration": 3,
    "start_time": "2022-12-01T10:41:01.174Z"
   },
   {
    "duration": 10,
    "start_time": "2022-12-01T10:41:10.361Z"
   },
   {
    "duration": 21,
    "start_time": "2022-12-01T10:41:23.766Z"
   },
   {
    "duration": 12,
    "start_time": "2022-12-01T10:44:09.001Z"
   },
   {
    "duration": 13,
    "start_time": "2022-12-01T10:44:15.434Z"
   },
   {
    "duration": 24,
    "start_time": "2022-12-01T10:45:44.464Z"
   },
   {
    "duration": 23,
    "start_time": "2022-12-01T10:53:10.513Z"
   },
   {
    "duration": 25,
    "start_time": "2022-12-01T10:58:48.590Z"
   },
   {
    "duration": 27,
    "start_time": "2022-12-01T10:59:43.316Z"
   },
   {
    "duration": 30,
    "start_time": "2022-12-01T11:02:32.568Z"
   },
   {
    "duration": 27,
    "start_time": "2022-12-01T11:02:43.713Z"
   },
   {
    "duration": 24,
    "start_time": "2022-12-01T11:02:52.407Z"
   },
   {
    "duration": 25,
    "start_time": "2022-12-01T11:04:44.204Z"
   },
   {
    "duration": 25,
    "start_time": "2022-12-01T11:04:49.708Z"
   },
   {
    "duration": 23,
    "start_time": "2022-12-01T11:05:59.711Z"
   },
   {
    "duration": 22,
    "start_time": "2022-12-01T11:06:10.186Z"
   },
   {
    "duration": 22,
    "start_time": "2022-12-01T11:06:20.898Z"
   },
   {
    "duration": 23,
    "start_time": "2022-12-01T11:06:33.218Z"
   },
   {
    "duration": 28,
    "start_time": "2022-12-01T11:06:36.897Z"
   },
   {
    "duration": 4,
    "start_time": "2022-12-01T11:06:55.065Z"
   },
   {
    "duration": 28,
    "start_time": "2022-12-01T11:07:00.277Z"
   },
   {
    "duration": 25,
    "start_time": "2022-12-01T11:08:20.499Z"
   },
   {
    "duration": 23,
    "start_time": "2022-12-01T11:08:31.839Z"
   },
   {
    "duration": 88,
    "start_time": "2022-12-01T11:09:51.489Z"
   },
   {
    "duration": 26,
    "start_time": "2022-12-01T11:09:55.705Z"
   },
   {
    "duration": 22,
    "start_time": "2022-12-01T11:10:01.446Z"
   },
   {
    "duration": 24,
    "start_time": "2022-12-01T11:10:05.265Z"
   },
   {
    "duration": 26,
    "start_time": "2022-12-01T11:10:48.194Z"
   },
   {
    "duration": 8,
    "start_time": "2022-12-01T11:11:27.846Z"
   },
   {
    "duration": 24,
    "start_time": "2022-12-01T11:11:41.446Z"
   },
   {
    "duration": 83,
    "start_time": "2022-12-01T11:11:46.345Z"
   },
   {
    "duration": 23,
    "start_time": "2022-12-01T11:11:48.631Z"
   },
   {
    "duration": 22,
    "start_time": "2022-12-01T11:16:25.433Z"
   },
   {
    "duration": 28,
    "start_time": "2022-12-01T11:17:24.121Z"
   },
   {
    "duration": 25,
    "start_time": "2022-12-01T11:19:30.623Z"
   },
   {
    "duration": 23,
    "start_time": "2022-12-01T11:22:32.475Z"
   },
   {
    "duration": 23,
    "start_time": "2022-12-01T11:23:51.291Z"
   },
   {
    "duration": 24,
    "start_time": "2022-12-01T11:23:55.710Z"
   },
   {
    "duration": 33,
    "start_time": "2022-12-01T11:35:10.340Z"
   },
   {
    "duration": 73,
    "start_time": "2022-12-01T12:31:53.998Z"
   },
   {
    "duration": 71,
    "start_time": "2022-12-01T12:32:12.104Z"
   },
   {
    "duration": 9,
    "start_time": "2022-12-01T12:53:45.056Z"
   },
   {
    "duration": 27,
    "start_time": "2022-12-01T12:54:07.223Z"
   },
   {
    "duration": 22,
    "start_time": "2022-12-01T12:54:52.256Z"
   },
   {
    "duration": 34,
    "start_time": "2022-12-01T12:55:51.909Z"
   },
   {
    "duration": 29,
    "start_time": "2022-12-01T12:56:34.123Z"
   },
   {
    "duration": 36,
    "start_time": "2022-12-01T12:56:45.813Z"
   },
   {
    "duration": 26,
    "start_time": "2022-12-01T12:57:23.338Z"
   },
   {
    "duration": 17,
    "start_time": "2022-12-01T12:58:35.754Z"
   },
   {
    "duration": 21,
    "start_time": "2022-12-01T12:58:45.750Z"
   },
   {
    "duration": 6,
    "start_time": "2022-12-01T12:58:58.701Z"
   },
   {
    "duration": 33,
    "start_time": "2022-12-01T13:01:53.440Z"
   },
   {
    "duration": 24,
    "start_time": "2022-12-01T13:02:08.780Z"
   },
   {
    "duration": 17,
    "start_time": "2022-12-01T13:02:34.259Z"
   },
   {
    "duration": 17,
    "start_time": "2022-12-01T13:03:08.139Z"
   },
   {
    "duration": 4,
    "start_time": "2022-12-01T13:04:40.947Z"
   },
   {
    "duration": 3,
    "start_time": "2022-12-01T13:04:45.886Z"
   },
   {
    "duration": 33,
    "start_time": "2022-12-01T13:04:53.869Z"
   },
   {
    "duration": 31,
    "start_time": "2022-12-01T13:05:01.066Z"
   },
   {
    "duration": 26,
    "start_time": "2022-12-01T13:05:49.429Z"
   },
   {
    "duration": 26,
    "start_time": "2022-12-01T13:10:35.198Z"
   },
   {
    "duration": 28,
    "start_time": "2022-12-01T13:14:09.160Z"
   },
   {
    "duration": 25,
    "start_time": "2022-12-01T13:14:13.467Z"
   },
   {
    "duration": 27,
    "start_time": "2022-12-01T13:14:33.335Z"
   },
   {
    "duration": 28,
    "start_time": "2022-12-01T13:14:35.446Z"
   },
   {
    "duration": 66,
    "start_time": "2022-12-01T13:14:54.360Z"
   },
   {
    "duration": 27,
    "start_time": "2022-12-01T13:16:03.988Z"
   },
   {
    "duration": 21,
    "start_time": "2022-12-01T13:16:15.731Z"
   },
   {
    "duration": 31,
    "start_time": "2022-12-01T13:16:19.040Z"
   },
   {
    "duration": 21,
    "start_time": "2022-12-01T13:16:32.000Z"
   },
   {
    "duration": 25,
    "start_time": "2022-12-01T13:16:39.245Z"
   },
   {
    "duration": 29,
    "start_time": "2022-12-01T13:18:12.008Z"
   },
   {
    "duration": 26,
    "start_time": "2022-12-01T13:18:27.573Z"
   },
   {
    "duration": 27,
    "start_time": "2022-12-01T13:20:32.700Z"
   },
   {
    "duration": 25,
    "start_time": "2022-12-01T13:20:45.456Z"
   },
   {
    "duration": 28,
    "start_time": "2022-12-01T13:21:14.185Z"
   },
   {
    "duration": 27,
    "start_time": "2022-12-01T13:21:36.074Z"
   },
   {
    "duration": 31,
    "start_time": "2022-12-01T13:22:18.662Z"
   },
   {
    "duration": 26,
    "start_time": "2022-12-01T13:22:30.648Z"
   },
   {
    "duration": 25,
    "start_time": "2022-12-01T13:22:47.351Z"
   },
   {
    "duration": 26,
    "start_time": "2022-12-01T13:22:57.543Z"
   },
   {
    "duration": 36,
    "start_time": "2022-12-01T13:23:14.253Z"
   },
   {
    "duration": 25,
    "start_time": "2022-12-01T13:23:18.050Z"
   },
   {
    "duration": 26,
    "start_time": "2022-12-01T13:27:18.751Z"
   },
   {
    "duration": 30,
    "start_time": "2022-12-01T13:28:00.665Z"
   },
   {
    "duration": 27,
    "start_time": "2022-12-01T13:32:01.771Z"
   },
   {
    "duration": 46,
    "start_time": "2022-12-01T14:16:10.068Z"
   },
   {
    "duration": 758,
    "start_time": "2022-12-01T14:16:23.901Z"
   },
   {
    "duration": 23,
    "start_time": "2022-12-01T14:16:24.662Z"
   },
   {
    "duration": 15,
    "start_time": "2022-12-01T14:16:24.686Z"
   },
   {
    "duration": 9,
    "start_time": "2022-12-01T14:16:24.703Z"
   },
   {
    "duration": 44,
    "start_time": "2022-12-01T14:16:24.714Z"
   },
   {
    "duration": 3,
    "start_time": "2022-12-01T14:16:24.760Z"
   },
   {
    "duration": 9,
    "start_time": "2022-12-01T14:16:24.765Z"
   },
   {
    "duration": 4,
    "start_time": "2022-12-01T14:16:24.776Z"
   },
   {
    "duration": 10,
    "start_time": "2022-12-01T14:16:24.781Z"
   },
   {
    "duration": 35,
    "start_time": "2022-12-01T14:16:24.793Z"
   },
   {
    "duration": 37,
    "start_time": "2022-12-01T14:16:24.830Z"
   },
   {
    "duration": 11,
    "start_time": "2022-12-01T14:16:24.868Z"
   },
   {
    "duration": 4,
    "start_time": "2022-12-01T14:16:24.881Z"
   },
   {
    "duration": 12,
    "start_time": "2022-12-01T14:16:24.886Z"
   },
   {
    "duration": 39,
    "start_time": "2022-12-01T14:16:24.900Z"
   },
   {
    "duration": 16,
    "start_time": "2022-12-01T14:16:24.941Z"
   },
   {
    "duration": 4,
    "start_time": "2022-12-01T14:16:24.958Z"
   },
   {
    "duration": 35,
    "start_time": "2022-12-01T14:16:24.964Z"
   },
   {
    "duration": 47,
    "start_time": "2022-12-01T14:16:25.002Z"
   },
   {
    "duration": 5,
    "start_time": "2022-12-01T14:16:25.051Z"
   },
   {
    "duration": 50,
    "start_time": "2022-12-01T14:16:25.058Z"
   },
   {
    "duration": 32,
    "start_time": "2022-12-01T14:16:25.110Z"
   },
   {
    "duration": 11,
    "start_time": "2022-12-01T14:16:25.144Z"
   },
   {
    "duration": 40,
    "start_time": "2022-12-01T14:16:25.156Z"
   },
   {
    "duration": 34,
    "start_time": "2022-12-01T14:16:25.198Z"
   },
   {
    "duration": 2,
    "start_time": "2022-12-01T14:16:25.234Z"
   },
   {
    "duration": 25,
    "start_time": "2022-12-01T14:16:45.471Z"
   },
   {
    "duration": 22,
    "start_time": "2022-12-01T14:17:00.275Z"
   },
   {
    "duration": 24,
    "start_time": "2022-12-01T14:17:17.208Z"
   },
   {
    "duration": 23,
    "start_time": "2022-12-01T14:17:24.989Z"
   },
   {
    "duration": 485,
    "start_time": "2022-12-01T14:17:31.494Z"
   },
   {
    "duration": 19,
    "start_time": "2022-12-01T14:17:31.981Z"
   },
   {
    "duration": 27,
    "start_time": "2022-12-01T14:17:32.002Z"
   },
   {
    "duration": 31,
    "start_time": "2022-12-01T14:17:32.030Z"
   },
   {
    "duration": 89,
    "start_time": "2022-12-01T14:17:32.063Z"
   },
   {
    "duration": 4,
    "start_time": "2022-12-01T14:17:32.154Z"
   },
   {
    "duration": 35,
    "start_time": "2022-12-01T14:17:32.160Z"
   },
   {
    "duration": 34,
    "start_time": "2022-12-01T14:17:32.196Z"
   },
   {
    "duration": 35,
    "start_time": "2022-12-01T14:17:32.232Z"
   },
   {
    "duration": 33,
    "start_time": "2022-12-01T14:17:32.270Z"
   },
   {
    "duration": 55,
    "start_time": "2022-12-01T14:17:32.305Z"
   },
   {
    "duration": 11,
    "start_time": "2022-12-01T14:17:32.361Z"
   },
   {
    "duration": 34,
    "start_time": "2022-12-01T14:17:32.373Z"
   },
   {
    "duration": 32,
    "start_time": "2022-12-01T14:17:32.409Z"
   },
   {
    "duration": 51,
    "start_time": "2022-12-01T14:17:32.443Z"
   },
   {
    "duration": 18,
    "start_time": "2022-12-01T14:17:32.496Z"
   },
   {
    "duration": 14,
    "start_time": "2022-12-01T14:17:32.516Z"
   },
   {
    "duration": 25,
    "start_time": "2022-12-01T14:17:32.532Z"
   },
   {
    "duration": 29,
    "start_time": "2022-12-01T14:17:32.559Z"
   },
   {
    "duration": 36,
    "start_time": "2022-12-01T14:17:32.589Z"
   },
   {
    "duration": 52,
    "start_time": "2022-12-01T14:17:32.627Z"
   },
   {
    "duration": 54,
    "start_time": "2022-12-01T14:17:32.681Z"
   },
   {
    "duration": 14,
    "start_time": "2022-12-01T14:17:32.736Z"
   },
   {
    "duration": 84,
    "start_time": "2022-12-01T14:17:32.751Z"
   },
   {
    "duration": 31,
    "start_time": "2022-12-01T14:17:32.837Z"
   },
   {
    "duration": 12,
    "start_time": "2022-12-01T14:17:32.870Z"
   },
   {
    "duration": 23,
    "start_time": "2022-12-01T14:17:35.777Z"
   },
   {
    "duration": 25,
    "start_time": "2022-12-01T14:17:43.690Z"
   },
   {
    "duration": 21,
    "start_time": "2022-12-01T14:18:00.160Z"
   },
   {
    "duration": 44,
    "start_time": "2022-12-01T14:18:08.823Z"
   },
   {
    "duration": 28,
    "start_time": "2022-12-01T14:18:16.410Z"
   },
   {
    "duration": 23,
    "start_time": "2022-12-01T14:18:19.014Z"
   },
   {
    "duration": 22,
    "start_time": "2022-12-01T14:18:37.500Z"
   },
   {
    "duration": 47,
    "start_time": "2022-12-01T14:18:58.290Z"
   },
   {
    "duration": 467,
    "start_time": "2022-12-01T14:19:15.621Z"
   },
   {
    "duration": 21,
    "start_time": "2022-12-01T14:19:16.090Z"
   },
   {
    "duration": 24,
    "start_time": "2022-12-01T14:19:16.113Z"
   },
   {
    "duration": 9,
    "start_time": "2022-12-01T14:19:16.140Z"
   },
   {
    "duration": 32,
    "start_time": "2022-12-01T14:19:16.150Z"
   },
   {
    "duration": 4,
    "start_time": "2022-12-01T14:19:16.183Z"
   },
   {
    "duration": 11,
    "start_time": "2022-12-01T14:19:16.188Z"
   },
   {
    "duration": 14,
    "start_time": "2022-12-01T14:19:16.200Z"
   },
   {
    "duration": 35,
    "start_time": "2022-12-01T14:19:16.216Z"
   },
   {
    "duration": 9,
    "start_time": "2022-12-01T14:19:16.254Z"
   },
   {
    "duration": 45,
    "start_time": "2022-12-01T14:19:16.265Z"
   },
   {
    "duration": 13,
    "start_time": "2022-12-01T14:19:16.311Z"
   },
   {
    "duration": 12,
    "start_time": "2022-12-01T14:19:16.326Z"
   },
   {
    "duration": 20,
    "start_time": "2022-12-01T14:19:16.340Z"
   },
   {
    "duration": 31,
    "start_time": "2022-12-01T14:19:16.362Z"
   },
   {
    "duration": 25,
    "start_time": "2022-12-01T14:19:16.395Z"
   },
   {
    "duration": 5,
    "start_time": "2022-12-01T14:19:16.422Z"
   },
   {
    "duration": 17,
    "start_time": "2022-12-01T14:19:16.429Z"
   },
   {
    "duration": 7,
    "start_time": "2022-12-01T14:19:16.447Z"
   },
   {
    "duration": 5,
    "start_time": "2022-12-01T14:19:16.456Z"
   },
   {
    "duration": 54,
    "start_time": "2022-12-01T14:19:16.463Z"
   },
   {
    "duration": 25,
    "start_time": "2022-12-01T14:19:16.519Z"
   },
   {
    "duration": 3,
    "start_time": "2022-12-01T14:19:16.545Z"
   },
   {
    "duration": 29,
    "start_time": "2022-12-01T14:19:16.549Z"
   },
   {
    "duration": 36,
    "start_time": "2022-12-01T14:19:16.579Z"
   },
   {
    "duration": 2,
    "start_time": "2022-12-01T14:19:16.617Z"
   },
   {
    "duration": 43,
    "start_time": "2022-12-01T14:19:22.353Z"
   },
   {
    "duration": 33,
    "start_time": "2022-12-01T14:19:44.705Z"
   },
   {
    "duration": 61,
    "start_time": "2022-12-01T14:23:07.172Z"
   },
   {
    "duration": 26,
    "start_time": "2022-12-01T14:23:20.746Z"
   },
   {
    "duration": 26,
    "start_time": "2022-12-01T14:23:47.759Z"
   },
   {
    "duration": 8,
    "start_time": "2022-12-01T14:30:13.147Z"
   },
   {
    "duration": 25,
    "start_time": "2022-12-01T14:30:36.740Z"
   },
   {
    "duration": 31,
    "start_time": "2022-12-01T14:31:27.330Z"
   },
   {
    "duration": 34,
    "start_time": "2022-12-01T14:31:36.340Z"
   },
   {
    "duration": 26,
    "start_time": "2022-12-01T14:32:34.755Z"
   },
   {
    "duration": 26,
    "start_time": "2022-12-01T14:32:37.711Z"
   },
   {
    "duration": 448,
    "start_time": "2022-12-01T14:34:24.032Z"
   },
   {
    "duration": 22,
    "start_time": "2022-12-01T14:34:24.481Z"
   },
   {
    "duration": 14,
    "start_time": "2022-12-01T14:34:24.504Z"
   },
   {
    "duration": 10,
    "start_time": "2022-12-01T14:34:24.520Z"
   },
   {
    "duration": 33,
    "start_time": "2022-12-01T14:34:24.532Z"
   },
   {
    "duration": 5,
    "start_time": "2022-12-01T14:34:24.566Z"
   },
   {
    "duration": 24,
    "start_time": "2022-12-01T14:34:24.572Z"
   },
   {
    "duration": 19,
    "start_time": "2022-12-01T14:34:24.597Z"
   },
   {
    "duration": 34,
    "start_time": "2022-12-01T14:34:24.617Z"
   },
   {
    "duration": 18,
    "start_time": "2022-12-01T14:34:24.653Z"
   },
   {
    "duration": 59,
    "start_time": "2022-12-01T14:34:24.673Z"
   },
   {
    "duration": 9,
    "start_time": "2022-12-01T14:34:24.734Z"
   },
   {
    "duration": 18,
    "start_time": "2022-12-01T14:34:24.744Z"
   },
   {
    "duration": 23,
    "start_time": "2022-12-01T14:34:24.764Z"
   },
   {
    "duration": 26,
    "start_time": "2022-12-01T14:34:24.789Z"
   },
   {
    "duration": 23,
    "start_time": "2022-12-01T14:34:24.817Z"
   },
   {
    "duration": 4,
    "start_time": "2022-12-01T14:34:24.842Z"
   },
   {
    "duration": 30,
    "start_time": "2022-12-01T14:34:24.848Z"
   },
   {
    "duration": 15,
    "start_time": "2022-12-01T14:34:24.880Z"
   },
   {
    "duration": 5,
    "start_time": "2022-12-01T14:34:24.897Z"
   },
   {
    "duration": 16,
    "start_time": "2022-12-01T14:34:24.903Z"
   },
   {
    "duration": 27,
    "start_time": "2022-12-01T14:34:24.920Z"
   },
   {
    "duration": 4,
    "start_time": "2022-12-01T14:34:24.948Z"
   },
   {
    "duration": 49,
    "start_time": "2022-12-01T14:34:24.953Z"
   },
   {
    "duration": 30,
    "start_time": "2022-12-01T14:34:25.004Z"
   },
   {
    "duration": 28,
    "start_time": "2022-12-01T14:34:25.036Z"
   },
   {
    "duration": 26,
    "start_time": "2022-12-01T14:35:06.629Z"
   },
   {
    "duration": 484,
    "start_time": "2022-12-04T11:35:49.928Z"
   },
   {
    "duration": 23,
    "start_time": "2022-12-04T11:35:50.414Z"
   },
   {
    "duration": 15,
    "start_time": "2022-12-04T11:35:50.439Z"
   },
   {
    "duration": 9,
    "start_time": "2022-12-04T11:35:50.456Z"
   },
   {
    "duration": 34,
    "start_time": "2022-12-04T11:35:50.477Z"
   },
   {
    "duration": 3,
    "start_time": "2022-12-04T11:35:50.513Z"
   },
   {
    "duration": 18,
    "start_time": "2022-12-04T11:35:50.518Z"
   },
   {
    "duration": 7,
    "start_time": "2022-12-04T11:35:50.537Z"
   },
   {
    "duration": 9,
    "start_time": "2022-12-04T11:35:50.545Z"
   },
   {
    "duration": 21,
    "start_time": "2022-12-04T11:35:50.558Z"
   },
   {
    "duration": 33,
    "start_time": "2022-12-04T11:35:50.580Z"
   },
   {
    "duration": 15,
    "start_time": "2022-12-04T11:35:50.615Z"
   },
   {
    "duration": 4,
    "start_time": "2022-12-04T11:35:50.632Z"
   },
   {
    "duration": 16,
    "start_time": "2022-12-04T11:35:50.638Z"
   },
   {
    "duration": 36,
    "start_time": "2022-12-04T11:35:50.656Z"
   },
   {
    "duration": 18,
    "start_time": "2022-12-04T11:35:50.693Z"
   },
   {
    "duration": 4,
    "start_time": "2022-12-04T11:35:50.713Z"
   },
   {
    "duration": 20,
    "start_time": "2022-12-04T11:35:50.719Z"
   },
   {
    "duration": 11,
    "start_time": "2022-12-04T11:35:50.741Z"
   },
   {
    "duration": 24,
    "start_time": "2022-12-04T11:35:50.754Z"
   },
   {
    "duration": 8,
    "start_time": "2022-12-04T11:35:50.779Z"
   },
   {
    "duration": 39,
    "start_time": "2022-12-04T11:35:50.789Z"
   },
   {
    "duration": 3,
    "start_time": "2022-12-04T11:35:50.830Z"
   },
   {
    "duration": 43,
    "start_time": "2022-12-04T11:35:50.835Z"
   },
   {
    "duration": 29,
    "start_time": "2022-12-04T11:35:50.880Z"
   },
   {
    "duration": 32,
    "start_time": "2022-12-04T11:35:50.911Z"
   },
   {
    "duration": 485,
    "start_time": "2022-12-04T11:39:36.565Z"
   },
   {
    "duration": 21,
    "start_time": "2022-12-04T11:39:37.052Z"
   },
   {
    "duration": 14,
    "start_time": "2022-12-04T11:39:37.075Z"
   },
   {
    "duration": 8,
    "start_time": "2022-12-04T11:39:37.090Z"
   },
   {
    "duration": 33,
    "start_time": "2022-12-04T11:39:37.100Z"
   },
   {
    "duration": 3,
    "start_time": "2022-12-04T11:39:37.134Z"
   },
   {
    "duration": 10,
    "start_time": "2022-12-04T11:39:37.139Z"
   },
   {
    "duration": 8,
    "start_time": "2022-12-04T11:39:37.151Z"
   },
   {
    "duration": 8,
    "start_time": "2022-12-04T11:39:37.178Z"
   },
   {
    "duration": 5,
    "start_time": "2022-12-04T11:39:37.188Z"
   },
   {
    "duration": 32,
    "start_time": "2022-12-04T11:39:37.194Z"
   },
   {
    "duration": 8,
    "start_time": "2022-12-04T11:39:37.228Z"
   },
   {
    "duration": 9,
    "start_time": "2022-12-04T11:39:37.238Z"
   },
   {
    "duration": 35,
    "start_time": "2022-12-04T11:39:37.250Z"
   },
   {
    "duration": 18,
    "start_time": "2022-12-04T11:39:37.287Z"
   },
   {
    "duration": 17,
    "start_time": "2022-12-04T11:39:37.306Z"
   },
   {
    "duration": 3,
    "start_time": "2022-12-04T11:39:37.325Z"
   },
   {
    "duration": 15,
    "start_time": "2022-12-04T11:39:37.330Z"
   },
   {
    "duration": 12,
    "start_time": "2022-12-04T11:39:37.347Z"
   },
   {
    "duration": 4,
    "start_time": "2022-12-04T11:39:37.377Z"
   },
   {
    "duration": 11,
    "start_time": "2022-12-04T11:39:37.383Z"
   },
   {
    "duration": 27,
    "start_time": "2022-12-04T11:39:37.396Z"
   },
   {
    "duration": 4,
    "start_time": "2022-12-04T11:39:37.424Z"
   },
   {
    "duration": 52,
    "start_time": "2022-12-04T11:39:37.429Z"
   },
   {
    "duration": 25,
    "start_time": "2022-12-04T11:39:37.483Z"
   },
   {
    "duration": 27,
    "start_time": "2022-12-04T11:39:37.509Z"
   }
  ],
  "celltoolbar": "Необработанный формат ячейки",
  "colab": {
   "name": "dpp_template_part2.ipynb",
   "provenance": []
  },
  "kernelspec": {
   "display_name": "Python 3 (ipykernel)",
   "language": "python",
   "name": "python3"
  },
  "language_info": {
   "codemirror_mode": {
    "name": "ipython",
    "version": 3
   },
   "file_extension": ".py",
   "mimetype": "text/x-python",
   "name": "python",
   "nbconvert_exporter": "python",
   "pygments_lexer": "ipython3",
   "version": "3.10.9"
  },
  "toc": {
   "base_numbering": 1,
   "nav_menu": {},
   "number_sections": true,
   "sideBar": true,
   "skip_h1_title": true,
   "title_cell": "Table of Contents",
   "title_sidebar": "Contents",
   "toc_cell": false,
   "toc_position": {},
   "toc_section_display": true,
   "toc_window_display": false
  },
  "varInspector": {
   "cols": {
    "lenName": 16,
    "lenType": 16,
    "lenVar": 40
   },
   "kernels_config": {
    "python": {
     "delete_cmd_postfix": "",
     "delete_cmd_prefix": "del ",
     "library": "var_list.py",
     "varRefreshCmd": "print(var_dic_list())"
    },
    "r": {
     "delete_cmd_postfix": ") ",
     "delete_cmd_prefix": "rm(",
     "library": "var_list.r",
     "varRefreshCmd": "cat(var_dic_list()) "
    }
   },
   "types_to_exclude": [
    "module",
    "function",
    "builtin_function_or_method",
    "instance",
    "_Feature"
   ],
   "window_display": false
  }
 },
 "nbformat": 4,
 "nbformat_minor": 5
}
