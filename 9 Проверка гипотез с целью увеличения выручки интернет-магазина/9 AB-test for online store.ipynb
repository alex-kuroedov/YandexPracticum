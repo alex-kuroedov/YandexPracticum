{
 "cells": [
  {
   "cell_type": "markdown",
   "metadata": {},
   "source": [
    "# Проверка гипотез для увеличения выручки"
   ]
  },
  {
   "cell_type": "markdown",
   "metadata": {},
   "source": [
    "### Краткое описание проекта"
   ]
  },
  {
   "cell_type": "markdown",
   "metadata": {},
   "source": [
    "В данном исследовании проверим список гипотез для увеличения выручки, подготовленных ранее совместно с отделом маркетинга.\n",
    "Приоритизируем гипотезы, проведём A/B тест и проанализируем результаты.\n",
    "\n",
    "В файле hypothesis.csv представлены 9 гипотез по увеличению выручки интернет-магазина с указанными параметрами Reach, Impact, Confidence, Effort."
   ]
  },
  {
   "cell_type": "markdown",
   "metadata": {},
   "source": [
    "### Приоритизация гипотез"
   ]
  },
  {
   "cell_type": "code",
   "execution_count": 2,
   "metadata": {},
   "outputs": [],
   "source": [
    "#подключаем библиотеки\n",
    "from matplotlib import pyplot as plt\n",
    "from pandas.plotting import register_matplotlib_converters\n",
    "import warnings\n",
    "import pandas as pd\n",
    "import numpy as np\n",
    "import scipy.stats as stats\n",
    "import datetime as dt\n",
    "# конвертеры, которые позволяют использовать типы pandas в matplotlib  \n",
    "register_matplotlib_converters()"
   ]
  },
  {
   "cell_type": "code",
   "execution_count": 3,
   "metadata": {},
   "outputs": [],
   "source": [
    "#настроим вывод\n",
    "pd.options.display.float_format = '{:,.6f}'.format #округление до 6 знаков при выводе!\n",
    "pd.set_option('display.max_columns', None)\n",
    "\n",
    "#отключим предупреждения\n",
    "#import warnings\n",
    "#warnings.filterwarnings('ignore')"
   ]
  },
  {
   "cell_type": "code",
   "execution_count": 5,
   "metadata": {},
   "outputs": [],
   "source": [
    "#загружаем данные\n",
    "hypothesis = pd.read_csv('C:/Users/Aleks/practicum/datasets/hypothesis.csv')"
   ]
  },
  {
   "cell_type": "code",
   "execution_count": 6,
   "metadata": {},
   "outputs": [
    {
     "data": {
      "text/html": [
       "<div>\n",
       "<style scoped>\n",
       "    .dataframe tbody tr th:only-of-type {\n",
       "        vertical-align: middle;\n",
       "    }\n",
       "\n",
       "    .dataframe tbody tr th {\n",
       "        vertical-align: top;\n",
       "    }\n",
       "\n",
       "    .dataframe thead th {\n",
       "        text-align: right;\n",
       "    }\n",
       "</style>\n",
       "<table border=\"1\" class=\"dataframe\">\n",
       "  <thead>\n",
       "    <tr style=\"text-align: right;\">\n",
       "      <th></th>\n",
       "      <th>Hypothesis</th>\n",
       "      <th>Reach</th>\n",
       "      <th>Impact</th>\n",
       "      <th>Confidence</th>\n",
       "      <th>Efforts</th>\n",
       "    </tr>\n",
       "  </thead>\n",
       "  <tbody>\n",
       "    <tr>\n",
       "      <th>0</th>\n",
       "      <td>Добавить два новых канала привлечения трафика, что позволит привлекать на 30% больше пользователей</td>\n",
       "      <td>3</td>\n",
       "      <td>10</td>\n",
       "      <td>8</td>\n",
       "      <td>6</td>\n",
       "    </tr>\n",
       "    <tr>\n",
       "      <th>1</th>\n",
       "      <td>Запустить собственную службу доставки, что сократит срок доставки заказов</td>\n",
       "      <td>2</td>\n",
       "      <td>5</td>\n",
       "      <td>4</td>\n",
       "      <td>10</td>\n",
       "    </tr>\n",
       "    <tr>\n",
       "      <th>2</th>\n",
       "      <td>Добавить блоки рекомендаций товаров на сайт интернет магазина, чтобы повысить конверсию и средний чек заказа</td>\n",
       "      <td>8</td>\n",
       "      <td>3</td>\n",
       "      <td>7</td>\n",
       "      <td>3</td>\n",
       "    </tr>\n",
       "    <tr>\n",
       "      <th>3</th>\n",
       "      <td>Изменить структура категорий, что увеличит конверсию, т.к. пользователи быстрее найдут нужный товар</td>\n",
       "      <td>8</td>\n",
       "      <td>3</td>\n",
       "      <td>3</td>\n",
       "      <td>8</td>\n",
       "    </tr>\n",
       "    <tr>\n",
       "      <th>4</th>\n",
       "      <td>Изменить цвет фона главной страницы, чтобы увеличить вовлеченность пользователей</td>\n",
       "      <td>3</td>\n",
       "      <td>1</td>\n",
       "      <td>1</td>\n",
       "      <td>1</td>\n",
       "    </tr>\n",
       "    <tr>\n",
       "      <th>5</th>\n",
       "      <td>Добавить страницу отзывов клиентов о магазине, что позволит увеличить количество заказов</td>\n",
       "      <td>3</td>\n",
       "      <td>2</td>\n",
       "      <td>2</td>\n",
       "      <td>3</td>\n",
       "    </tr>\n",
       "    <tr>\n",
       "      <th>6</th>\n",
       "      <td>Показать на главной странице баннеры с актуальными акциями и распродажами, чтобы увеличить конверсию</td>\n",
       "      <td>5</td>\n",
       "      <td>3</td>\n",
       "      <td>8</td>\n",
       "      <td>3</td>\n",
       "    </tr>\n",
       "    <tr>\n",
       "      <th>7</th>\n",
       "      <td>Добавить форму подписки на все основные страницы, чтобы собрать базу клиентов для email-рассылок</td>\n",
       "      <td>10</td>\n",
       "      <td>7</td>\n",
       "      <td>8</td>\n",
       "      <td>5</td>\n",
       "    </tr>\n",
       "    <tr>\n",
       "      <th>8</th>\n",
       "      <td>Запустить акцию, дающую скидку на товар в день рождения</td>\n",
       "      <td>1</td>\n",
       "      <td>9</td>\n",
       "      <td>9</td>\n",
       "      <td>5</td>\n",
       "    </tr>\n",
       "  </tbody>\n",
       "</table>\n",
       "</div>"
      ],
      "text/plain": [
       "                                                                                                     Hypothesis  \\\n",
       "0            Добавить два новых канала привлечения трафика, что позволит привлекать на 30% больше пользователей   \n",
       "1                                     Запустить собственную службу доставки, что сократит срок доставки заказов   \n",
       "2  Добавить блоки рекомендаций товаров на сайт интернет магазина, чтобы повысить конверсию и средний чек заказа   \n",
       "3           Изменить структура категорий, что увеличит конверсию, т.к. пользователи быстрее найдут нужный товар   \n",
       "4                              Изменить цвет фона главной страницы, чтобы увеличить вовлеченность пользователей   \n",
       "5                      Добавить страницу отзывов клиентов о магазине, что позволит увеличить количество заказов   \n",
       "6          Показать на главной странице баннеры с актуальными акциями и распродажами, чтобы увеличить конверсию   \n",
       "7              Добавить форму подписки на все основные страницы, чтобы собрать базу клиентов для email-рассылок   \n",
       "8                                                       Запустить акцию, дающую скидку на товар в день рождения   \n",
       "\n",
       "   Reach  Impact  Confidence  Efforts  \n",
       "0      3      10           8        6  \n",
       "1      2       5           4       10  \n",
       "2      8       3           7        3  \n",
       "3      8       3           3        8  \n",
       "4      3       1           1        1  \n",
       "5      3       2           2        3  \n",
       "6      5       3           8        3  \n",
       "7     10       7           8        5  \n",
       "8      1       9           9        5  "
      ]
     },
     "execution_count": 6,
     "metadata": {},
     "output_type": "execute_result"
    }
   ],
   "source": [
    "#ознакомимся с данными hypothesis\n",
    "pd.set_option('max_colwidth', 120)\n",
    "hypothesis"
   ]
  },
  {
   "cell_type": "code",
   "execution_count": 7,
   "metadata": {},
   "outputs": [],
   "source": [
    "#приведём названия столбцов к змеиному регистру \n",
    "hypothesis = hypothesis.rename(\n",
    "    columns={'Hypothesis':'hypothesis',\n",
    "        'Reach':'reach',\n",
    "        'Impact':'impact',\n",
    "        'Confidence':'confidence',\n",
    "        'Efforts':'efforts'}\n",
    ")"
   ]
  },
  {
   "cell_type": "markdown",
   "metadata": {},
   "source": [
    "**Применим фреймворк ICE для приоритизации гипотез. Отсортируем по убыванию приоритета.** "
   ]
  },
  {
   "cell_type": "code",
   "execution_count": 8,
   "metadata": {},
   "outputs": [
    {
     "data": {
      "text/html": [
       "<div>\n",
       "<style scoped>\n",
       "    .dataframe tbody tr th:only-of-type {\n",
       "        vertical-align: middle;\n",
       "    }\n",
       "\n",
       "    .dataframe tbody tr th {\n",
       "        vertical-align: top;\n",
       "    }\n",
       "\n",
       "    .dataframe thead th {\n",
       "        text-align: right;\n",
       "    }\n",
       "</style>\n",
       "<table border=\"1\" class=\"dataframe\">\n",
       "  <thead>\n",
       "    <tr style=\"text-align: right;\">\n",
       "      <th></th>\n",
       "      <th>hypothesis</th>\n",
       "      <th>ICE</th>\n",
       "    </tr>\n",
       "  </thead>\n",
       "  <tbody>\n",
       "    <tr>\n",
       "      <th>8</th>\n",
       "      <td>Запустить акцию, дающую скидку на товар в день рождения</td>\n",
       "      <td>16.200000</td>\n",
       "    </tr>\n",
       "    <tr>\n",
       "      <th>0</th>\n",
       "      <td>Добавить два новых канала привлечения трафика, что позволит привлекать на 30% больше пользователей</td>\n",
       "      <td>13.333333</td>\n",
       "    </tr>\n",
       "    <tr>\n",
       "      <th>7</th>\n",
       "      <td>Добавить форму подписки на все основные страницы, чтобы собрать базу клиентов для email-рассылок</td>\n",
       "      <td>11.200000</td>\n",
       "    </tr>\n",
       "    <tr>\n",
       "      <th>6</th>\n",
       "      <td>Показать на главной странице баннеры с актуальными акциями и распродажами, чтобы увеличить конверсию</td>\n",
       "      <td>8.000000</td>\n",
       "    </tr>\n",
       "    <tr>\n",
       "      <th>2</th>\n",
       "      <td>Добавить блоки рекомендаций товаров на сайт интернет магазина, чтобы повысить конверсию и средний чек заказа</td>\n",
       "      <td>7.000000</td>\n",
       "    </tr>\n",
       "    <tr>\n",
       "      <th>1</th>\n",
       "      <td>Запустить собственную службу доставки, что сократит срок доставки заказов</td>\n",
       "      <td>2.000000</td>\n",
       "    </tr>\n",
       "    <tr>\n",
       "      <th>5</th>\n",
       "      <td>Добавить страницу отзывов клиентов о магазине, что позволит увеличить количество заказов</td>\n",
       "      <td>1.333333</td>\n",
       "    </tr>\n",
       "    <tr>\n",
       "      <th>3</th>\n",
       "      <td>Изменить структура категорий, что увеличит конверсию, т.к. пользователи быстрее найдут нужный товар</td>\n",
       "      <td>1.125000</td>\n",
       "    </tr>\n",
       "    <tr>\n",
       "      <th>4</th>\n",
       "      <td>Изменить цвет фона главной страницы, чтобы увеличить вовлеченность пользователей</td>\n",
       "      <td>1.000000</td>\n",
       "    </tr>\n",
       "  </tbody>\n",
       "</table>\n",
       "</div>"
      ],
      "text/plain": [
       "                                                                                                     hypothesis  \\\n",
       "8                                                       Запустить акцию, дающую скидку на товар в день рождения   \n",
       "0            Добавить два новых канала привлечения трафика, что позволит привлекать на 30% больше пользователей   \n",
       "7              Добавить форму подписки на все основные страницы, чтобы собрать базу клиентов для email-рассылок   \n",
       "6          Показать на главной странице баннеры с актуальными акциями и распродажами, чтобы увеличить конверсию   \n",
       "2  Добавить блоки рекомендаций товаров на сайт интернет магазина, чтобы повысить конверсию и средний чек заказа   \n",
       "1                                     Запустить собственную службу доставки, что сократит срок доставки заказов   \n",
       "5                      Добавить страницу отзывов клиентов о магазине, что позволит увеличить количество заказов   \n",
       "3           Изменить структура категорий, что увеличит конверсию, т.к. пользователи быстрее найдут нужный товар   \n",
       "4                              Изменить цвет фона главной страницы, чтобы увеличить вовлеченность пользователей   \n",
       "\n",
       "        ICE  \n",
       "8 16.200000  \n",
       "0 13.333333  \n",
       "7 11.200000  \n",
       "6  8.000000  \n",
       "2  7.000000  \n",
       "1  2.000000  \n",
       "5  1.333333  \n",
       "3  1.125000  \n",
       "4  1.000000  "
      ]
     },
     "execution_count": 8,
     "metadata": {},
     "output_type": "execute_result"
    }
   ],
   "source": [
    "hypothesis['ICE'] = (hypothesis['impact'] * hypothesis['confidence'])/hypothesis['efforts']\n",
    "hypothesis[['hypothesis','ICE']].sort_values(by='ICE', ascending=False)"
   ]
  },
  {
   "cell_type": "markdown",
   "metadata": {},
   "source": [
    "**Применим фреймворк RICE для приоритизации гипотез. Отсортируем по убыванию приоритета.** "
   ]
  },
  {
   "cell_type": "code",
   "execution_count": 9,
   "metadata": {},
   "outputs": [
    {
     "data": {
      "text/html": [
       "<div>\n",
       "<style scoped>\n",
       "    .dataframe tbody tr th:only-of-type {\n",
       "        vertical-align: middle;\n",
       "    }\n",
       "\n",
       "    .dataframe tbody tr th {\n",
       "        vertical-align: top;\n",
       "    }\n",
       "\n",
       "    .dataframe thead th {\n",
       "        text-align: right;\n",
       "    }\n",
       "</style>\n",
       "<table border=\"1\" class=\"dataframe\">\n",
       "  <thead>\n",
       "    <tr style=\"text-align: right;\">\n",
       "      <th></th>\n",
       "      <th>hypothesis</th>\n",
       "      <th>RICE</th>\n",
       "      <th>ICE</th>\n",
       "    </tr>\n",
       "  </thead>\n",
       "  <tbody>\n",
       "    <tr>\n",
       "      <th>7</th>\n",
       "      <td>Добавить форму подписки на все основные страницы, чтобы собрать базу клиентов для email-рассылок</td>\n",
       "      <td>112.000000</td>\n",
       "      <td>11.200000</td>\n",
       "    </tr>\n",
       "    <tr>\n",
       "      <th>2</th>\n",
       "      <td>Добавить блоки рекомендаций товаров на сайт интернет магазина, чтобы повысить конверсию и средний чек заказа</td>\n",
       "      <td>56.000000</td>\n",
       "      <td>7.000000</td>\n",
       "    </tr>\n",
       "    <tr>\n",
       "      <th>0</th>\n",
       "      <td>Добавить два новых канала привлечения трафика, что позволит привлекать на 30% больше пользователей</td>\n",
       "      <td>40.000000</td>\n",
       "      <td>13.333333</td>\n",
       "    </tr>\n",
       "    <tr>\n",
       "      <th>6</th>\n",
       "      <td>Показать на главной странице баннеры с актуальными акциями и распродажами, чтобы увеличить конверсию</td>\n",
       "      <td>40.000000</td>\n",
       "      <td>8.000000</td>\n",
       "    </tr>\n",
       "    <tr>\n",
       "      <th>8</th>\n",
       "      <td>Запустить акцию, дающую скидку на товар в день рождения</td>\n",
       "      <td>16.200000</td>\n",
       "      <td>16.200000</td>\n",
       "    </tr>\n",
       "    <tr>\n",
       "      <th>3</th>\n",
       "      <td>Изменить структура категорий, что увеличит конверсию, т.к. пользователи быстрее найдут нужный товар</td>\n",
       "      <td>9.000000</td>\n",
       "      <td>1.125000</td>\n",
       "    </tr>\n",
       "    <tr>\n",
       "      <th>1</th>\n",
       "      <td>Запустить собственную службу доставки, что сократит срок доставки заказов</td>\n",
       "      <td>4.000000</td>\n",
       "      <td>2.000000</td>\n",
       "    </tr>\n",
       "    <tr>\n",
       "      <th>5</th>\n",
       "      <td>Добавить страницу отзывов клиентов о магазине, что позволит увеличить количество заказов</td>\n",
       "      <td>4.000000</td>\n",
       "      <td>1.333333</td>\n",
       "    </tr>\n",
       "    <tr>\n",
       "      <th>4</th>\n",
       "      <td>Изменить цвет фона главной страницы, чтобы увеличить вовлеченность пользователей</td>\n",
       "      <td>3.000000</td>\n",
       "      <td>1.000000</td>\n",
       "    </tr>\n",
       "  </tbody>\n",
       "</table>\n",
       "</div>"
      ],
      "text/plain": [
       "                                                                                                     hypothesis  \\\n",
       "7              Добавить форму подписки на все основные страницы, чтобы собрать базу клиентов для email-рассылок   \n",
       "2  Добавить блоки рекомендаций товаров на сайт интернет магазина, чтобы повысить конверсию и средний чек заказа   \n",
       "0            Добавить два новых канала привлечения трафика, что позволит привлекать на 30% больше пользователей   \n",
       "6          Показать на главной странице баннеры с актуальными акциями и распродажами, чтобы увеличить конверсию   \n",
       "8                                                       Запустить акцию, дающую скидку на товар в день рождения   \n",
       "3           Изменить структура категорий, что увеличит конверсию, т.к. пользователи быстрее найдут нужный товар   \n",
       "1                                     Запустить собственную службу доставки, что сократит срок доставки заказов   \n",
       "5                      Добавить страницу отзывов клиентов о магазине, что позволит увеличить количество заказов   \n",
       "4                              Изменить цвет фона главной страницы, чтобы увеличить вовлеченность пользователей   \n",
       "\n",
       "        RICE       ICE  \n",
       "7 112.000000 11.200000  \n",
       "2  56.000000  7.000000  \n",
       "0  40.000000 13.333333  \n",
       "6  40.000000  8.000000  \n",
       "8  16.200000 16.200000  \n",
       "3   9.000000  1.125000  \n",
       "1   4.000000  2.000000  \n",
       "5   4.000000  1.333333  \n",
       "4   3.000000  1.000000  "
      ]
     },
     "execution_count": 9,
     "metadata": {},
     "output_type": "execute_result"
    }
   ],
   "source": [
    "hypothesis['RICE'] = (hypothesis['impact'] * hypothesis['confidence'] * hypothesis['reach'])/hypothesis['efforts']\n",
    "hypothesis[['hypothesis','RICE','ICE']].sort_values(by='RICE', ascending=False)\n"
   ]
  },
  {
   "cell_type": "markdown",
   "metadata": {},
   "source": [
    "**Вывод:** В случае использования ICE самые преспективные 8,0,7,6, в случае использования RICE 7,2,0,6. \n",
    "\n",
    "При использовании для приоритизации RICE учитывается не только сила гипотез, но и их охват, поэтому произошло смещение приоритетов, например 8 гипотеза с переместилась с 1 на 5 место, т.к. охватывает исключительно пользователей, у которых день рождения.\n",
    "\n",
    "Нам требуется увеличить выручку.\n",
    "*Выручка = Средний чек покупки x Число привлечённых пользователей x Конверсия из пользователя в заказ.*\n",
    "Нам важны охват пользователей, средний чек и конверсия.\n",
    "\n",
    "Поэтому по результатам приоритизации стоит рассмотреть гипотезы 7, 2, 0, 6. \n",
    "У 8 гипотезы малый охват, поэтому её рассматривать не будем."
   ]
  },
  {
   "cell_type": "markdown",
   "metadata": {},
   "source": [
    "### Анализ результатов A/B теста"
   ]
  },
  {
   "cell_type": "markdown",
   "metadata": {},
   "source": [
    "В результате проведения A/B теста мы получили результаты, которые описаны в файлах orders.csv и visitors.csv."
   ]
  },
  {
   "cell_type": "markdown",
   "metadata": {},
   "source": [
    "#### Подготовка данных для анализа"
   ]
  },
  {
   "cell_type": "code",
   "execution_count": 11,
   "metadata": {},
   "outputs": [
    {
     "name": "stdout",
     "output_type": "stream",
     "text": [
      "<class 'pandas.core.frame.DataFrame'>\n",
      "RangeIndex: 1197 entries, 0 to 1196\n",
      "Data columns (total 5 columns):\n",
      " #   Column         Non-Null Count  Dtype \n",
      "---  ------         --------------  ----- \n",
      " 0   transactionId  1197 non-null   int64 \n",
      " 1   visitorId      1197 non-null   int64 \n",
      " 2   date           1197 non-null   object\n",
      " 3   revenue        1197 non-null   int64 \n",
      " 4   group          1197 non-null   object\n",
      "dtypes: int64(3), object(2)\n",
      "memory usage: 46.9+ KB\n",
      "None\n"
     ]
    },
    {
     "data": {
      "text/html": [
       "<div>\n",
       "<style scoped>\n",
       "    .dataframe tbody tr th:only-of-type {\n",
       "        vertical-align: middle;\n",
       "    }\n",
       "\n",
       "    .dataframe tbody tr th {\n",
       "        vertical-align: top;\n",
       "    }\n",
       "\n",
       "    .dataframe thead th {\n",
       "        text-align: right;\n",
       "    }\n",
       "</style>\n",
       "<table border=\"1\" class=\"dataframe\">\n",
       "  <thead>\n",
       "    <tr style=\"text-align: right;\">\n",
       "      <th></th>\n",
       "      <th>transactionId</th>\n",
       "      <th>visitorId</th>\n",
       "      <th>date</th>\n",
       "      <th>revenue</th>\n",
       "      <th>group</th>\n",
       "    </tr>\n",
       "  </thead>\n",
       "  <tbody>\n",
       "    <tr>\n",
       "      <th>0</th>\n",
       "      <td>3667963787</td>\n",
       "      <td>3312258926</td>\n",
       "      <td>2019-08-15</td>\n",
       "      <td>1650</td>\n",
       "      <td>B</td>\n",
       "    </tr>\n",
       "    <tr>\n",
       "      <th>1</th>\n",
       "      <td>2804400009</td>\n",
       "      <td>3642806036</td>\n",
       "      <td>2019-08-15</td>\n",
       "      <td>730</td>\n",
       "      <td>B</td>\n",
       "    </tr>\n",
       "    <tr>\n",
       "      <th>2</th>\n",
       "      <td>2961555356</td>\n",
       "      <td>4069496402</td>\n",
       "      <td>2019-08-15</td>\n",
       "      <td>400</td>\n",
       "      <td>A</td>\n",
       "    </tr>\n",
       "    <tr>\n",
       "      <th>3</th>\n",
       "      <td>3797467345</td>\n",
       "      <td>1196621759</td>\n",
       "      <td>2019-08-15</td>\n",
       "      <td>9759</td>\n",
       "      <td>B</td>\n",
       "    </tr>\n",
       "    <tr>\n",
       "      <th>4</th>\n",
       "      <td>2282983706</td>\n",
       "      <td>2322279887</td>\n",
       "      <td>2019-08-15</td>\n",
       "      <td>2308</td>\n",
       "      <td>B</td>\n",
       "    </tr>\n",
       "    <tr>\n",
       "      <th>...</th>\n",
       "      <td>...</td>\n",
       "      <td>...</td>\n",
       "      <td>...</td>\n",
       "      <td>...</td>\n",
       "      <td>...</td>\n",
       "    </tr>\n",
       "    <tr>\n",
       "      <th>1192</th>\n",
       "      <td>2662137336</td>\n",
       "      <td>3733762160</td>\n",
       "      <td>2019-08-14</td>\n",
       "      <td>6490</td>\n",
       "      <td>B</td>\n",
       "    </tr>\n",
       "    <tr>\n",
       "      <th>1193</th>\n",
       "      <td>2203539145</td>\n",
       "      <td>370388673</td>\n",
       "      <td>2019-08-14</td>\n",
       "      <td>3190</td>\n",
       "      <td>A</td>\n",
       "    </tr>\n",
       "    <tr>\n",
       "      <th>1194</th>\n",
       "      <td>1807773912</td>\n",
       "      <td>573423106</td>\n",
       "      <td>2019-08-14</td>\n",
       "      <td>10550</td>\n",
       "      <td>A</td>\n",
       "    </tr>\n",
       "    <tr>\n",
       "      <th>1195</th>\n",
       "      <td>1947021204</td>\n",
       "      <td>1614305549</td>\n",
       "      <td>2019-08-14</td>\n",
       "      <td>100</td>\n",
       "      <td>A</td>\n",
       "    </tr>\n",
       "    <tr>\n",
       "      <th>1196</th>\n",
       "      <td>3936777065</td>\n",
       "      <td>2108080724</td>\n",
       "      <td>2019-08-15</td>\n",
       "      <td>202740</td>\n",
       "      <td>B</td>\n",
       "    </tr>\n",
       "  </tbody>\n",
       "</table>\n",
       "<p>1197 rows × 5 columns</p>\n",
       "</div>"
      ],
      "text/plain": [
       "      transactionId   visitorId        date  revenue group\n",
       "0        3667963787  3312258926  2019-08-15     1650     B\n",
       "1        2804400009  3642806036  2019-08-15      730     B\n",
       "2        2961555356  4069496402  2019-08-15      400     A\n",
       "3        3797467345  1196621759  2019-08-15     9759     B\n",
       "4        2282983706  2322279887  2019-08-15     2308     B\n",
       "...             ...         ...         ...      ...   ...\n",
       "1192     2662137336  3733762160  2019-08-14     6490     B\n",
       "1193     2203539145   370388673  2019-08-14     3190     A\n",
       "1194     1807773912   573423106  2019-08-14    10550     A\n",
       "1195     1947021204  1614305549  2019-08-14      100     A\n",
       "1196     3936777065  2108080724  2019-08-15   202740     B\n",
       "\n",
       "[1197 rows x 5 columns]"
      ]
     },
     "execution_count": 11,
     "metadata": {},
     "output_type": "execute_result"
    }
   ],
   "source": [
    "#загрузим данные и ознакомимся с файлами\n",
    "orders = pd.read_csv('C:/Users/Aleks/practicum/datasets/orders.csv')\n",
    "visitors = pd.read_csv('C:/Users/Aleks/practicum/datasets/visitors.csv')\n",
    "print(orders.info())\n",
    "orders"
   ]
  },
  {
   "cell_type": "code",
   "execution_count": 12,
   "metadata": {},
   "outputs": [
    {
     "name": "stdout",
     "output_type": "stream",
     "text": [
      "<class 'pandas.core.frame.DataFrame'>\n",
      "RangeIndex: 62 entries, 0 to 61\n",
      "Data columns (total 3 columns):\n",
      " #   Column    Non-Null Count  Dtype \n",
      "---  ------    --------------  ----- \n",
      " 0   date      62 non-null     object\n",
      " 1   group     62 non-null     object\n",
      " 2   visitors  62 non-null     int64 \n",
      "dtypes: int64(1), object(2)\n",
      "memory usage: 1.6+ KB\n",
      "None\n"
     ]
    },
    {
     "data": {
      "text/html": [
       "<div>\n",
       "<style scoped>\n",
       "    .dataframe tbody tr th:only-of-type {\n",
       "        vertical-align: middle;\n",
       "    }\n",
       "\n",
       "    .dataframe tbody tr th {\n",
       "        vertical-align: top;\n",
       "    }\n",
       "\n",
       "    .dataframe thead th {\n",
       "        text-align: right;\n",
       "    }\n",
       "</style>\n",
       "<table border=\"1\" class=\"dataframe\">\n",
       "  <thead>\n",
       "    <tr style=\"text-align: right;\">\n",
       "      <th></th>\n",
       "      <th>date</th>\n",
       "      <th>group</th>\n",
       "      <th>visitors</th>\n",
       "    </tr>\n",
       "  </thead>\n",
       "  <tbody>\n",
       "    <tr>\n",
       "      <th>0</th>\n",
       "      <td>2019-08-01</td>\n",
       "      <td>A</td>\n",
       "      <td>719</td>\n",
       "    </tr>\n",
       "    <tr>\n",
       "      <th>1</th>\n",
       "      <td>2019-08-02</td>\n",
       "      <td>A</td>\n",
       "      <td>619</td>\n",
       "    </tr>\n",
       "    <tr>\n",
       "      <th>2</th>\n",
       "      <td>2019-08-03</td>\n",
       "      <td>A</td>\n",
       "      <td>507</td>\n",
       "    </tr>\n",
       "    <tr>\n",
       "      <th>3</th>\n",
       "      <td>2019-08-04</td>\n",
       "      <td>A</td>\n",
       "      <td>717</td>\n",
       "    </tr>\n",
       "    <tr>\n",
       "      <th>4</th>\n",
       "      <td>2019-08-05</td>\n",
       "      <td>A</td>\n",
       "      <td>756</td>\n",
       "    </tr>\n",
       "    <tr>\n",
       "      <th>...</th>\n",
       "      <td>...</td>\n",
       "      <td>...</td>\n",
       "      <td>...</td>\n",
       "    </tr>\n",
       "    <tr>\n",
       "      <th>57</th>\n",
       "      <td>2019-08-27</td>\n",
       "      <td>B</td>\n",
       "      <td>720</td>\n",
       "    </tr>\n",
       "    <tr>\n",
       "      <th>58</th>\n",
       "      <td>2019-08-28</td>\n",
       "      <td>B</td>\n",
       "      <td>654</td>\n",
       "    </tr>\n",
       "    <tr>\n",
       "      <th>59</th>\n",
       "      <td>2019-08-29</td>\n",
       "      <td>B</td>\n",
       "      <td>531</td>\n",
       "    </tr>\n",
       "    <tr>\n",
       "      <th>60</th>\n",
       "      <td>2019-08-30</td>\n",
       "      <td>B</td>\n",
       "      <td>490</td>\n",
       "    </tr>\n",
       "    <tr>\n",
       "      <th>61</th>\n",
       "      <td>2019-08-31</td>\n",
       "      <td>B</td>\n",
       "      <td>718</td>\n",
       "    </tr>\n",
       "  </tbody>\n",
       "</table>\n",
       "<p>62 rows × 3 columns</p>\n",
       "</div>"
      ],
      "text/plain": [
       "          date group  visitors\n",
       "0   2019-08-01     A       719\n",
       "1   2019-08-02     A       619\n",
       "2   2019-08-03     A       507\n",
       "3   2019-08-04     A       717\n",
       "4   2019-08-05     A       756\n",
       "..         ...   ...       ...\n",
       "57  2019-08-27     B       720\n",
       "58  2019-08-28     B       654\n",
       "59  2019-08-29     B       531\n",
       "60  2019-08-30     B       490\n",
       "61  2019-08-31     B       718\n",
       "\n",
       "[62 rows x 3 columns]"
      ]
     },
     "execution_count": 12,
     "metadata": {},
     "output_type": "execute_result"
    }
   ],
   "source": [
    "print(visitors.info())\n",
    "visitors"
   ]
  },
  {
   "cell_type": "code",
   "execution_count": 13,
   "metadata": {},
   "outputs": [
    {
     "name": "stdout",
     "output_type": "stream",
     "text": [
      "Пропуски в данных в датафрейме visitors\n",
      "date        0\n",
      "group       0\n",
      "visitors    0\n",
      "dtype: int64\n",
      "Всего строк в датафрейме 62\n",
      "---\n",
      "Пропуски в данных в датафрейме orders\n",
      "transaction_id    0\n",
      "visitor_id        0\n",
      "date              0\n",
      "revenue           0\n",
      "group             0\n",
      "dtype: int64\n",
      "Всего строк в датафрейме 1197\n",
      "---\n"
     ]
    }
   ],
   "source": [
    "#приведём названия столбцов к змеиному регистру \n",
    "orders = orders.rename(\n",
    "    columns={'transactionId':'transaction_id',\n",
    "        'visitorId':'visitor_id'}\n",
    ")\n",
    "#приведёт тип данных в столбцах date\n",
    "orders['date'] = pd.to_datetime(orders['date'])\n",
    "visitors['date'] = pd.to_datetime(visitors['date'])\n",
    "\n",
    "#проверим пропуски в данных\n",
    "temp = ['visitors','orders']\n",
    "for i, frame in enumerate([visitors,orders]):\n",
    "    print('Пропуски в данных в датафрейме', temp[i])\n",
    "    print(frame.isna().sum())\n",
    "    print('Всего строк в датафрейме', len(frame))\n",
    "    print('---')"
   ]
  },
  {
   "cell_type": "markdown",
   "metadata": {},
   "source": [
    "**Вывод:** Данные из файлов загружены. Выполнена предварительная обработка датасетов для удобства работы. Дубликаты не обнаружены. Столбцы в датасетах, содержащие данные о времени приведены к требуемым типам."
   ]
  },
  {
   "cell_type": "markdown",
   "metadata": {},
   "source": [
    "Изучим состав групп участников теста:"
   ]
  },
  {
   "cell_type": "code",
   "execution_count": 16,
   "metadata": {},
   "outputs": [
    {
     "name": "stdout",
     "output_type": "stream",
     "text": [
      "Общее число уникальных пользователей, учавствующих в тесте: 1031\n",
      "Всего уникальных пользователей в каждой группе: \n",
      "        visitor_id\n",
      "group            \n",
      "A             503\n",
      "B             586\n",
      "Пересекающихся по группе A/B пользователей: group    58\n",
      "dtype: int64\n"
     ]
    }
   ],
   "source": [
    "#посчитаем число уникальных пользователей\n",
    "print('Общее число уникальных пользователей, учавствующих в тесте:', orders['visitor_id'].nunique())\n",
    "\n",
    "#по группам\n",
    "print('Всего уникальных пользователей в каждой группе: \\n', \n",
    "      orders.groupby('group').agg({'visitor_id':'nunique'}))\n",
    "\n",
    "#посчитаем пересекающихся пользователей\n",
    "print('Пересекающихся по группе A/B пользователей:',\n",
    "      orders.pivot_table(index='visitor_id', values='group', aggfunc='nunique').query('group==2').count())"
   ]
  },
  {
   "cell_type": "markdown",
   "metadata": {},
   "source": [
    "Есть пересечения уникальных пользователей в разных группах, но мы не можем удалить эти данные, так как удаление возможно лишь в датафрейме orders, в visits выявить пересечения мы не можем, и \"чистка\" лишь одного датафрейма повлияет на результаты исследования."
   ]
  },
  {
   "cell_type": "markdown",
   "metadata": {},
   "source": [
    "#### Анализ данных A/B теста"
   ]
  },
  {
   "cell_type": "markdown",
   "metadata": {},
   "source": [
    "##### Построим график кумулятивной выручки по группам."
   ]
  },
  {
   "cell_type": "code",
   "execution_count": 12,
   "metadata": {},
   "outputs": [
    {
     "data": {
      "image/png": "[encoded data removed]",
      "text/plain": [
       "<Figure size 864x576 with 1 Axes>"
      ]
     },
     "metadata": {
      "needs_background": "light"
     },
     "output_type": "display_data"
    }
   ],
   "source": [
    "datesGroups = orders[['date', 'group']].drop_duplicates()\n",
    "\n",
    "ordersAggregated = datesGroups.apply(\n",
    "    lambda x: orders[\n",
    "        np.logical_and(\n",
    "            orders['date'] <= x['date'], orders['group'] == x['group']\n",
    "        )\n",
    "    ].agg(\n",
    "        {\n",
    "            'date': 'max',\n",
    "            'group': 'max',\n",
    "            'transaction_id': 'nunique',\n",
    "            'visitor_id': 'nunique',\n",
    "            'revenue': 'sum',\n",
    "        }\n",
    "    ),\n",
    "    axis=1,\n",
    ").sort_values(by=['date', 'group'])\n",
    "\n",
    "visitorsAggregated = datesGroups.apply(\n",
    "    lambda x: visitors[\n",
    "        np.logical_and(\n",
    "            visitors['date'] <= x['date'], visitors['group'] == x['group']\n",
    "        )\n",
    "    ].agg({'date': 'max', 'group': 'max', 'visitors': 'sum'}),\n",
    "    axis=1,\n",
    ").sort_values(by=['date', 'group'])\n",
    "\n",
    "cumulativeData = ordersAggregated.merge(\n",
    "    visitorsAggregated, left_on=['date', 'group'], right_on=['date', 'group']\n",
    ")\n",
    "cumulativeData.columns = [\n",
    "    'date',\n",
    "    'group',\n",
    "    'orders',\n",
    "    'buyers',\n",
    "    'revenue',\n",
    "    'visitors',\n",
    "]\n",
    "\n",
    "# датафрейм с кумулятивным количеством заказов и кумулятивной выручкой по дням в группе А\n",
    "cumulativeRevenueA = cumulativeData[cumulativeData['group']=='A'][['date','revenue', 'orders']]\n",
    "\n",
    "# датафрейм с кумулятивным количеством заказов и кумулятивной выручкой по дням в группе B\n",
    "cumulativeRevenueB = cumulativeData[cumulativeData['group']=='B'][['date','revenue', 'orders']]\n",
    "\n",
    "# задаём размер сетки для графика\n",
    "plt.figure(figsize=(12, 8))\n",
    "\n",
    "# Строим график выручки группы А\n",
    "plt.plot(cumulativeRevenueA['date'], cumulativeRevenueA['revenue'], label='группа A')\n",
    "\n",
    "# Строим график выручки группы B\n",
    "plt.plot(cumulativeRevenueB['date'], cumulativeRevenueB['revenue'], label='группа B')\n",
    "\n",
    "#покажем подписи на графике\n",
    "plt.xticks(rotation=45, fontsize='10', horizontalalignment='right')\n",
    "plt.title('Кумулятивная выручка по группам')\n",
    "plt.legend()\n",
    "plt.ylabel('Кумулятивная выручка');\n",
    "#plt.xlabel('Дата');"
   ]
  },
  {
   "cell_type": "markdown",
   "metadata": {},
   "source": [
    "**Вывод:** в середине теста группа B резко вырвалась вперёд и сохранила позиции до конца теста. Вероятно, причина в резком росте количества заказов или в появлении очень дорогих заказов. Выясним это далее."
   ]
  },
  {
   "cell_type": "markdown",
   "metadata": {},
   "source": [
    "##### Построим график кумулятивного среднего чека по группам"
   ]
  },
  {
   "cell_type": "code",
   "execution_count": 13,
   "metadata": {},
   "outputs": [
    {
     "data": {
      "image/png": "[encoded data removed]",
      "text/plain": [
       "<Figure size 864x576 with 1 Axes>"
      ]
     },
     "metadata": {
      "needs_background": "light"
     },
     "output_type": "display_data"
    }
   ],
   "source": [
    "plt.figure(figsize=(12, 8))\n",
    "plt.plot(cumulativeRevenueA['date'], cumulativeRevenueA['revenue']/cumulativeRevenueA['orders'], label='группа A')\n",
    "plt.plot(cumulativeRevenueB['date'], cumulativeRevenueB['revenue']/cumulativeRevenueB['orders'], label='группа B')\n",
    "plt.xticks(rotation=45, fontsize='10', horizontalalignment='right')\n",
    "plt.title('Кумулятивный средний чек по группам')\n",
    "plt.legend()\n",
    "plt.ylabel('Сумма чека');"
   ]
  },
  {
   "cell_type": "markdown",
   "metadata": {},
   "source": [
    "**Вывод:** Видим значительные колебания графиков по обеим группам. Но в группе А в середине теста средний чек стабилизировался, а вот в группе B - заметен резкий всплек - значит в группе B действительно были дорогие заказы."
   ]
  },
  {
   "cell_type": "markdown",
   "metadata": {},
   "source": [
    "##### Построим график относительного изменения кумулятивного среднего чека группы B к группе A. "
   ]
  },
  {
   "cell_type": "code",
   "execution_count": 14,
   "metadata": {},
   "outputs": [
    {
     "data": {
      "image/png": "[encoded data removed]",
      "text/plain": [
       "<Figure size 864x576 with 1 Axes>"
      ]
     },
     "metadata": {
      "needs_background": "light"
     },
     "output_type": "display_data"
    }
   ],
   "source": [
    "mergedCumulativeRevenue = cumulativeRevenueA.merge(\n",
    "    cumulativeRevenueB, left_on='date', right_on='date', how='left', suffixes=['A', 'B'])\n",
    "\n",
    "plt.figure(figsize=(12, 8))\n",
    "plt.plot(\n",
    "    mergedCumulativeRevenue['date'],\n",
    "    (mergedCumulativeRevenue['revenueB']/mergedCumulativeRevenue['ordersB'])/\n",
    "    (mergedCumulativeRevenue['revenueA']/mergedCumulativeRevenue['ordersA'])\n",
    "    -1)\n",
    "\n",
    "# добавляем ось X\n",
    "plt.axhline(y=0, color='black', linestyle='--')\n",
    "\n",
    "plt.xticks(rotation=45, fontsize='10', horizontalalignment='right')\n",
    "plt.title('Относительное изменение кумулятивного среднего чека группы B к группе A')\n",
    "plt.ylabel('относительное изменение');"
   ]
  },
  {
   "cell_type": "markdown",
   "metadata": {},
   "source": [
    "**Вывод:** график \"скачет\". Наверняка есть крупные заказы и выбросы, проанализируем это далее."
   ]
  },
  {
   "cell_type": "markdown",
   "metadata": {},
   "source": [
    "##### Построим график кумулятивного среднего количества заказов на посетителя по группам. "
   ]
  },
  {
   "cell_type": "code",
   "execution_count": 15,
   "metadata": {},
   "outputs": [
    {
     "data": {
      "image/png": "[encoded data removed]",
      "text/plain": [
       "<Figure size 864x576 with 1 Axes>"
      ]
     },
     "metadata": {
      "needs_background": "light"
     },
     "output_type": "display_data"
    }
   ],
   "source": [
    "cumulativeData['conversion'] = cumulativeData['orders']/cumulativeData['visitors']\n",
    "\n",
    "# отделяем данные по группе A\n",
    "cumulativeDataA = cumulativeData[cumulativeData['group']=='A']\n",
    "\n",
    "# отделяем данные по группе B\n",
    "cumulativeDataB = cumulativeData[cumulativeData['group']=='B']\n",
    "\n",
    "# строим графики\n",
    "plt.figure(figsize=(12, 8))\n",
    "plt.plot(cumulativeDataA['date'], cumulativeDataA['conversion'], label='группа A')\n",
    "plt.plot(cumulativeDataB['date'], cumulativeDataB['conversion'], label='группа B')\n",
    "plt.legend()\n",
    "\n",
    "# задаем масштаб осей\n",
    "plt.axis([dt.datetime(2019, 8, 1), dt.datetime(2019, 9, 1), 0, 0.05]);\n",
    "\n",
    "plt.xticks(rotation=45, fontsize='10', horizontalalignment='right')\n",
    "plt.title('Кумулятивное среднее количество заказов на посетителя по группам')\n",
    "plt.legend()\n",
    "plt.ylabel('Среднее количество заказов на посетителя');"
   ]
  },
  {
   "cell_type": "markdown",
   "metadata": {},
   "source": [
    "**Вывод:** изначально значения в группах колебались, но потом группа B стала лидировать. К концу теста показатели уверенно зафиксировались."
   ]
  },
  {
   "cell_type": "markdown",
   "metadata": {},
   "source": [
    "##### Построим график относительного изменения кумулятивного среднего количества заказов на посетителя группы B к группе A"
   ]
  },
  {
   "cell_type": "code",
   "execution_count": 16,
   "metadata": {},
   "outputs": [
    {
     "data": {
      "image/png": "[encoded data removed]",
      "text/plain": [
       "<Figure size 864x576 with 1 Axes>"
      ]
     },
     "metadata": {
      "needs_background": "light"
     },
     "output_type": "display_data"
    }
   ],
   "source": [
    "#строим сводную таблицу\n",
    "mergedCumulativeConversions = (\n",
    "    cumulativeDataA[['date','conversion']]\n",
    "    .merge(cumulativeDataB[['date','conversion']], left_on='date', right_on='date', how='left', suffixes=['A', 'B'])\n",
    ")\n",
    "\n",
    "# строим график\n",
    "plt.figure(figsize=(12, 8))\n",
    "plt.plot(\n",
    "    mergedCumulativeConversions['date'],\n",
    "    mergedCumulativeConversions['conversionB']/mergedCumulativeConversions['conversionA']-1,\n",
    "    label=\"Прирост среднего количества заказов на посетителя группы B относительно группы A\"\n",
    ")\n",
    "plt.legend()\n",
    "\n",
    "\n",
    "plt.axhline(y=0, color='black', linestyle='--')\n",
    "plt.axhline(y=0.1, color='grey', linestyle='--')\n",
    "plt.axis([dt.datetime(2019, 8, 1), dt.datetime(2019, 9, 1), -0.5, 0.5])\n",
    "plt.xticks(rotation=45, fontsize='10', horizontalalignment='right')\n",
    "plt.title('относительное изменение кумулятивного среднего количества заказов на посетителя группы B к группе A')\n",
    "plt.legend()\n",
    "plt.ylabel('относительное изменение');"
   ]
  },
  {
   "cell_type": "markdown",
   "metadata": {},
   "source": [
    "**Вывод:** в начале теста группа B явно отставала, но потом вырвалась вперед. Далее показатели в B снизились, но в целом остались лучше чем в группе А, и к концу теста стабилизировались."
   ]
  },
  {
   "cell_type": "markdown",
   "metadata": {},
   "source": [
    "##### Построим точечный график количества заказов по пользователям."
   ]
  },
  {
   "cell_type": "code",
   "execution_count": 17,
   "metadata": {},
   "outputs": [
    {
     "data": {
      "image/png": "[encoded data removed]",
      "text/plain": [
       "<Figure size 432x288 with 1 Axes>"
      ]
     },
     "metadata": {
      "needs_background": "light"
     },
     "output_type": "display_data"
    }
   ],
   "source": [
    "ordersByUsers = (\n",
    "    orders.groupby('visitor_id', as_index=False)\n",
    "    .agg({'transaction_id': 'nunique'})\n",
    ")\n",
    "ordersByUsers.columns = ['visitor_id', 'orders']\n",
    "\n",
    "# серия из чисел от 0 до количества наблюдений в ordersByUsers\n",
    "x_values = pd.Series(range(0, len(ordersByUsers)))\n",
    "plt.scatter(x_values, ordersByUsers['orders'])\n",
    "#plt.xticks(rotation=45, fontsize='10', horizontalalignment='right')\n",
    "plt.title('точечный график количества заказов по пользователям')\n",
    "plt.ylabel('кол-во заказов')\n",
    "plt.xlabel(''); #подпись для оси Х"
   ]
  },
  {
   "cell_type": "markdown",
   "metadata": {},
   "source": [
    "**Вывод:** пользователей, заказавших больше 2х раз - сравнительно мало. Посчитаем выборочные перцентили, чтобы оценить долю пользователей с заказами более 2-х."
   ]
  },
  {
   "cell_type": "markdown",
   "metadata": {},
   "source": [
    "##### Посчитаем 95-й и 99-й перцентили количества заказов на пользователя."
   ]
  },
  {
   "cell_type": "code",
   "execution_count": 18,
   "metadata": {},
   "outputs": [
    {
     "name": "stdout",
     "output_type": "stream",
     "text": [
      "[2. 4.]\n"
     ]
    }
   ],
   "source": [
    "print(np.percentile(ordersByUsers['orders'], [95, 99])) "
   ]
  },
  {
   "cell_type": "markdown",
   "metadata": {},
   "source": [
    "**Вывод:** Не более 5% пользователей сделали больше 2х заказов, и не более 1% - больше 4х. Примем за верхнюю границу 3 заказа на пользователя, и исключим по ней аномальных пользователей."
   ]
  },
  {
   "cell_type": "markdown",
   "metadata": {},
   "source": [
    "##### Построим точечный график стоимости заказов."
   ]
  },
  {
   "cell_type": "code",
   "execution_count": 19,
   "metadata": {},
   "outputs": [
    {
     "data": {
      "image/png": "[encoded data removed]",
      "text/plain": [
       "<Figure size 432x288 with 1 Axes>"
      ]
     },
     "metadata": {
      "needs_background": "light"
     },
     "output_type": "display_data"
    }
   ],
   "source": [
    "x_values = pd.Series(range(0, len(orders['revenue'])))\n",
    "plt.scatter(x_values, orders['revenue'])\n",
    "plt.title('точечный график стоимости заказов')\n",
    "plt.ylabel('стоимость заказа')\n",
    "plt.xlabel(''); #подпись для оси Х"
   ]
  },
  {
   "cell_type": "markdown",
   "metadata": {},
   "source": [
    "**Вывод:** Стоимость большинства заказов не превышает 100000. Есть всего лишь несколько заказов дороже, можно считать их аномальными."
   ]
  },
  {
   "cell_type": "markdown",
   "metadata": {},
   "source": [
    "Отсечём выбросы и построим более информативный график."
   ]
  },
  {
   "cell_type": "code",
   "execution_count": 20,
   "metadata": {},
   "outputs": [
    {
     "data": {
      "text/html": [
       "<div>\n",
       "<style scoped>\n",
       "    .dataframe tbody tr th:only-of-type {\n",
       "        vertical-align: middle;\n",
       "    }\n",
       "\n",
       "    .dataframe tbody tr th {\n",
       "        vertical-align: top;\n",
       "    }\n",
       "\n",
       "    .dataframe thead th {\n",
       "        text-align: right;\n",
       "    }\n",
       "</style>\n",
       "<table border=\"1\" class=\"dataframe\">\n",
       "  <thead>\n",
       "    <tr style=\"text-align: right;\">\n",
       "      <th></th>\n",
       "      <th>transaction_id</th>\n",
       "      <th>visitor_id</th>\n",
       "      <th>date</th>\n",
       "      <th>revenue</th>\n",
       "      <th>group</th>\n",
       "    </tr>\n",
       "  </thead>\n",
       "  <tbody>\n",
       "    <tr>\n",
       "      <th>425</th>\n",
       "      <td>590470918</td>\n",
       "      <td>1920142716</td>\n",
       "      <td>2019-08-19</td>\n",
       "      <td>1294500</td>\n",
       "      <td>B</td>\n",
       "    </tr>\n",
       "    <tr>\n",
       "      <th>1196</th>\n",
       "      <td>3936777065</td>\n",
       "      <td>2108080724</td>\n",
       "      <td>2019-08-15</td>\n",
       "      <td>202740</td>\n",
       "      <td>B</td>\n",
       "    </tr>\n",
       "    <tr>\n",
       "      <th>858</th>\n",
       "      <td>192721366</td>\n",
       "      <td>1316129916</td>\n",
       "      <td>2019-08-27</td>\n",
       "      <td>93940</td>\n",
       "      <td>A</td>\n",
       "    </tr>\n",
       "    <tr>\n",
       "      <th>1136</th>\n",
       "      <td>666610489</td>\n",
       "      <td>1307669133</td>\n",
       "      <td>2019-08-13</td>\n",
       "      <td>92550</td>\n",
       "      <td>A</td>\n",
       "    </tr>\n",
       "    <tr>\n",
       "      <th>744</th>\n",
       "      <td>3668308183</td>\n",
       "      <td>888512513</td>\n",
       "      <td>2019-08-27</td>\n",
       "      <td>86620</td>\n",
       "      <td>B</td>\n",
       "    </tr>\n",
       "    <tr>\n",
       "      <th>682</th>\n",
       "      <td>1216533772</td>\n",
       "      <td>4266935830</td>\n",
       "      <td>2019-08-29</td>\n",
       "      <td>78990</td>\n",
       "      <td>B</td>\n",
       "    </tr>\n",
       "    <tr>\n",
       "      <th>662</th>\n",
       "      <td>1811671147</td>\n",
       "      <td>4266935830</td>\n",
       "      <td>2019-08-29</td>\n",
       "      <td>78990</td>\n",
       "      <td>A</td>\n",
       "    </tr>\n",
       "    <tr>\n",
       "      <th>743</th>\n",
       "      <td>3603576309</td>\n",
       "      <td>4133034833</td>\n",
       "      <td>2019-08-09</td>\n",
       "      <td>67990</td>\n",
       "      <td>A</td>\n",
       "    </tr>\n",
       "    <tr>\n",
       "      <th>1103</th>\n",
       "      <td>1348774318</td>\n",
       "      <td>1164614297</td>\n",
       "      <td>2019-08-12</td>\n",
       "      <td>66350</td>\n",
       "      <td>A</td>\n",
       "    </tr>\n",
       "    <tr>\n",
       "      <th>1099</th>\n",
       "      <td>316924019</td>\n",
       "      <td>148427295</td>\n",
       "      <td>2019-08-12</td>\n",
       "      <td>65710</td>\n",
       "      <td>A</td>\n",
       "    </tr>\n",
       "  </tbody>\n",
       "</table>\n",
       "</div>"
      ],
      "text/plain": [
       "      transaction_id  visitor_id       date  revenue group\n",
       "425        590470918  1920142716 2019-08-19  1294500     B\n",
       "1196      3936777065  2108080724 2019-08-15   202740     B\n",
       "858        192721366  1316129916 2019-08-27    93940     A\n",
       "1136       666610489  1307669133 2019-08-13    92550     A\n",
       "744       3668308183   888512513 2019-08-27    86620     B\n",
       "682       1216533772  4266935830 2019-08-29    78990     B\n",
       "662       1811671147  4266935830 2019-08-29    78990     A\n",
       "743       3603576309  4133034833 2019-08-09    67990     A\n",
       "1103      1348774318  1164614297 2019-08-12    66350     A\n",
       "1099       316924019   148427295 2019-08-12    65710     A"
      ]
     },
     "execution_count": 20,
     "metadata": {},
     "output_type": "execute_result"
    }
   ],
   "source": [
    "#для начала построим таблицу с сортировкой по верхним значениям\n",
    "orders.sort_values(by='revenue',ascending=False).head(10)"
   ]
  },
  {
   "cell_type": "code",
   "execution_count": 21,
   "metadata": {},
   "outputs": [
    {
     "data": {
      "image/png": "[encoded data removed]",
      "text/plain": [
       "<Figure size 432x288 with 1 Axes>"
      ]
     },
     "metadata": {
      "needs_background": "light"
     },
     "output_type": "display_data"
    }
   ],
   "source": [
    "#действительно, видим 2 выброса. Строим график\n",
    "x_values = pd.Series(range(0, len(orders.loc[(orders['revenue']<100000),'revenue'])))\n",
    "plt.scatter(x_values, orders.loc[(orders['revenue']<100000),'revenue'])\n",
    "plt.title('точечный график стоимости заказов')\n",
    "plt.ylabel('стоимость заказа')\n",
    "plt.xlabel(''); #подпись для оси Х;"
   ]
  },
  {
   "cell_type": "markdown",
   "metadata": {},
   "source": [
    "**Вывод:** график изменился, видим значительный разброс значений. Однако какую стоимость заказа стоит считать в итоге аномальной? Для этого посчитаем выборочные перцентили."
   ]
  },
  {
   "cell_type": "markdown",
   "metadata": {},
   "source": [
    "##### Посчитаем 95-й, 97-й и 99-й перцентили стоимости заказов."
   ]
  },
  {
   "cell_type": "code",
   "execution_count": 22,
   "metadata": {},
   "outputs": [
    {
     "name": "stdout",
     "output_type": "stream",
     "text": [
      "[28000.  35485.  58233.2]\n"
     ]
    }
   ],
   "source": [
    "print(np.percentile(orders['revenue'], [95, 97, 99])) "
   ]
  },
  {
   "cell_type": "markdown",
   "metadata": {},
   "source": [
    "**Вывод:** Не более 5% заказов стоят дороже 28000, не более 3% заказов стоят дороже 35485, и не более 1% - дороже 58233.2. Примем за верхнюю границу стоимость 50000, и исключим по ней аномальные заказы."
   ]
  },
  {
   "cell_type": "markdown",
   "metadata": {},
   "source": [
    "##### Проверим гипотезу о том, что статистически значимых различий в среднем числе заказов на посетителя между группами A и B нет. Проверку проведём по «сырым» данным. "
   ]
  },
  {
   "cell_type": "markdown",
   "metadata": {},
   "source": [
    "Зададим для всех тестов уровень статистической значимости alpha = 0.05.\n",
    "\n",
    "Сформулируем нулевую гипотезу:<br>\n",
    "статистически значимых различий в среднем числе заказов на посетителя по \"сырым\" данным между группами A и B нет.<br>\n",
    "Альтернативная гипотеза:<br>\n",
    "в среднем числе заказов на посетителя по \"сырым\" данным между группами A и B значительная разница.\n",
    "\n"
   ]
  },
  {
   "cell_type": "code",
   "execution_count": 23,
   "metadata": {},
   "outputs": [
    {
     "name": "stdout",
     "output_type": "stream",
     "text": [
      "p-value: 0.01679\n",
      "Прирост среднего числа заказов на посетителя группы B относительно группы A: 13.80788 %\n"
     ]
    }
   ],
   "source": [
    "#вынесём вычисления в функцию. В дальнейшем мы проделаем одни и те же операции с \"сырыми\" и \"чистыми\" данными\n",
    "\n",
    "#в функцию передаём только изначальные датафреймы\n",
    "\n",
    "def my_func(orders, visitors):\n",
    "    visitorsADaily = visitors[visitors['group'] == 'A'][['date', 'visitors']]\n",
    "    visitorsADaily.columns = ['date', 'visitorsPerDateA']\n",
    "\n",
    "    visitorsACummulative = visitorsADaily.apply(\n",
    "        lambda x: visitorsADaily[visitorsADaily['date'] <= x['date']].agg(\n",
    "            {'date': 'max', 'visitorsPerDateA': 'sum'}\n",
    "        ),\n",
    "        axis=1,\n",
    "    )\n",
    "    visitorsACummulative.columns = ['date', 'visitorsCummulativeA']\n",
    "\n",
    "    visitorsBDaily = visitors[visitors['group'] == 'B'][['date', 'visitors']]\n",
    "    visitorsBDaily.columns = ['date', 'visitorsPerDateB']\n",
    "\n",
    "    visitorsBCummulative = visitorsBDaily.apply(\n",
    "        lambda x: visitorsBDaily[visitorsBDaily['date'] <= x['date']].agg(\n",
    "            {'date': 'max', 'visitorsPerDateB': 'sum'}\n",
    "        ),\n",
    "        axis=1,\n",
    "    )\n",
    "    visitorsBCummulative.columns = ['date', 'visitorsCummulativeB']\n",
    "\n",
    "    ordersADaily = (\n",
    "        orders[orders['group'] == 'A'][['date', 'transaction_id', 'visitor_id', 'revenue']]\n",
    "        .groupby('date', as_index=False)\n",
    "        .agg({'transaction_id': pd.Series.nunique, 'revenue': 'sum'})\n",
    "    )\n",
    "    ordersADaily.columns = ['date', 'ordersPerDateA', 'revenuePerDateA']\n",
    "\n",
    "    ordersACummulative = ordersADaily.apply(\n",
    "        lambda x: ordersADaily[ordersADaily['date'] <= x['date']].agg(\n",
    "            {'date': 'max', 'ordersPerDateA': 'sum', 'revenuePerDateA': 'sum'}\n",
    "        ),\n",
    "        axis=1,\n",
    "    ).sort_values(by=['date'])\n",
    "    ordersACummulative.columns = [\n",
    "        'date',\n",
    "        'ordersCummulativeA',\n",
    "        'revenueCummulativeA',\n",
    "    ]\n",
    "\n",
    "    ordersBDaily = (\n",
    "        orders[orders['group'] == 'B'][['date', 'transaction_id', 'visitor_id', 'revenue']]\n",
    "        .groupby('date', as_index=False)\n",
    "        .agg({'transaction_id': pd.Series.nunique, 'revenue': 'sum'})\n",
    "    )\n",
    "    ordersBDaily.columns = ['date', 'ordersPerDateB', 'revenuePerDateB']\n",
    "\n",
    "    ordersBCummulative = ordersBDaily.apply(\n",
    "        lambda x: ordersBDaily[ordersBDaily['date'] <= x['date']].agg(\n",
    "            {'date': 'max', 'ordersPerDateB': 'sum', 'revenuePerDateB': 'sum'}\n",
    "        ),\n",
    "        axis=1,\n",
    "    ).sort_values(by=['date'])\n",
    "    ordersBCummulative.columns = [\n",
    "        'date',\n",
    "        'ordersCummulativeB',\n",
    "        'revenueCummulativeB',\n",
    "    ]\n",
    "\n",
    "    data = (\n",
    "        ordersADaily.merge(\n",
    "            ordersBDaily, left_on='date', right_on='date', how='left'\n",
    "        )\n",
    "        .merge(ordersACummulative, left_on='date', right_on='date', how='left')\n",
    "        .merge(ordersBCummulative, left_on='date', right_on='date', how='left')\n",
    "        .merge(visitorsADaily, left_on='date', right_on='date', how='left')\n",
    "        .merge(visitorsBDaily, left_on='date', right_on='date', how='left')\n",
    "        .merge(visitorsACummulative, left_on='date', right_on='date', how='left')\n",
    "        .merge(visitorsBCummulative, left_on='date', right_on='date', how='left')\n",
    "    )\n",
    "\n",
    "\n",
    "    ordersByUsersA = (\n",
    "        orders[orders['group'] == 'A']\n",
    "        .groupby('visitor_id', as_index=False)\n",
    "        .agg({'transaction_id': pd.Series.nunique})\n",
    "    )\n",
    "    ordersByUsersA.columns = ['visitor_id', 'orders']\n",
    "\n",
    "    ordersByUsersB = (\n",
    "        orders[orders['group'] == 'B']\n",
    "        .groupby('visitor_id', as_index=False)\n",
    "        .agg({'transaction_id': pd.Series.nunique})\n",
    "    )\n",
    "    ordersByUsersB.columns = ['visitor_id', 'orders'] \n",
    "\n",
    "    sampleA = pd.concat([ordersByUsersA['orders'],pd.Series(0, index=np.arange(data['visitorsPerDateA'].sum()-\\\n",
    "    len(ordersByUsersA['orders'])), name='orders')],axis=0)\n",
    "\n",
    "    sampleB = pd.concat([ordersByUsersB['orders'],pd.Series(0, index=np.arange(data['visitorsPerDateB'].sum()-\\\n",
    "    len(ordersByUsersB['orders'])), name='orders')],axis=0)\n",
    "\n",
    "\n",
    "    print('p-value:',\"{0:.5f}\".format(stats.mannwhitneyu(sampleA, sampleB)[1]))\n",
    "    print('Прирост среднего числа заказов на посетителя группы B относительно группы A:',\\\n",
    "    \"{0:.5f}\".format(((data['ordersPerDateB']\\\n",
    "    .sum()/data['visitorsPerDateB'].sum())/(data['ordersPerDateA'].sum()/data['visitorsPerDateA'].sum())-1)*100),'%') \n",
    "    \n",
    "    return ordersByUsersA, ordersByUsersB; #вернём эти датафреймы, они далее понадобятся нам для фильтрации\n",
    "\n",
    "ordersByUsersA, ordersByUsersB = my_func(orders, visitors);\n"
   ]
  },
  {
   "cell_type": "markdown",
   "metadata": {},
   "source": [
    "**Вывод:** нулевую гипотезу о том, что статистически значимых различий в среднем числе заказов между группами нет, отвергаем. Разница статистически значима. Прирост составляет 13.8%."
   ]
  },
  {
   "cell_type": "markdown",
   "metadata": {},
   "source": [
    "##### Проверим гипотезу о том, что статистически значимых различий в среднем чеке заказа на посетителя между группами A и B нет. Проверку проведём по «сырым» данным. "
   ]
  },
  {
   "cell_type": "markdown",
   "metadata": {},
   "source": [
    "Сформулируем нулевую гипотезу:<br>\n",
    "статистически значимых различий в среднем чеке заказа на посетителя по \"сырым\" данным между группами A и B нет<br>\n",
    "Альтернативная гипотеза:<br>\n",
    " в среднем чеке заказа на посетителя по \"сырым\" данным между группами A и B значительная разница."
   ]
  },
  {
   "cell_type": "code",
   "execution_count": 24,
   "metadata": {},
   "outputs": [
    {
     "name": "stdout",
     "output_type": "stream",
     "text": [
      "p-value: 0.729\n",
      "Относительный прирост среднего чека заказов группы B к среднему чеку группы A: 25.871 %\n"
     ]
    }
   ],
   "source": [
    "print(\n",
    "    'p-value:',\n",
    "    '{0:.3f}'.\n",
    "    format(stats.mannwhitneyu(orders[orders['group']=='A']['revenue'], orders[orders['group']=='B']['revenue'])[1]))\n",
    "print(\n",
    "    'Относительный прирост среднего чека заказов группы B к среднему чеку группы A:',\n",
    "    '{0:.3f}'.\n",
    "    format((orders[orders['group']=='B']['revenue'].mean()/orders[orders['group']=='A']['revenue'].mean()-1)*100),'%') "
   ]
  },
  {
   "cell_type": "markdown",
   "metadata": {},
   "source": [
    "**Вывод:** нулевую гипотезу о том, что статистически значимых различий в среднем чеке заказа между группами нет, не отвергаем. \n",
    "Несмотря на относительный прирост на 25.871%."
   ]
  },
  {
   "cell_type": "markdown",
   "metadata": {},
   "source": [
    "##### Проверим гипотезу о том, что статистически значимых различий в среднем числе заказов на посетителя между группами A и B нет. Проверку проведём по «очищенным» данным."
   ]
  },
  {
   "cell_type": "markdown",
   "metadata": {},
   "source": [
    "Сформулируем нулевую гипотезу:<br>\n",
    "статистически значимых различий в среднем чеке заказа на посетителя по \"очищенным\" данным между группами A и B нет<br>\n",
    "Альтернативная гипотеза:<br>\n",
    "в среднем чеке заказа на посетителя по \"очищенным\" данным между группами A и B значительная разница."
   ]
  },
  {
   "cell_type": "code",
   "execution_count": 25,
   "metadata": {},
   "outputs": [],
   "source": [
    "#для начала \"очистим\" данные\n",
    "usersWithManyOrders = pd.concat(\n",
    "    [\n",
    "        ordersByUsersA[ordersByUsersA['orders'] > 3]['visitor_id'],\n",
    "        ordersByUsersB[ordersByUsersB['orders'] > 3]['visitor_id'],\n",
    "    ],\n",
    "    axis=0,\n",
    ")\n",
    "usersWithExpensiveOrders = orders[orders['revenue'] > 50000]['visitor_id']\n",
    "#найдем аномальных пользователей\n",
    "abnormalUsers = (\n",
    "    pd.concat([usersWithManyOrders, usersWithExpensiveOrders], axis=0)\n",
    "    .drop_duplicates()\n",
    "    .sort_values()\n",
    ")"
   ]
  },
  {
   "cell_type": "code",
   "execution_count": 26,
   "metadata": {
    "scrolled": false
   },
   "outputs": [
    {
     "name": "stdout",
     "output_type": "stream",
     "text": [
      "p-value: 0.01135\n",
      "Прирост среднего числа заказов на посетителя группы B относительно группы A: 15.84611 %\n"
     ]
    }
   ],
   "source": [
    "#передадим в функцию фильтрованный датасет orders\n",
    "my_func(orders[np.logical_not(orders['visitor_id'].isin(abnormalUsers))], visitors);\n"
   ]
  },
  {
   "cell_type": "markdown",
   "metadata": {},
   "source": [
    "**Вывод:** нулевую гипотезу о том, что статистически значимых различий в среднем числе заказов между группами нет, отвергаем. Разница статистически значима. Прирост составляет 15.8%\n",
    "\n",
    "\n",
    "Группа B значительно лучше группы A."
   ]
  },
  {
   "cell_type": "markdown",
   "metadata": {},
   "source": [
    "##### Проверим гипотезу о том, что статистически значимых различий в среднем чеке заказа на посетителя между группами A и B нет. Проверку проведём по «очищенным» данным. "
   ]
  },
  {
   "cell_type": "markdown",
   "metadata": {},
   "source": [
    "Сформулируем нулевую гипотезу:<br>\n",
    "статистически значимых различий в среднем числе заказов на посетителя по \"очищенным\" данным между группами A и B нет.<br>\n",
    "Альтернативная гипотеза:<br>\n",
    "в среднем числе заказов на посетителя по \"очищенным\" данным между группами A и B значительная разница."
   ]
  },
  {
   "cell_type": "code",
   "execution_count": 27,
   "metadata": {},
   "outputs": [
    {
     "name": "stdout",
     "output_type": "stream",
     "text": [
      "p-value: 0.819\n",
      "Относительный прирост среднего чека заказов группы B к среднему чеку группы A: 2.35688 %\n"
     ]
    }
   ],
   "source": [
    "print(\n",
    "    'p-value:',\n",
    "    '{0:.3f}'.format(\n",
    "        stats.mannwhitneyu(\n",
    "            orders[\n",
    "                np.logical_and(\n",
    "                    orders['group'] == 'A',\n",
    "                    np.logical_not(orders['visitor_id'].isin(abnormalUsers)),\n",
    "                )\n",
    "            ]['revenue'],\n",
    "            orders[\n",
    "                np.logical_and(\n",
    "                    orders['group'] == 'B',\n",
    "                    np.logical_not(orders['visitor_id'].isin(abnormalUsers)),\n",
    "                )\n",
    "            ]['revenue'],\n",
    "        )[1]\n",
    "    )\n",
    ")\n",
    "\n",
    "print(\n",
    "    'Относительный прирост среднего чека заказов группы B к среднему чеку группы A:',\n",
    "    \"{0:.5f}\".format((\n",
    "        orders[\n",
    "            np.logical_and(\n",
    "                orders['group'] == 'B',\n",
    "                np.logical_not(orders['visitor_id'].isin(abnormalUsers)),\n",
    "            )\n",
    "        ]['revenue'].mean()\n",
    "        / orders[\n",
    "            np.logical_and(\n",
    "                orders['group'] == 'A',\n",
    "                np.logical_not(orders['visitor_id'].isin(abnormalUsers)),\n",
    "            )\n",
    "        ]['revenue'].mean()\n",
    "        - 1)*100\n",
    "    )\n",
    "    ,'%'\n",
    ") "
   ]
  },
  {
   "cell_type": "markdown",
   "metadata": {},
   "source": [
    "**Вывод:** нулевую гипотезу о том, что статистически значимых различий в среднем чеке заказа между группами нет, не отвергаем.\n",
    "\n",
    "Статистически значимых отличий между группами нет. Тем более относительный прирост после очистки от аномалий составил всего лишь 2.36%."
   ]
  },
  {
   "cell_type": "markdown",
   "metadata": {},
   "source": [
    "#### Выводы из A/B теста\n",
    "\n",
    "По результатам проведенного тестирования следующие общие выводы:\n",
    "\n",
    "- Есть статистически значимое различие в среднем числе заказов на посетителя(проще говоря, в конверсии). По сырым данным группа B выигрывает на 13.8%, после фильтрации аномалий - на 15.8%\n",
    "- И по сырым данным, и после удаления аномалий нет статистически значимого различия по среднему чеку между группами.\n",
    "- Графики по среднему чеку резко \"скачут\", однозначных выводов по ним сделать нельзя\n",
    "- График относительного изменения кумулятивного среднего количества заказов на посетителя группы B к группе A (график конверсии) сначала показал рост по группе B, а потом зафиксировался.\n",
    "\n",
    "Таким образом, тест следует остановить, зафиксировав победу группы B по одной из метрик."
   ]
  },
  {
   "cell_type": "markdown",
   "metadata": {},
   "source": [
    "### Общий вывод по результатам исследования\n"
   ]
  },
  {
   "cell_type": "markdown",
   "metadata": {},
   "source": [
    "В результате приоритизации гипотез и проведения A/B теста для их проверки следует признать преспективными следующие гипотезы:\n",
    "\n",
    "* 7 - Добавить форму подписки на все основные страницы, чтобы собрать базу клиентов для email-рассылок\n",
    "* 2\t- Добавить блоки рекомендаций товаров на сайт интернет магазина, чтобы повысить конверсию и средний чек заказа\n",
    "* 0\t- Добавить два новых канала привлечения трафика, что позволит привлекать на 30% больше пользователей\n",
    "* 6\t- Показать на главной странице баннеры с актуальными акциями и распродажами, чтобы увеличить конверсию\n",
    "\n",
    "Согласно результатам A/B теста внесение данных изменений поможет увеличить конверсию из посетителя в покупателя.\n"
   ]
  }
 ],
 "metadata": {
  "ExecuteTimeLog": [
   {
    "duration": 4,
    "start_time": "2023-04-23T17:12:36.771Z"
   },
   {
    "duration": 823,
    "start_time": "2023-04-23T17:43:31.316Z"
   },
   {
    "duration": 4,
    "start_time": "2023-04-23T17:43:45.074Z"
   },
   {
    "duration": 2,
    "start_time": "2023-04-23T17:54:24.954Z"
   },
   {
    "duration": 63,
    "start_time": "2023-04-23T17:56:57.880Z"
   },
   {
    "duration": 8,
    "start_time": "2023-04-23T17:57:26.624Z"
   },
   {
    "duration": 9,
    "start_time": "2023-04-23T17:57:47.846Z"
   },
   {
    "duration": 2,
    "start_time": "2023-04-23T18:02:45.204Z"
   },
   {
    "duration": 4,
    "start_time": "2023-04-23T18:02:50.222Z"
   },
   {
    "duration": 7,
    "start_time": "2023-04-23T18:02:53.928Z"
   },
   {
    "duration": 9,
    "start_time": "2023-04-23T18:06:07.320Z"
   },
   {
    "duration": 7,
    "start_time": "2023-04-23T18:06:12.546Z"
   },
   {
    "duration": 7,
    "start_time": "2023-04-23T18:06:18.367Z"
   },
   {
    "duration": 7,
    "start_time": "2023-04-23T18:06:29.008Z"
   },
   {
    "duration": 8,
    "start_time": "2023-04-23T18:06:33.169Z"
   },
   {
    "duration": 7,
    "start_time": "2023-04-23T18:06:37.854Z"
   },
   {
    "duration": 8,
    "start_time": "2023-04-23T18:22:54.944Z"
   },
   {
    "duration": 4,
    "start_time": "2023-04-23T18:50:11.935Z"
   },
   {
    "duration": 73,
    "start_time": "2023-04-23T18:52:56.027Z"
   },
   {
    "duration": 12,
    "start_time": "2023-04-23T18:53:05.120Z"
   },
   {
    "duration": 11,
    "start_time": "2023-04-23T18:54:43.487Z"
   },
   {
    "duration": 66,
    "start_time": "2023-04-24T08:17:47.019Z"
   },
   {
    "duration": 47,
    "start_time": "2023-04-24T18:40:05.337Z"
   },
   {
    "duration": 832,
    "start_time": "2023-04-24T18:40:17.715Z"
   },
   {
    "duration": 3,
    "start_time": "2023-04-24T18:40:18.550Z"
   },
   {
    "duration": 95,
    "start_time": "2023-04-24T18:40:18.555Z"
   },
   {
    "duration": 14,
    "start_time": "2023-04-24T18:40:18.652Z"
   },
   {
    "duration": 4,
    "start_time": "2023-04-24T18:40:18.668Z"
   },
   {
    "duration": 15,
    "start_time": "2023-04-24T18:40:18.673Z"
   },
   {
    "duration": 11,
    "start_time": "2023-04-24T18:40:18.690Z"
   },
   {
    "duration": 141,
    "start_time": "2023-04-24T18:40:18.702Z"
   },
   {
    "duration": 69,
    "start_time": "2023-04-24T18:40:26.005Z"
   },
   {
    "duration": 68,
    "start_time": "2023-04-24T18:40:38.538Z"
   },
   {
    "duration": 8,
    "start_time": "2023-04-24T18:40:46.402Z"
   },
   {
    "duration": 10,
    "start_time": "2023-04-24T18:40:56.850Z"
   },
   {
    "duration": 66,
    "start_time": "2023-04-24T18:41:07.282Z"
   },
   {
    "duration": 74,
    "start_time": "2023-04-24T18:48:37.368Z"
   },
   {
    "duration": 17,
    "start_time": "2023-04-24T18:49:02.624Z"
   },
   {
    "duration": 6,
    "start_time": "2023-04-24T18:49:58.601Z"
   },
   {
    "duration": 5,
    "start_time": "2023-04-24T18:50:53.218Z"
   },
   {
    "duration": 5,
    "start_time": "2023-04-24T18:51:06.193Z"
   },
   {
    "duration": 17,
    "start_time": "2023-04-24T18:51:12.840Z"
   },
   {
    "duration": 14,
    "start_time": "2023-04-24T18:51:21.648Z"
   },
   {
    "duration": 20,
    "start_time": "2023-04-24T18:51:51.024Z"
   },
   {
    "duration": 8,
    "start_time": "2023-04-24T18:51:57.712Z"
   },
   {
    "duration": 6,
    "start_time": "2023-04-24T18:52:15.847Z"
   },
   {
    "duration": 15,
    "start_time": "2023-04-24T18:52:20.225Z"
   },
   {
    "duration": 16,
    "start_time": "2023-04-24T18:52:38.449Z"
   },
   {
    "duration": 4,
    "start_time": "2023-04-24T18:52:49.685Z"
   },
   {
    "duration": 15,
    "start_time": "2023-04-24T18:52:52.295Z"
   },
   {
    "duration": 16,
    "start_time": "2023-04-24T18:54:27.408Z"
   },
   {
    "duration": 80,
    "start_time": "2023-04-24T18:54:36.528Z"
   },
   {
    "duration": 13,
    "start_time": "2023-04-24T18:54:40.992Z"
   },
   {
    "duration": 754,
    "start_time": "2023-04-24T18:54:46.712Z"
   },
   {
    "duration": 707,
    "start_time": "2023-04-24T18:54:57.472Z"
   },
   {
    "duration": 719,
    "start_time": "2023-04-24T18:55:08.460Z"
   },
   {
    "duration": 654,
    "start_time": "2023-04-24T18:55:13.007Z"
   },
   {
    "duration": 3,
    "start_time": "2023-04-24T18:55:13.663Z"
   },
   {
    "duration": 57,
    "start_time": "2023-04-24T18:55:13.667Z"
   },
   {
    "duration": 13,
    "start_time": "2023-04-24T18:55:13.725Z"
   },
   {
    "duration": 4,
    "start_time": "2023-04-24T18:55:13.740Z"
   },
   {
    "duration": 27,
    "start_time": "2023-04-24T18:55:13.746Z"
   },
   {
    "duration": 11,
    "start_time": "2023-04-24T18:55:13.774Z"
   },
   {
    "duration": 83,
    "start_time": "2023-04-24T18:55:13.786Z"
   },
   {
    "duration": 17,
    "start_time": "2023-04-24T18:55:13.871Z"
   },
   {
    "duration": 32,
    "start_time": "2023-04-24T18:55:13.890Z"
   },
   {
    "duration": 15,
    "start_time": "2023-04-24T18:55:18.567Z"
   },
   {
    "duration": 15,
    "start_time": "2023-04-24T18:55:25.191Z"
   },
   {
    "duration": 12,
    "start_time": "2023-04-24T18:55:38.983Z"
   },
   {
    "duration": 7,
    "start_time": "2023-04-24T18:57:23.592Z"
   },
   {
    "duration": 3,
    "start_time": "2023-04-24T19:01:04.726Z"
   },
   {
    "duration": 9,
    "start_time": "2023-04-24T19:18:39.576Z"
   },
   {
    "duration": 803,
    "start_time": "2023-04-27T13:36:39.481Z"
   },
   {
    "duration": 3,
    "start_time": "2023-04-27T13:36:40.286Z"
   },
   {
    "duration": 79,
    "start_time": "2023-04-27T13:36:40.290Z"
   },
   {
    "duration": 11,
    "start_time": "2023-04-27T13:36:40.371Z"
   },
   {
    "duration": 12,
    "start_time": "2023-04-27T13:36:40.384Z"
   },
   {
    "duration": 11,
    "start_time": "2023-04-27T13:36:40.397Z"
   },
   {
    "duration": 9,
    "start_time": "2023-04-27T13:36:40.409Z"
   },
   {
    "duration": 165,
    "start_time": "2023-04-27T13:36:40.419Z"
   },
   {
    "duration": 16,
    "start_time": "2023-04-27T13:36:40.586Z"
   },
   {
    "duration": 6,
    "start_time": "2023-04-27T13:36:40.604Z"
   },
   {
    "duration": 79,
    "start_time": "2023-04-27T13:38:49.782Z"
   },
   {
    "duration": 16,
    "start_time": "2023-04-27T13:39:07.560Z"
   },
   {
    "duration": 12,
    "start_time": "2023-04-27T13:40:43.768Z"
   },
   {
    "duration": 63,
    "start_time": "2023-04-27T19:43:53.190Z"
   },
   {
    "duration": 866,
    "start_time": "2023-04-27T19:44:20.463Z"
   },
   {
    "duration": 4,
    "start_time": "2023-04-27T19:44:21.331Z"
   },
   {
    "duration": 101,
    "start_time": "2023-04-27T19:44:21.336Z"
   },
   {
    "duration": 13,
    "start_time": "2023-04-27T19:44:21.440Z"
   },
   {
    "duration": 4,
    "start_time": "2023-04-27T19:44:21.455Z"
   },
   {
    "duration": 16,
    "start_time": "2023-04-27T19:44:21.461Z"
   },
   {
    "duration": 18,
    "start_time": "2023-04-27T19:44:21.479Z"
   },
   {
    "duration": 168,
    "start_time": "2023-04-27T19:44:21.499Z"
   },
   {
    "duration": 29,
    "start_time": "2023-04-27T19:44:21.670Z"
   },
   {
    "duration": 20,
    "start_time": "2023-04-27T19:44:21.705Z"
   },
   {
    "duration": 607,
    "start_time": "2023-04-27T19:44:21.727Z"
   },
   {
    "duration": 529,
    "start_time": "2023-04-27T19:48:11.041Z"
   },
   {
    "duration": 675,
    "start_time": "2023-04-27T19:57:56.827Z"
   },
   {
    "duration": 532,
    "start_time": "2023-04-27T19:58:20.991Z"
   },
   {
    "duration": 565,
    "start_time": "2023-04-27T20:03:43.151Z"
   },
   {
    "duration": 557,
    "start_time": "2023-04-27T20:10:41.182Z"
   },
   {
    "duration": 553,
    "start_time": "2023-04-27T20:11:17.838Z"
   },
   {
    "duration": 555,
    "start_time": "2023-04-27T20:12:07.279Z"
   },
   {
    "duration": 603,
    "start_time": "2023-04-27T20:12:11.022Z"
   },
   {
    "duration": 527,
    "start_time": "2023-04-27T20:12:26.113Z"
   },
   {
    "duration": 546,
    "start_time": "2023-04-27T20:12:33.238Z"
   },
   {
    "duration": 714,
    "start_time": "2023-04-27T20:13:33.782Z"
   },
   {
    "duration": 580,
    "start_time": "2023-04-27T20:13:40.037Z"
   },
   {
    "duration": 499,
    "start_time": "2023-04-27T20:14:52.957Z"
   },
   {
    "duration": 530,
    "start_time": "2023-04-27T20:14:58.325Z"
   },
   {
    "duration": 51,
    "start_time": "2023-04-28T09:42:17.114Z"
   },
   {
    "duration": 796,
    "start_time": "2023-04-28T09:42:26.169Z"
   },
   {
    "duration": 3,
    "start_time": "2023-04-28T09:42:26.967Z"
   },
   {
    "duration": 118,
    "start_time": "2023-04-28T09:42:26.971Z"
   },
   {
    "duration": 12,
    "start_time": "2023-04-28T09:42:27.090Z"
   },
   {
    "duration": 22,
    "start_time": "2023-04-28T09:42:27.104Z"
   },
   {
    "duration": 30,
    "start_time": "2023-04-28T09:42:27.128Z"
   },
   {
    "duration": 42,
    "start_time": "2023-04-28T09:42:27.159Z"
   },
   {
    "duration": 199,
    "start_time": "2023-04-28T09:42:27.202Z"
   },
   {
    "duration": 18,
    "start_time": "2023-04-28T09:42:27.403Z"
   },
   {
    "duration": 39,
    "start_time": "2023-04-28T09:42:27.423Z"
   },
   {
    "duration": 592,
    "start_time": "2023-04-28T09:42:27.464Z"
   },
   {
    "duration": 263,
    "start_time": "2023-04-28T09:42:28.057Z"
   },
   {
    "duration": 73,
    "start_time": "2023-04-28T10:00:00.363Z"
   },
   {
    "duration": 296,
    "start_time": "2023-04-28T10:02:24.741Z"
   },
   {
    "duration": 357,
    "start_time": "2023-04-28T10:08:05.316Z"
   },
   {
    "duration": 271,
    "start_time": "2023-04-28T10:08:28.149Z"
   },
   {
    "duration": 289,
    "start_time": "2023-04-28T10:08:57.764Z"
   },
   {
    "duration": 373,
    "start_time": "2023-04-28T10:09:11.587Z"
   },
   {
    "duration": 297,
    "start_time": "2023-04-28T10:09:16.926Z"
   },
   {
    "duration": 324,
    "start_time": "2023-04-28T10:09:53.980Z"
   },
   {
    "duration": 210,
    "start_time": "2023-04-28T10:10:01.205Z"
   },
   {
    "duration": 477,
    "start_time": "2023-04-28T10:10:08.581Z"
   },
   {
    "duration": 231,
    "start_time": "2023-04-28T10:12:51.701Z"
   },
   {
    "duration": 61,
    "start_time": "2023-04-28T11:43:05.273Z"
   },
   {
    "duration": 67,
    "start_time": "2023-04-28T13:36:20.030Z"
   },
   {
    "duration": 260,
    "start_time": "2023-04-28T13:38:00.965Z"
   },
   {
    "duration": 201,
    "start_time": "2023-04-28T13:38:19.430Z"
   },
   {
    "duration": 336,
    "start_time": "2023-04-28T13:38:30.181Z"
   },
   {
    "duration": 222,
    "start_time": "2023-04-28T13:38:34.446Z"
   },
   {
    "duration": 217,
    "start_time": "2023-04-28T13:40:12.757Z"
   },
   {
    "duration": 5,
    "start_time": "2023-04-28T13:40:21.669Z"
   },
   {
    "duration": 198,
    "start_time": "2023-04-28T13:40:39.224Z"
   },
   {
    "duration": 193,
    "start_time": "2023-04-28T13:40:45.972Z"
   },
   {
    "duration": 242,
    "start_time": "2023-04-28T13:43:06.628Z"
   },
   {
    "duration": 5,
    "start_time": "2023-04-28T13:43:36.958Z"
   },
   {
    "duration": 271,
    "start_time": "2023-04-28T13:43:44.028Z"
   },
   {
    "duration": 306,
    "start_time": "2023-04-28T13:45:09.956Z"
   },
   {
    "duration": 351,
    "start_time": "2023-04-28T13:45:21.683Z"
   },
   {
    "duration": 400,
    "start_time": "2023-04-28T13:54:31.651Z"
   },
   {
    "duration": 291,
    "start_time": "2023-04-28T13:54:38.435Z"
   },
   {
    "duration": 58,
    "start_time": "2023-04-28T13:55:32.419Z"
   },
   {
    "duration": 10,
    "start_time": "2023-04-28T14:59:00.519Z"
   },
   {
    "duration": 11,
    "start_time": "2023-04-28T14:59:22.942Z"
   },
   {
    "duration": 215,
    "start_time": "2023-04-28T15:00:10.958Z"
   },
   {
    "duration": 171,
    "start_time": "2023-04-28T15:00:29.194Z"
   },
   {
    "duration": 5,
    "start_time": "2023-04-28T15:35:14.829Z"
   },
   {
    "duration": 5,
    "start_time": "2023-04-28T15:35:26.456Z"
   },
   {
    "duration": 441,
    "start_time": "2023-04-28T18:12:37.728Z"
   },
   {
    "duration": 762,
    "start_time": "2023-04-28T18:13:04.873Z"
   },
   {
    "duration": 166,
    "start_time": "2023-04-28T18:19:37.193Z"
   },
   {
    "duration": 139,
    "start_time": "2023-04-28T18:33:12.564Z"
   },
   {
    "duration": 146,
    "start_time": "2023-04-28T18:42:53.421Z"
   },
   {
    "duration": 5,
    "start_time": "2023-04-28T18:43:36.525Z"
   },
   {
    "duration": 19,
    "start_time": "2023-04-28T18:43:54.816Z"
   },
   {
    "duration": 14,
    "start_time": "2023-04-28T18:43:59.719Z"
   },
   {
    "duration": 16,
    "start_time": "2023-04-28T18:44:14.981Z"
   },
   {
    "duration": 769,
    "start_time": "2023-04-28T18:47:09.970Z"
   },
   {
    "duration": 711,
    "start_time": "2023-04-28T18:50:02.649Z"
   },
   {
    "duration": 576,
    "start_time": "2023-04-28T18:50:15.901Z"
   },
   {
    "duration": 586,
    "start_time": "2023-04-28T18:50:29.764Z"
   },
   {
    "duration": 742,
    "start_time": "2023-04-28T18:51:49.025Z"
   },
   {
    "duration": 619,
    "start_time": "2023-04-28T18:52:05.553Z"
   },
   {
    "duration": 1090,
    "start_time": "2023-04-28T18:52:31.472Z"
   },
   {
    "duration": 919,
    "start_time": "2023-04-28T18:53:55.821Z"
   },
   {
    "duration": 1000,
    "start_time": "2023-04-28T18:54:14.081Z"
   },
   {
    "duration": 733,
    "start_time": "2023-04-28T18:54:29.138Z"
   },
   {
    "duration": 810,
    "start_time": "2023-04-28T18:55:27.817Z"
   },
   {
    "duration": 109,
    "start_time": "2023-04-29T04:18:35.742Z"
   },
   {
    "duration": 1595,
    "start_time": "2023-04-29T04:18:43.831Z"
   },
   {
    "duration": 3,
    "start_time": "2023-04-29T04:18:45.429Z"
   },
   {
    "duration": 105,
    "start_time": "2023-04-29T04:18:45.434Z"
   },
   {
    "duration": 31,
    "start_time": "2023-04-29T04:18:45.542Z"
   },
   {
    "duration": 11,
    "start_time": "2023-04-29T04:18:45.578Z"
   },
   {
    "duration": 25,
    "start_time": "2023-04-29T04:18:45.591Z"
   },
   {
    "duration": 19,
    "start_time": "2023-04-29T04:18:45.618Z"
   },
   {
    "duration": 246,
    "start_time": "2023-04-29T04:18:45.639Z"
   },
   {
    "duration": 30,
    "start_time": "2023-04-29T04:18:45.887Z"
   },
   {
    "duration": 33,
    "start_time": "2023-04-29T04:18:45.919Z"
   },
   {
    "duration": 806,
    "start_time": "2023-04-29T04:18:45.956Z"
   },
   {
    "duration": 243,
    "start_time": "2023-04-29T04:18:46.764Z"
   },
   {
    "duration": 392,
    "start_time": "2023-04-29T04:18:47.009Z"
   },
   {
    "duration": 261,
    "start_time": "2023-04-29T04:18:47.405Z"
   },
   {
    "duration": 343,
    "start_time": "2023-04-29T04:18:47.669Z"
   },
   {
    "duration": 154,
    "start_time": "2023-04-29T04:18:48.014Z"
   },
   {
    "duration": 5,
    "start_time": "2023-04-29T04:18:48.172Z"
   },
   {
    "duration": 595,
    "start_time": "2023-04-29T04:18:48.179Z"
   },
   {
    "duration": 15,
    "start_time": "2023-04-29T04:19:45.909Z"
   },
   {
    "duration": 13,
    "start_time": "2023-04-29T04:31:53.323Z"
   },
   {
    "duration": 14,
    "start_time": "2023-04-29T04:32:04.923Z"
   },
   {
    "duration": 16,
    "start_time": "2023-04-29T04:32:08.899Z"
   },
   {
    "duration": 14,
    "start_time": "2023-04-29T04:32:27.882Z"
   },
   {
    "duration": 14,
    "start_time": "2023-04-29T04:32:35.395Z"
   },
   {
    "duration": 17,
    "start_time": "2023-04-29T04:32:42.171Z"
   },
   {
    "duration": 15,
    "start_time": "2023-04-29T04:32:58.913Z"
   },
   {
    "duration": 18,
    "start_time": "2023-04-29T04:33:07.195Z"
   },
   {
    "duration": 48,
    "start_time": "2023-04-29T12:42:05.469Z"
   },
   {
    "duration": 1182,
    "start_time": "2023-04-29T12:42:14.684Z"
   },
   {
    "duration": 3,
    "start_time": "2023-04-29T12:42:15.868Z"
   },
   {
    "duration": 87,
    "start_time": "2023-04-29T12:42:15.873Z"
   },
   {
    "duration": 14,
    "start_time": "2023-04-29T12:42:15.962Z"
   },
   {
    "duration": 10,
    "start_time": "2023-04-29T12:42:15.978Z"
   },
   {
    "duration": 46,
    "start_time": "2023-04-29T12:42:15.990Z"
   },
   {
    "duration": 12,
    "start_time": "2023-04-29T12:42:16.038Z"
   },
   {
    "duration": 189,
    "start_time": "2023-04-29T12:42:16.052Z"
   },
   {
    "duration": 25,
    "start_time": "2023-04-29T12:42:16.243Z"
   },
   {
    "duration": 14,
    "start_time": "2023-04-29T12:42:16.270Z"
   },
   {
    "duration": 593,
    "start_time": "2023-04-29T12:42:16.291Z"
   },
   {
    "duration": 209,
    "start_time": "2023-04-29T12:42:16.886Z"
   },
   {
    "duration": 361,
    "start_time": "2023-04-29T12:42:17.096Z"
   },
   {
    "duration": 236,
    "start_time": "2023-04-29T12:42:17.460Z"
   },
   {
    "duration": 319,
    "start_time": "2023-04-29T12:42:17.698Z"
   },
   {
    "duration": 115,
    "start_time": "2023-04-29T12:42:18.019Z"
   },
   {
    "duration": 4,
    "start_time": "2023-04-29T12:42:18.136Z"
   },
   {
    "duration": 134,
    "start_time": "2023-04-29T12:42:18.141Z"
   },
   {
    "duration": 489,
    "start_time": "2023-04-29T12:42:18.277Z"
   },
   {
    "duration": 11,
    "start_time": "2023-04-29T12:42:18.768Z"
   },
   {
    "duration": 198,
    "start_time": "2023-04-29T12:43:07.054Z"
   },
   {
    "duration": 123,
    "start_time": "2023-04-29T12:43:58.838Z"
   },
   {
    "duration": 66,
    "start_time": "2023-04-29T12:44:02.533Z"
   },
   {
    "duration": 120,
    "start_time": "2023-04-29T12:44:06.461Z"
   },
   {
    "duration": 8,
    "start_time": "2023-04-29T12:45:16.433Z"
   },
   {
    "duration": 45,
    "start_time": "2023-04-29T12:45:41.775Z"
   },
   {
    "duration": 6,
    "start_time": "2023-04-29T12:45:44.950Z"
   },
   {
    "duration": 7,
    "start_time": "2023-04-29T12:46:05.481Z"
   },
   {
    "duration": 2,
    "start_time": "2023-04-29T12:48:56.322Z"
   },
   {
    "duration": 4,
    "start_time": "2023-04-29T12:53:18.986Z"
   },
   {
    "duration": 4,
    "start_time": "2023-04-29T12:53:25.532Z"
   },
   {
    "duration": 9,
    "start_time": "2023-04-29T13:12:32.969Z"
   },
   {
    "duration": 4,
    "start_time": "2023-04-29T13:12:43.684Z"
   },
   {
    "duration": 27,
    "start_time": "2023-04-29T13:14:24.028Z"
   },
   {
    "duration": 64,
    "start_time": "2023-04-29T13:25:06.636Z"
   },
   {
    "duration": 28,
    "start_time": "2023-04-29T13:25:13.181Z"
   },
   {
    "duration": 7,
    "start_time": "2023-04-29T13:25:19.914Z"
   },
   {
    "duration": 5,
    "start_time": "2023-04-29T13:25:56.010Z"
   },
   {
    "duration": 99,
    "start_time": "2023-04-29T13:53:16.485Z"
   },
   {
    "duration": 5,
    "start_time": "2023-04-29T13:53:25.431Z"
   },
   {
    "duration": 4,
    "start_time": "2023-04-29T13:53:37.420Z"
   },
   {
    "duration": 17,
    "start_time": "2023-04-29T13:54:02.028Z"
   },
   {
    "duration": 463,
    "start_time": "2023-04-29T14:15:47.665Z"
   },
   {
    "duration": 62,
    "start_time": "2023-04-29T14:30:35.526Z"
   },
   {
    "duration": 537,
    "start_time": "2023-04-29T14:30:46.307Z"
   },
   {
    "duration": 445,
    "start_time": "2023-04-29T14:31:34.209Z"
   },
   {
    "duration": 434,
    "start_time": "2023-04-29T14:32:52.074Z"
   },
   {
    "duration": 197,
    "start_time": "2023-04-29T14:33:56.471Z"
   },
   {
    "duration": 435,
    "start_time": "2023-04-29T14:34:22.318Z"
   },
   {
    "duration": 467,
    "start_time": "2023-04-29T14:35:14.230Z"
   },
   {
    "duration": 1173,
    "start_time": "2023-04-29T15:05:54.808Z"
   },
   {
    "duration": 3,
    "start_time": "2023-04-29T15:05:55.983Z"
   },
   {
    "duration": 41,
    "start_time": "2023-04-29T15:05:55.994Z"
   },
   {
    "duration": 13,
    "start_time": "2023-04-29T15:05:56.037Z"
   },
   {
    "duration": 3,
    "start_time": "2023-04-29T15:05:56.052Z"
   },
   {
    "duration": 12,
    "start_time": "2023-04-29T15:05:56.057Z"
   },
   {
    "duration": 10,
    "start_time": "2023-04-29T15:05:56.070Z"
   },
   {
    "duration": 76,
    "start_time": "2023-04-29T15:05:56.082Z"
   },
   {
    "duration": 17,
    "start_time": "2023-04-29T15:05:56.160Z"
   },
   {
    "duration": 19,
    "start_time": "2023-04-29T15:05:56.181Z"
   },
   {
    "duration": 675,
    "start_time": "2023-04-29T15:05:56.202Z"
   },
   {
    "duration": 247,
    "start_time": "2023-04-29T15:05:56.879Z"
   },
   {
    "duration": 327,
    "start_time": "2023-04-29T15:05:57.128Z"
   },
   {
    "duration": 295,
    "start_time": "2023-04-29T15:05:57.458Z"
   },
   {
    "duration": 369,
    "start_time": "2023-04-29T15:05:57.756Z"
   },
   {
    "duration": 140,
    "start_time": "2023-04-29T15:05:58.127Z"
   },
   {
    "duration": 6,
    "start_time": "2023-04-29T15:05:58.269Z"
   },
   {
    "duration": 150,
    "start_time": "2023-04-29T15:05:58.277Z"
   },
   {
    "duration": 6,
    "start_time": "2023-04-29T15:05:58.429Z"
   },
   {
    "duration": 292,
    "start_time": "2023-04-29T15:05:58.437Z"
   },
   {
    "duration": 0,
    "start_time": "2023-04-29T15:05:58.731Z"
   },
   {
    "duration": 0,
    "start_time": "2023-04-29T15:05:58.732Z"
   },
   {
    "duration": 0,
    "start_time": "2023-04-29T15:05:58.734Z"
   },
   {
    "duration": 0,
    "start_time": "2023-04-29T15:05:58.735Z"
   },
   {
    "duration": 432,
    "start_time": "2023-04-29T15:12:05.889Z"
   },
   {
    "duration": 509,
    "start_time": "2023-04-29T15:12:21.673Z"
   },
   {
    "duration": 10,
    "start_time": "2023-04-29T15:15:56.318Z"
   },
   {
    "duration": 335,
    "start_time": "2023-04-29T15:18:05.585Z"
   },
   {
    "duration": 448,
    "start_time": "2023-04-29T15:46:24.410Z"
   },
   {
    "duration": 386,
    "start_time": "2023-04-29T15:48:02.231Z"
   },
   {
    "duration": 29,
    "start_time": "2023-04-29T15:50:17.215Z"
   },
   {
    "duration": 380,
    "start_time": "2023-04-29T15:50:45.439Z"
   },
   {
    "duration": 359,
    "start_time": "2023-04-29T15:51:20.134Z"
   },
   {
    "duration": 406,
    "start_time": "2023-04-29T15:51:37.436Z"
   },
   {
    "duration": 10,
    "start_time": "2023-04-29T15:53:24.974Z"
   },
   {
    "duration": 12,
    "start_time": "2023-04-29T15:53:39.726Z"
   },
   {
    "duration": 232,
    "start_time": "2023-04-29T16:03:58.029Z"
   },
   {
    "duration": 258,
    "start_time": "2023-04-29T16:04:03.812Z"
   },
   {
    "duration": 25,
    "start_time": "2023-04-29T16:04:38.609Z"
   },
   {
    "duration": 15,
    "start_time": "2023-04-29T16:04:46.507Z"
   },
   {
    "duration": 1070,
    "start_time": "2023-04-29T16:04:52.336Z"
   },
   {
    "duration": 3,
    "start_time": "2023-04-29T16:04:53.409Z"
   },
   {
    "duration": 49,
    "start_time": "2023-04-29T16:04:53.414Z"
   },
   {
    "duration": 18,
    "start_time": "2023-04-29T16:04:53.465Z"
   },
   {
    "duration": 22,
    "start_time": "2023-04-29T16:04:53.485Z"
   },
   {
    "duration": 30,
    "start_time": "2023-04-29T16:04:53.509Z"
   },
   {
    "duration": 12,
    "start_time": "2023-04-29T16:04:53.540Z"
   },
   {
    "duration": 96,
    "start_time": "2023-04-29T16:04:53.554Z"
   },
   {
    "duration": 19,
    "start_time": "2023-04-29T16:04:53.652Z"
   },
   {
    "duration": 15,
    "start_time": "2023-04-29T16:04:53.673Z"
   },
   {
    "duration": 630,
    "start_time": "2023-04-29T16:04:53.690Z"
   },
   {
    "duration": 253,
    "start_time": "2023-04-29T16:04:54.322Z"
   },
   {
    "duration": 335,
    "start_time": "2023-04-29T16:04:54.577Z"
   },
   {
    "duration": 215,
    "start_time": "2023-04-29T16:04:54.916Z"
   },
   {
    "duration": 299,
    "start_time": "2023-04-29T16:04:55.133Z"
   },
   {
    "duration": 133,
    "start_time": "2023-04-29T16:04:55.434Z"
   },
   {
    "duration": 5,
    "start_time": "2023-04-29T16:04:55.568Z"
   },
   {
    "duration": 157,
    "start_time": "2023-04-29T16:04:55.575Z"
   },
   {
    "duration": 6,
    "start_time": "2023-04-29T16:04:55.734Z"
   },
   {
    "duration": 419,
    "start_time": "2023-04-29T16:04:55.742Z"
   },
   {
    "duration": 35,
    "start_time": "2023-04-29T16:04:56.164Z"
   },
   {
    "duration": 11,
    "start_time": "2023-04-29T16:04:56.204Z"
   },
   {
    "duration": 26,
    "start_time": "2023-04-29T16:04:56.219Z"
   },
   {
    "duration": 18,
    "start_time": "2023-04-29T16:04:56.247Z"
   },
   {
    "duration": 264,
    "start_time": "2023-04-29T16:04:56.267Z"
   },
   {
    "duration": 237,
    "start_time": "2023-04-29T16:05:46.533Z"
   },
   {
    "duration": 449,
    "start_time": "2023-04-29T16:11:04.124Z"
   },
   {
    "duration": 422,
    "start_time": "2023-04-29T16:15:22.813Z"
   },
   {
    "duration": 612,
    "start_time": "2023-04-29T16:27:43.060Z"
   },
   {
    "duration": 390,
    "start_time": "2023-04-29T16:27:53.963Z"
   },
   {
    "duration": 12,
    "start_time": "2023-04-29T16:28:06.203Z"
   },
   {
    "duration": 668,
    "start_time": "2023-04-29T16:28:29.707Z"
   },
   {
    "duration": 338,
    "start_time": "2023-04-29T16:28:47.954Z"
   },
   {
    "duration": 11,
    "start_time": "2023-04-29T16:29:55.130Z"
   },
   {
    "duration": 335,
    "start_time": "2023-04-29T16:30:54.667Z"
   },
   {
    "duration": 398,
    "start_time": "2023-04-29T16:33:59.708Z"
   },
   {
    "duration": 328,
    "start_time": "2023-04-29T16:35:10.954Z"
   },
   {
    "duration": 358,
    "start_time": "2023-04-29T16:35:32.178Z"
   },
   {
    "duration": 1069,
    "start_time": "2023-04-29T16:35:40.904Z"
   },
   {
    "duration": 3,
    "start_time": "2023-04-29T16:35:41.975Z"
   },
   {
    "duration": 32,
    "start_time": "2023-04-29T16:35:41.979Z"
   },
   {
    "duration": 14,
    "start_time": "2023-04-29T16:35:42.012Z"
   },
   {
    "duration": 24,
    "start_time": "2023-04-29T16:35:42.028Z"
   },
   {
    "duration": 13,
    "start_time": "2023-04-29T16:35:42.054Z"
   },
   {
    "duration": 11,
    "start_time": "2023-04-29T16:35:42.069Z"
   },
   {
    "duration": 69,
    "start_time": "2023-04-29T16:35:42.082Z"
   },
   {
    "duration": 19,
    "start_time": "2023-04-29T16:35:42.152Z"
   },
   {
    "duration": 12,
    "start_time": "2023-04-29T16:35:42.173Z"
   },
   {
    "duration": 627,
    "start_time": "2023-04-29T16:35:42.187Z"
   },
   {
    "duration": 225,
    "start_time": "2023-04-29T16:35:42.816Z"
   },
   {
    "duration": 330,
    "start_time": "2023-04-29T16:35:43.044Z"
   },
   {
    "duration": 208,
    "start_time": "2023-04-29T16:35:43.376Z"
   },
   {
    "duration": 336,
    "start_time": "2023-04-29T16:35:43.592Z"
   },
   {
    "duration": 120,
    "start_time": "2023-04-29T16:35:43.929Z"
   },
   {
    "duration": 4,
    "start_time": "2023-04-29T16:35:44.051Z"
   },
   {
    "duration": 127,
    "start_time": "2023-04-29T16:35:44.057Z"
   },
   {
    "duration": 4,
    "start_time": "2023-04-29T16:35:44.191Z"
   },
   {
    "duration": 410,
    "start_time": "2023-04-29T16:35:44.196Z"
   },
   {
    "duration": 11,
    "start_time": "2023-04-29T16:35:44.607Z"
   },
   {
    "duration": 115,
    "start_time": "2023-04-29T16:35:44.620Z"
   },
   {
    "duration": 0,
    "start_time": "2023-04-29T16:35:44.736Z"
   },
   {
    "duration": 433,
    "start_time": "2023-04-29T16:36:14.035Z"
   },
   {
    "duration": 8,
    "start_time": "2023-04-29T16:36:24.901Z"
   },
   {
    "duration": 8,
    "start_time": "2023-04-29T16:36:29.650Z"
   },
   {
    "duration": 354,
    "start_time": "2023-04-29T16:36:30.962Z"
   },
   {
    "duration": 7,
    "start_time": "2023-04-29T17:36:37.166Z"
   },
   {
    "duration": 315,
    "start_time": "2023-04-29T17:36:49.621Z"
   },
   {
    "duration": 15,
    "start_time": "2023-04-29T17:47:05.164Z"
   },
   {
    "duration": 18,
    "start_time": "2023-04-29T17:47:27.443Z"
   },
   {
    "duration": 16,
    "start_time": "2023-04-29T17:47:57.716Z"
   },
   {
    "duration": 13,
    "start_time": "2023-04-29T17:51:18.307Z"
   },
   {
    "duration": 17,
    "start_time": "2023-04-29T17:51:48.020Z"
   },
   {
    "duration": 15,
    "start_time": "2023-04-29T17:55:38.228Z"
   },
   {
    "duration": 304,
    "start_time": "2023-04-29T18:12:00.308Z"
   },
   {
    "duration": 69,
    "start_time": "2023-04-29T18:12:04.765Z"
   },
   {
    "duration": 299,
    "start_time": "2023-04-29T18:12:08.218Z"
   },
   {
    "duration": 1252,
    "start_time": "2023-04-30T16:22:15.331Z"
   },
   {
    "duration": 3,
    "start_time": "2023-04-30T16:22:16.585Z"
   },
   {
    "duration": 42,
    "start_time": "2023-04-30T16:22:16.589Z"
   },
   {
    "duration": 15,
    "start_time": "2023-04-30T16:22:16.633Z"
   },
   {
    "duration": 3,
    "start_time": "2023-04-30T16:22:16.650Z"
   },
   {
    "duration": 16,
    "start_time": "2023-04-30T16:22:16.655Z"
   },
   {
    "duration": 11,
    "start_time": "2023-04-30T16:22:16.673Z"
   },
   {
    "duration": 80,
    "start_time": "2023-04-30T16:22:16.686Z"
   },
   {
    "duration": 18,
    "start_time": "2023-04-30T16:22:16.767Z"
   },
   {
    "duration": 17,
    "start_time": "2023-04-30T16:22:16.788Z"
   },
   {
    "duration": 641,
    "start_time": "2023-04-30T16:22:16.809Z"
   },
   {
    "duration": 276,
    "start_time": "2023-04-30T16:22:17.452Z"
   },
   {
    "duration": 302,
    "start_time": "2023-04-30T16:22:17.730Z"
   },
   {
    "duration": 212,
    "start_time": "2023-04-30T16:22:18.034Z"
   },
   {
    "duration": 321,
    "start_time": "2023-04-30T16:22:18.249Z"
   },
   {
    "duration": 149,
    "start_time": "2023-04-30T16:22:18.572Z"
   },
   {
    "duration": 5,
    "start_time": "2023-04-30T16:22:18.724Z"
   },
   {
    "duration": 148,
    "start_time": "2023-04-30T16:22:18.730Z"
   },
   {
    "duration": 4,
    "start_time": "2023-04-30T16:22:18.879Z"
   },
   {
    "duration": 433,
    "start_time": "2023-04-30T16:22:18.885Z"
   },
   {
    "duration": 11,
    "start_time": "2023-04-30T16:22:19.320Z"
   },
   {
    "duration": 7,
    "start_time": "2023-04-30T16:22:19.333Z"
   },
   {
    "duration": 368,
    "start_time": "2023-04-30T16:22:19.342Z"
   },
   {
    "duration": 17,
    "start_time": "2023-04-30T16:22:19.713Z"
   },
   {
    "duration": 44,
    "start_time": "2023-05-01T21:39:54.214Z"
   },
   {
    "duration": 1177,
    "start_time": "2023-05-01T21:40:10.907Z"
   },
   {
    "duration": 3,
    "start_time": "2023-05-01T21:40:12.086Z"
   },
   {
    "duration": 97,
    "start_time": "2023-05-01T21:40:12.090Z"
   },
   {
    "duration": 12,
    "start_time": "2023-05-01T21:40:12.188Z"
   },
   {
    "duration": 7,
    "start_time": "2023-05-01T21:40:12.202Z"
   },
   {
    "duration": 18,
    "start_time": "2023-05-01T21:40:12.211Z"
   },
   {
    "duration": 10,
    "start_time": "2023-05-01T21:40:12.230Z"
   },
   {
    "duration": 168,
    "start_time": "2023-05-01T21:40:12.241Z"
   },
   {
    "duration": 13,
    "start_time": "2023-05-01T21:40:12.411Z"
   },
   {
    "duration": 17,
    "start_time": "2023-05-01T21:40:12.425Z"
   },
   {
    "duration": 537,
    "start_time": "2023-05-01T21:40:12.444Z"
   },
   {
    "duration": 194,
    "start_time": "2023-05-01T21:40:12.983Z"
   },
   {
    "duration": 293,
    "start_time": "2023-05-01T21:40:13.179Z"
   },
   {
    "duration": 176,
    "start_time": "2023-05-01T21:40:13.476Z"
   },
   {
    "duration": 288,
    "start_time": "2023-05-01T21:40:13.654Z"
   },
   {
    "duration": 114,
    "start_time": "2023-05-01T21:40:13.944Z"
   },
   {
    "duration": 5,
    "start_time": "2023-05-01T21:40:14.059Z"
   },
   {
    "duration": 123,
    "start_time": "2023-05-01T21:40:14.066Z"
   },
   {
    "duration": 5,
    "start_time": "2023-05-01T21:40:14.191Z"
   },
   {
    "duration": 341,
    "start_time": "2023-05-01T21:40:14.197Z"
   },
   {
    "duration": 15,
    "start_time": "2023-05-01T21:40:14.540Z"
   },
   {
    "duration": 20,
    "start_time": "2023-05-01T21:40:14.556Z"
   },
   {
    "duration": 345,
    "start_time": "2023-05-01T21:40:14.578Z"
   },
   {
    "duration": 18,
    "start_time": "2023-05-01T21:40:14.924Z"
   },
   {
    "duration": 499,
    "start_time": "2023-05-01T21:47:27.870Z"
   },
   {
    "duration": 446,
    "start_time": "2023-05-01T21:48:20.613Z"
   },
   {
    "duration": 449,
    "start_time": "2023-05-01T21:48:24.685Z"
   },
   {
    "duration": 477,
    "start_time": "2023-05-01T21:49:25.470Z"
   },
   {
    "duration": 513,
    "start_time": "2023-05-01T21:49:37.381Z"
   },
   {
    "duration": 413,
    "start_time": "2023-05-01T21:49:59.557Z"
   },
   {
    "duration": 494,
    "start_time": "2023-05-01T21:50:05.829Z"
   },
   {
    "duration": 476,
    "start_time": "2023-05-01T21:51:16.861Z"
   },
   {
    "duration": 499,
    "start_time": "2023-05-01T21:51:22.326Z"
   },
   {
    "duration": 469,
    "start_time": "2023-05-01T21:51:24.969Z"
   },
   {
    "duration": 536,
    "start_time": "2023-05-01T21:51:32.533Z"
   },
   {
    "duration": 572,
    "start_time": "2023-05-01T21:51:34.512Z"
   },
   {
    "duration": 552,
    "start_time": "2023-05-01T21:51:44.447Z"
   },
   {
    "duration": 78,
    "start_time": "2023-05-01T21:51:47.757Z"
   },
   {
    "duration": 457,
    "start_time": "2023-05-01T21:51:55.084Z"
   },
   {
    "duration": 442,
    "start_time": "2023-05-01T21:52:00.075Z"
   },
   {
    "duration": 487,
    "start_time": "2023-05-01T21:52:04.260Z"
   },
   {
    "duration": 477,
    "start_time": "2023-05-01T21:52:10.820Z"
   },
   {
    "duration": 427,
    "start_time": "2023-05-01T21:52:27.412Z"
   },
   {
    "duration": 438,
    "start_time": "2023-05-01T21:52:56.223Z"
   },
   {
    "duration": 172,
    "start_time": "2023-05-01T21:55:28.228Z"
   },
   {
    "duration": 205,
    "start_time": "2023-05-01T21:55:39.757Z"
   },
   {
    "duration": 208,
    "start_time": "2023-05-01T21:56:21.816Z"
   },
   {
    "duration": 90,
    "start_time": "2023-05-01T21:57:49.015Z"
   },
   {
    "duration": 394,
    "start_time": "2023-05-01T21:57:59.978Z"
   },
   {
    "duration": 332,
    "start_time": "2023-05-01T21:58:09.712Z"
   },
   {
    "duration": 193,
    "start_time": "2023-05-01T21:58:58.596Z"
   },
   {
    "duration": 241,
    "start_time": "2023-05-01T21:59:20.828Z"
   },
   {
    "duration": 222,
    "start_time": "2023-05-01T21:59:33.133Z"
   },
   {
    "duration": 325,
    "start_time": "2023-05-01T22:00:53.107Z"
   },
   {
    "duration": 126,
    "start_time": "2023-05-01T22:03:11.925Z"
   },
   {
    "duration": 126,
    "start_time": "2023-05-01T22:03:17.924Z"
   },
   {
    "duration": 116,
    "start_time": "2023-05-01T22:03:24.100Z"
   },
   {
    "duration": 53,
    "start_time": "2023-05-02T03:43:36.045Z"
   },
   {
    "duration": 7,
    "start_time": "2023-05-02T03:44:00.183Z"
   },
   {
    "duration": 1449,
    "start_time": "2023-05-02T03:44:09.794Z"
   },
   {
    "duration": 3,
    "start_time": "2023-05-02T03:44:11.245Z"
   },
   {
    "duration": 77,
    "start_time": "2023-05-02T03:44:11.250Z"
   },
   {
    "duration": 19,
    "start_time": "2023-05-02T03:44:11.329Z"
   },
   {
    "duration": 5,
    "start_time": "2023-05-02T03:44:11.351Z"
   },
   {
    "duration": 19,
    "start_time": "2023-05-02T03:44:11.359Z"
   },
   {
    "duration": 15,
    "start_time": "2023-05-02T03:44:11.380Z"
   },
   {
    "duration": 173,
    "start_time": "2023-05-02T03:44:11.398Z"
   },
   {
    "duration": 24,
    "start_time": "2023-05-02T03:44:11.577Z"
   },
   {
    "duration": 16,
    "start_time": "2023-05-02T03:44:11.604Z"
   },
   {
    "duration": 725,
    "start_time": "2023-05-02T03:44:11.622Z"
   },
   {
    "duration": 258,
    "start_time": "2023-05-02T03:44:12.349Z"
   },
   {
    "duration": 409,
    "start_time": "2023-05-02T03:44:12.609Z"
   },
   {
    "duration": 258,
    "start_time": "2023-05-02T03:44:13.020Z"
   },
   {
    "duration": 390,
    "start_time": "2023-05-02T03:44:13.280Z"
   },
   {
    "duration": 147,
    "start_time": "2023-05-02T03:44:13.676Z"
   },
   {
    "duration": 5,
    "start_time": "2023-05-02T03:44:13.826Z"
   },
   {
    "duration": 156,
    "start_time": "2023-05-02T03:44:13.832Z"
   },
   {
    "duration": 154,
    "start_time": "2023-05-02T03:44:13.990Z"
   },
   {
    "duration": 0,
    "start_time": "2023-05-02T03:44:14.146Z"
   },
   {
    "duration": 0,
    "start_time": "2023-05-02T03:44:14.148Z"
   },
   {
    "duration": 0,
    "start_time": "2023-05-02T03:44:14.150Z"
   },
   {
    "duration": 0,
    "start_time": "2023-05-02T03:44:14.162Z"
   },
   {
    "duration": 0,
    "start_time": "2023-05-02T03:44:14.163Z"
   },
   {
    "duration": 0,
    "start_time": "2023-05-02T03:44:14.164Z"
   },
   {
    "duration": 0,
    "start_time": "2023-05-02T03:44:14.165Z"
   },
   {
    "duration": 10,
    "start_time": "2023-05-02T03:44:38.752Z"
   },
   {
    "duration": 18,
    "start_time": "2023-05-02T03:45:28.552Z"
   },
   {
    "duration": 20,
    "start_time": "2023-05-02T03:45:41.980Z"
   },
   {
    "duration": 16,
    "start_time": "2023-05-02T03:46:08.577Z"
   },
   {
    "duration": 6,
    "start_time": "2023-05-02T03:46:20.198Z"
   },
   {
    "duration": 13,
    "start_time": "2023-05-02T03:48:24.335Z"
   },
   {
    "duration": 9,
    "start_time": "2023-05-02T03:48:33.097Z"
   },
   {
    "duration": 16,
    "start_time": "2023-05-02T03:48:40.308Z"
   },
   {
    "duration": 16,
    "start_time": "2023-05-02T03:49:35.952Z"
   },
   {
    "duration": 27,
    "start_time": "2023-05-02T03:50:02.543Z"
   },
   {
    "duration": 16,
    "start_time": "2023-05-02T03:50:13.784Z"
   },
   {
    "duration": 448,
    "start_time": "2023-05-02T03:51:17.573Z"
   },
   {
    "duration": 439,
    "start_time": "2023-05-02T03:51:28.282Z"
   },
   {
    "duration": 11,
    "start_time": "2023-05-02T03:51:32.480Z"
   },
   {
    "duration": 15,
    "start_time": "2023-05-02T03:51:37.929Z"
   },
   {
    "duration": 12,
    "start_time": "2023-05-02T03:51:48.779Z"
   },
   {
    "duration": 17,
    "start_time": "2023-05-02T03:51:59.852Z"
   },
   {
    "duration": 419,
    "start_time": "2023-05-02T03:52:07.839Z"
   },
   {
    "duration": 149,
    "start_time": "2023-05-02T03:53:52.777Z"
   },
   {
    "duration": 248,
    "start_time": "2023-05-02T03:54:43.599Z"
   },
   {
    "duration": 142,
    "start_time": "2023-05-02T03:55:09.453Z"
   },
   {
    "duration": 164,
    "start_time": "2023-05-02T04:37:32.687Z"
   },
   {
    "duration": 158,
    "start_time": "2023-05-02T04:44:35.683Z"
   },
   {
    "duration": 187,
    "start_time": "2023-05-02T04:48:09.986Z"
   },
   {
    "duration": 1224,
    "start_time": "2023-05-02T04:52:19.531Z"
   },
   {
    "duration": 11,
    "start_time": "2023-05-02T04:52:20.757Z"
   },
   {
    "duration": 43,
    "start_time": "2023-05-02T04:52:20.771Z"
   },
   {
    "duration": 16,
    "start_time": "2023-05-02T04:52:20.817Z"
   },
   {
    "duration": 17,
    "start_time": "2023-05-02T04:52:20.835Z"
   },
   {
    "duration": 41,
    "start_time": "2023-05-02T04:52:20.854Z"
   },
   {
    "duration": 26,
    "start_time": "2023-05-02T04:52:20.897Z"
   },
   {
    "duration": 100,
    "start_time": "2023-05-02T04:52:20.925Z"
   },
   {
    "duration": 17,
    "start_time": "2023-05-02T04:52:21.027Z"
   },
   {
    "duration": 25,
    "start_time": "2023-05-02T04:52:21.047Z"
   },
   {
    "duration": 675,
    "start_time": "2023-05-02T04:52:21.074Z"
   },
   {
    "duration": 271,
    "start_time": "2023-05-02T04:52:21.751Z"
   },
   {
    "duration": 392,
    "start_time": "2023-05-02T04:52:22.024Z"
   },
   {
    "duration": 266,
    "start_time": "2023-05-02T04:52:22.418Z"
   },
   {
    "duration": 361,
    "start_time": "2023-05-02T04:52:22.685Z"
   },
   {
    "duration": 158,
    "start_time": "2023-05-02T04:52:23.048Z"
   },
   {
    "duration": 5,
    "start_time": "2023-05-02T04:52:23.208Z"
   },
   {
    "duration": 166,
    "start_time": "2023-05-02T04:52:23.214Z"
   },
   {
    "duration": 26,
    "start_time": "2023-05-02T04:52:23.382Z"
   },
   {
    "duration": 143,
    "start_time": "2023-05-02T04:52:23.410Z"
   },
   {
    "duration": 13,
    "start_time": "2023-05-02T04:52:23.554Z"
   },
   {
    "duration": 499,
    "start_time": "2023-05-02T04:52:23.580Z"
   },
   {
    "duration": 16,
    "start_time": "2023-05-02T04:52:24.090Z"
   },
   {
    "duration": 13,
    "start_time": "2023-05-02T04:52:24.108Z"
   },
   {
    "duration": 397,
    "start_time": "2023-05-02T04:52:24.122Z"
   },
   {
    "duration": 14,
    "start_time": "2023-05-02T04:52:24.521Z"
   },
   {
    "duration": 13,
    "start_time": "2023-05-02T11:18:35.716Z"
   },
   {
    "duration": 12,
    "start_time": "2023-05-02T11:18:49.540Z"
   },
   {
    "duration": 10,
    "start_time": "2023-05-02T11:19:21.557Z"
   },
   {
    "duration": 5,
    "start_time": "2023-05-02T11:20:16.823Z"
   },
   {
    "duration": 6,
    "start_time": "2023-05-02T11:20:21.282Z"
   },
   {
    "duration": 81,
    "start_time": "2023-05-02T11:24:32.241Z"
   },
   {
    "duration": 19,
    "start_time": "2023-05-02T11:24:41.146Z"
   },
   {
    "duration": 10,
    "start_time": "2023-05-02T11:24:56.533Z"
   },
   {
    "duration": 190,
    "start_time": "2023-05-02T11:26:53.284Z"
   },
   {
    "duration": 9,
    "start_time": "2023-05-02T11:27:03.663Z"
   },
   {
    "duration": 13,
    "start_time": "2023-05-02T11:27:18.445Z"
   },
   {
    "duration": 10,
    "start_time": "2023-05-02T11:27:33.246Z"
   },
   {
    "duration": 22,
    "start_time": "2023-05-02T11:30:12.757Z"
   },
   {
    "duration": 14,
    "start_time": "2023-05-02T11:31:03.244Z"
   },
   {
    "duration": 12,
    "start_time": "2023-05-02T11:31:16.098Z"
   },
   {
    "duration": 18,
    "start_time": "2023-05-02T11:31:33.425Z"
   },
   {
    "duration": 24,
    "start_time": "2023-05-02T11:31:41.653Z"
   },
   {
    "duration": 17,
    "start_time": "2023-05-02T11:31:56.084Z"
   },
   {
    "duration": 27,
    "start_time": "2023-05-02T11:32:13.684Z"
   },
   {
    "duration": 19,
    "start_time": "2023-05-02T11:32:30.003Z"
   },
   {
    "duration": 12,
    "start_time": "2023-05-02T11:32:33.992Z"
   },
   {
    "duration": 30,
    "start_time": "2023-05-02T11:34:10.589Z"
   },
   {
    "duration": 41,
    "start_time": "2023-05-02T11:34:30.492Z"
   },
   {
    "duration": 24,
    "start_time": "2023-05-02T11:35:03.258Z"
   },
   {
    "duration": 14,
    "start_time": "2023-05-02T11:35:13.540Z"
   },
   {
    "duration": 13,
    "start_time": "2023-05-02T11:35:25.325Z"
   },
   {
    "duration": 15,
    "start_time": "2023-05-02T11:36:45.616Z"
   },
   {
    "duration": 30,
    "start_time": "2023-05-02T11:38:51.245Z"
   },
   {
    "duration": 15,
    "start_time": "2023-05-02T11:39:17.732Z"
   },
   {
    "duration": 22,
    "start_time": "2023-05-02T11:40:20.232Z"
   },
   {
    "duration": 27,
    "start_time": "2023-05-02T11:40:26.898Z"
   },
   {
    "duration": 23,
    "start_time": "2023-05-02T11:40:30.642Z"
   },
   {
    "duration": 17,
    "start_time": "2023-05-02T11:40:36.814Z"
   },
   {
    "duration": 30,
    "start_time": "2023-05-02T11:40:50.284Z"
   },
   {
    "duration": 14,
    "start_time": "2023-05-02T11:42:21.524Z"
   },
   {
    "duration": 16,
    "start_time": "2023-05-02T11:43:37.419Z"
   },
   {
    "duration": 25,
    "start_time": "2023-05-02T11:45:39.120Z"
   },
   {
    "duration": 60,
    "start_time": "2023-05-02T11:47:02.160Z"
   },
   {
    "duration": 16,
    "start_time": "2023-05-02T11:47:08.430Z"
   },
   {
    "duration": 27,
    "start_time": "2023-05-02T11:47:23.190Z"
   },
   {
    "duration": 15,
    "start_time": "2023-05-02T11:47:40.533Z"
   },
   {
    "duration": 14,
    "start_time": "2023-05-02T11:47:57.614Z"
   },
   {
    "duration": 15,
    "start_time": "2023-05-02T11:48:08.213Z"
   },
   {
    "duration": 16,
    "start_time": "2023-05-02T11:48:31.412Z"
   },
   {
    "duration": 13,
    "start_time": "2023-05-02T11:57:33.294Z"
   },
   {
    "duration": 14,
    "start_time": "2023-05-02T11:57:42.181Z"
   },
   {
    "duration": 1993,
    "start_time": "2023-05-03T11:50:35.323Z"
   },
   {
    "duration": 3,
    "start_time": "2023-05-03T11:50:37.319Z"
   },
   {
    "duration": 91,
    "start_time": "2023-05-03T11:50:37.324Z"
   },
   {
    "duration": 14,
    "start_time": "2023-05-03T11:50:37.417Z"
   },
   {
    "duration": 14,
    "start_time": "2023-05-03T11:50:37.433Z"
   },
   {
    "duration": 18,
    "start_time": "2023-05-03T11:50:37.449Z"
   },
   {
    "duration": 12,
    "start_time": "2023-05-03T11:50:37.468Z"
   },
   {
    "duration": 201,
    "start_time": "2023-05-03T11:50:37.482Z"
   },
   {
    "duration": 32,
    "start_time": "2023-05-03T11:50:37.685Z"
   },
   {
    "duration": 14,
    "start_time": "2023-05-03T11:50:37.719Z"
   },
   {
    "duration": 19,
    "start_time": "2023-05-03T11:50:37.735Z"
   },
   {
    "duration": 741,
    "start_time": "2023-05-03T11:50:37.756Z"
   },
   {
    "duration": 253,
    "start_time": "2023-05-03T11:50:38.505Z"
   },
   {
    "duration": 400,
    "start_time": "2023-05-03T11:50:38.761Z"
   },
   {
    "duration": 274,
    "start_time": "2023-05-03T11:50:39.163Z"
   },
   {
    "duration": 380,
    "start_time": "2023-05-03T11:50:39.439Z"
   },
   {
    "duration": 153,
    "start_time": "2023-05-03T11:50:39.821Z"
   },
   {
    "duration": 16,
    "start_time": "2023-05-03T11:50:39.976Z"
   },
   {
    "duration": 169,
    "start_time": "2023-05-03T11:50:39.994Z"
   },
   {
    "duration": 11,
    "start_time": "2023-05-03T11:50:40.165Z"
   },
   {
    "duration": 184,
    "start_time": "2023-05-03T11:50:40.178Z"
   },
   {
    "duration": 5,
    "start_time": "2023-05-03T11:50:40.364Z"
   },
   {
    "duration": 550,
    "start_time": "2023-05-03T11:50:40.371Z"
   },
   {
    "duration": 12,
    "start_time": "2023-05-03T11:50:40.923Z"
   },
   {
    "duration": 9,
    "start_time": "2023-05-03T11:50:40.936Z"
   },
   {
    "duration": 402,
    "start_time": "2023-05-03T11:50:40.947Z"
   },
   {
    "duration": 17,
    "start_time": "2023-05-03T11:50:41.351Z"
   },
   {
    "duration": 11,
    "start_time": "2023-05-03T11:55:18.113Z"
   },
   {
    "duration": 131,
    "start_time": "2023-05-03T11:55:36.174Z"
   },
   {
    "duration": 7,
    "start_time": "2023-05-03T11:55:44.848Z"
   },
   {
    "duration": 6,
    "start_time": "2023-05-03T11:56:23.544Z"
   },
   {
    "duration": 13,
    "start_time": "2023-05-03T11:56:28.344Z"
   },
   {
    "duration": 12,
    "start_time": "2023-05-03T11:56:33.255Z"
   },
   {
    "duration": 9,
    "start_time": "2023-05-03T11:57:27.568Z"
   },
   {
    "duration": 7,
    "start_time": "2023-05-03T11:57:50.126Z"
   },
   {
    "duration": 12,
    "start_time": "2023-05-03T11:59:46.526Z"
   },
   {
    "duration": 18,
    "start_time": "2023-05-03T12:00:04.678Z"
   },
   {
    "duration": 14,
    "start_time": "2023-05-03T12:00:10.854Z"
   },
   {
    "duration": 13,
    "start_time": "2023-05-03T12:00:16.025Z"
   },
   {
    "duration": 15,
    "start_time": "2023-05-03T12:03:23.813Z"
   },
   {
    "duration": 17,
    "start_time": "2023-05-03T12:03:32.021Z"
   },
   {
    "duration": 15,
    "start_time": "2023-05-03T12:03:40.712Z"
   },
   {
    "duration": 50,
    "start_time": "2023-05-03T12:22:47.751Z"
   },
   {
    "duration": 1587,
    "start_time": "2023-07-05T09:12:20.496Z"
   },
   {
    "duration": 5,
    "start_time": "2023-07-05T09:12:22.086Z"
   },
   {
    "duration": 126,
    "start_time": "2023-07-05T09:12:22.093Z"
   },
   {
    "duration": 22,
    "start_time": "2023-07-05T09:12:22.221Z"
   },
   {
    "duration": 53,
    "start_time": "2023-07-05T09:12:22.245Z"
   },
   {
    "duration": 59,
    "start_time": "2023-07-05T09:12:22.300Z"
   },
   {
    "duration": 38,
    "start_time": "2023-07-05T09:12:22.365Z"
   },
   {
    "duration": 245,
    "start_time": "2023-07-05T09:12:22.405Z"
   },
   {
    "duration": 39,
    "start_time": "2023-07-05T09:12:22.655Z"
   },
   {
    "duration": 24,
    "start_time": "2023-07-05T09:12:22.696Z"
   },
   {
    "duration": 99,
    "start_time": "2023-07-05T09:12:22.722Z"
   },
   {
    "duration": 893,
    "start_time": "2023-07-05T09:12:22.824Z"
   },
   {
    "duration": 303,
    "start_time": "2023-07-05T09:12:23.719Z"
   },
   {
    "duration": 429,
    "start_time": "2023-07-05T09:12:24.025Z"
   },
   {
    "duration": 334,
    "start_time": "2023-07-05T09:12:24.457Z"
   },
   {
    "duration": 471,
    "start_time": "2023-07-05T09:12:24.797Z"
   },
   {
    "duration": 216,
    "start_time": "2023-07-05T09:12:25.270Z"
   },
   {
    "duration": 7,
    "start_time": "2023-07-05T09:12:25.490Z"
   },
   {
    "duration": 397,
    "start_time": "2023-07-05T09:12:25.499Z"
   },
   {
    "duration": 18,
    "start_time": "2023-07-05T09:12:25.898Z"
   },
   {
    "duration": 322,
    "start_time": "2023-07-05T09:12:25.922Z"
   },
   {
    "duration": 6,
    "start_time": "2023-07-05T09:12:26.247Z"
   },
   {
    "duration": 674,
    "start_time": "2023-07-05T09:12:26.256Z"
   },
   {
    "duration": 23,
    "start_time": "2023-07-05T09:12:26.942Z"
   },
   {
    "duration": 84,
    "start_time": "2023-07-05T09:12:26.973Z"
   },
   {
    "duration": 561,
    "start_time": "2023-07-05T09:12:27.064Z"
   },
   {
    "duration": 53,
    "start_time": "2023-07-05T09:12:27.634Z"
   },
   {
    "duration": 138,
    "start_time": "2023-07-05T11:57:44.512Z"
   },
   {
    "duration": 1142,
    "start_time": "2023-07-05T11:57:53.393Z"
   },
   {
    "duration": 3,
    "start_time": "2023-07-05T11:57:54.537Z"
   },
   {
    "duration": 65,
    "start_time": "2023-07-05T11:57:54.544Z"
   },
   {
    "duration": 16,
    "start_time": "2023-07-05T11:57:54.612Z"
   },
   {
    "duration": 10,
    "start_time": "2023-07-05T11:57:54.630Z"
   },
   {
    "duration": 42,
    "start_time": "2023-07-05T11:57:54.644Z"
   },
   {
    "duration": 14,
    "start_time": "2023-07-05T11:57:54.688Z"
   },
   {
    "duration": 124,
    "start_time": "2023-07-05T11:57:54.706Z"
   },
   {
    "duration": 27,
    "start_time": "2023-07-05T11:57:54.834Z"
   },
   {
    "duration": 19,
    "start_time": "2023-07-05T11:57:54.864Z"
   },
   {
    "duration": 19,
    "start_time": "2023-07-05T11:57:54.885Z"
   },
   {
    "duration": 663,
    "start_time": "2023-07-05T11:57:54.906Z"
   },
   {
    "duration": 244,
    "start_time": "2023-07-05T11:57:55.570Z"
   },
   {
    "duration": 391,
    "start_time": "2023-07-05T11:57:55.816Z"
   },
   {
    "duration": 285,
    "start_time": "2023-07-05T11:57:56.209Z"
   },
   {
    "duration": 371,
    "start_time": "2023-07-05T11:57:56.497Z"
   },
   {
    "duration": 132,
    "start_time": "2023-07-05T11:57:56.870Z"
   },
   {
    "duration": 5,
    "start_time": "2023-07-05T11:57:57.003Z"
   },
   {
    "duration": 156,
    "start_time": "2023-07-05T11:57:57.009Z"
   },
   {
    "duration": 11,
    "start_time": "2023-07-05T11:57:57.167Z"
   },
   {
    "duration": 154,
    "start_time": "2023-07-05T11:57:57.179Z"
   },
   {
    "duration": 5,
    "start_time": "2023-07-05T11:57:57.334Z"
   },
   {
    "duration": 481,
    "start_time": "2023-07-05T11:57:57.341Z"
   },
   {
    "duration": 136,
    "start_time": "2023-07-05T11:57:57.824Z"
   },
   {
    "duration": 0,
    "start_time": "2023-07-05T11:57:57.970Z"
   },
   {
    "duration": 0,
    "start_time": "2023-07-05T11:57:57.971Z"
   },
   {
    "duration": 0,
    "start_time": "2023-07-05T11:57:57.973Z"
   },
   {
    "duration": 0,
    "start_time": "2023-07-05T11:57:57.974Z"
   },
   {
    "duration": 9,
    "start_time": "2023-07-05T12:42:19.989Z"
   },
   {
    "duration": 8,
    "start_time": "2023-07-05T12:42:25.098Z"
   },
   {
    "duration": 8,
    "start_time": "2023-07-05T12:44:06.898Z"
   },
   {
    "duration": 346,
    "start_time": "2023-07-05T12:44:12.382Z"
   },
   {
    "duration": 4,
    "start_time": "2023-07-05T12:44:15.892Z"
   },
   {
    "duration": 9,
    "start_time": "2023-07-05T12:44:29.379Z"
   },
   {
    "duration": 5,
    "start_time": "2023-07-05T12:44:34.118Z"
   },
   {
    "duration": 8,
    "start_time": "2023-07-05T12:48:04.017Z"
   },
   {
    "duration": 8,
    "start_time": "2023-07-05T12:48:07.097Z"
   },
   {
    "duration": 4,
    "start_time": "2023-07-05T12:48:11.097Z"
   },
   {
    "duration": 5,
    "start_time": "2023-07-05T12:48:26.557Z"
   },
   {
    "duration": 342,
    "start_time": "2023-07-05T12:48:29.344Z"
   },
   {
    "duration": 13,
    "start_time": "2023-07-05T12:48:33.639Z"
   },
   {
    "duration": 376,
    "start_time": "2023-07-05T12:48:51.742Z"
   },
   {
    "duration": 1134,
    "start_time": "2023-07-06T03:49:01.304Z"
   },
   {
    "duration": 4,
    "start_time": "2023-07-06T03:49:02.440Z"
   },
   {
    "duration": 88,
    "start_time": "2023-07-06T03:49:02.446Z"
   },
   {
    "duration": 14,
    "start_time": "2023-07-06T03:49:02.536Z"
   },
   {
    "duration": 86,
    "start_time": "2023-07-06T03:49:02.552Z"
   },
   {
    "duration": 267,
    "start_time": "2023-07-06T03:49:02.640Z"
   },
   {
    "duration": 22,
    "start_time": "2023-07-06T03:49:02.908Z"
   },
   {
    "duration": 164,
    "start_time": "2023-07-06T03:49:02.931Z"
   },
   {
    "duration": 19,
    "start_time": "2023-07-06T03:49:03.097Z"
   },
   {
    "duration": 20,
    "start_time": "2023-07-06T03:49:03.119Z"
   },
   {
    "duration": 32,
    "start_time": "2023-07-06T03:49:03.141Z"
   },
   {
    "duration": 627,
    "start_time": "2023-07-06T03:49:03.175Z"
   },
   {
    "duration": 293,
    "start_time": "2023-07-06T03:49:03.804Z"
   },
   {
    "duration": 359,
    "start_time": "2023-07-06T03:49:04.099Z"
   },
   {
    "duration": 245,
    "start_time": "2023-07-06T03:49:04.460Z"
   },
   {
    "duration": 373,
    "start_time": "2023-07-06T03:49:04.707Z"
   },
   {
    "duration": 146,
    "start_time": "2023-07-06T03:49:05.082Z"
   },
   {
    "duration": 5,
    "start_time": "2023-07-06T03:49:05.232Z"
   },
   {
    "duration": 156,
    "start_time": "2023-07-06T03:49:05.239Z"
   },
   {
    "duration": 18,
    "start_time": "2023-07-06T03:49:05.396Z"
   },
   {
    "duration": 143,
    "start_time": "2023-07-06T03:49:05.420Z"
   },
   {
    "duration": 4,
    "start_time": "2023-07-06T03:49:05.565Z"
   },
   {
    "duration": 484,
    "start_time": "2023-07-06T03:49:05.571Z"
   },
   {
    "duration": 10,
    "start_time": "2023-07-06T03:49:06.057Z"
   },
   {
    "duration": 16,
    "start_time": "2023-07-06T03:49:06.069Z"
   },
   {
    "duration": 387,
    "start_time": "2023-07-06T03:49:06.086Z"
   },
   {
    "duration": 13,
    "start_time": "2023-07-06T03:49:06.475Z"
   }
  ],
  "kernelspec": {
   "display_name": "Python 3 (ipykernel)",
   "language": "python",
   "name": "python3"
  },
  "language_info": {
   "codemirror_mode": {
    "name": "ipython",
    "version": 3
   },
   "file_extension": ".py",
   "mimetype": "text/x-python",
   "name": "python",
   "nbconvert_exporter": "python",
   "pygments_lexer": "ipython3",
   "version": "3.9.16"
  },
  "toc": {
   "base_numbering": 1,
   "nav_menu": {
    "height": "404.99px",
    "width": "943.99px"
   },
   "number_sections": true,
   "sideBar": true,
   "skip_h1_title": true,
   "title_cell": "Table of Contents",
   "title_sidebar": "Contents",
   "toc_cell": false,
   "toc_position": {},
   "toc_section_display": true,
   "toc_window_display": false
  },
  "varInspector": {
   "cols": {
    "lenName": 16,
    "lenType": 16,
    "lenVar": 40
   },
   "kernels_config": {
    "python": {
     "delete_cmd_postfix": "",
     "delete_cmd_prefix": "del ",
     "library": "var_list.py",
     "varRefreshCmd": "print(var_dic_list())"
    },
    "r": {
     "delete_cmd_postfix": ") ",
     "delete_cmd_prefix": "rm(",
     "library": "var_list.r",
     "varRefreshCmd": "cat(var_dic_list()) "
    }
   },
   "types_to_exclude": [
    "module",
    "function",
    "builtin_function_or_method",
    "instance",
    "_Feature"
   ],
   "window_display": false
  }
 },
 "nbformat": 4,
 "nbformat_minor": 2
}
